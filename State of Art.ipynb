{
 "cells": [
  {
   "cell_type": "markdown",
   "metadata": {
    "slideshow": {
     "slide_type": "slide"
    }
   },
   "source": [
    "# State of the art multi-objective optimization algorithms\n",
    "\n",
    "Gabriel Henrique ALENCAR MEDEIROS\n",
    "\n",
    "---"
   ]
  },
  {
   "cell_type": "markdown",
   "metadata": {
    "slideshow": {
     "slide_type": "slide"
    }
   },
   "source": [
    "## Summary\n",
    "\n",
    "### 1. [Introduction](#Introduction)\n",
    "\n",
    "### 2. [Importing](#Importing)\n",
    "\n",
    "### 3. [Other Results](#AutresResultats)\n",
    "* #### 3.1. [The comparison between NSGA I and NSGAII](#NSGAIIVSNSGAI)\n",
    "* #### 3.2. [The comparison between NSGA I and NSGA II (MOGSA only continuously)](#COMPMOGSAANDGSA)\n",
    "* #### 3.3. [Comparison between different methods](#Comparaisonentredmethodes)\n",
    "\n",
    "### 4. [Our data](#donnees)\n",
    "\n",
    "### 5. [The methods](#Methodes)\n",
    "* #### 5.1. [Non-dominated Sorting Genetic Algorithm II](#NSGA2)\n",
    "* #### 5.2. [Non-dominated Sorting Genetic Algorithm III](#NSGA3)\n",
    "* #### 5.3. [SPEA2](#SPEA2)\n",
    "* #### 5.4. [Non-dominated Sorting Gravitational Search Algorithm](#NSGSA)\n",
    "* #### 5.5. [Simple Cull algorithm](#SimpleCullAlgorithm)\n",
    "* #### 5.6. [Pareto Simulated Annealing](#PSA)\n",
    "* #### 5.7. [Binary Multi-Objective Tabu Search](#Tabu)\n",
    "* #### 5.8. [Full Non-dominated Sorting and Ranking](#FullNSR)\n",
    "\n",
    "### 6. [Comparison of results](#ComparaisonDesResultats)\n",
    "\n",
    "### 7. [Conclusion](#Conclusion)\n",
    "\n",
    "### 8. [Appendix A - Other algorithms](#AnnexeA)\n",
    "* #### 8.1. [Pareto Ant Colony](#ParetoAntColony)\n",
    "* #### 8.2. [Multi-Objective Particle Swarm](#MOPS)\n",
    "---"
   ]
  },
  {
   "cell_type": "markdown",
   "metadata": {
    "slideshow": {
     "slide_type": "slide"
    }
   },
   "source": [
    "<a id='Introduction'></a>\n",
    "## 1. Introduction\n",
    "\n",
    "We will see here an analysis of several methods of optimization algorithms focusing on multi-objective optimization. For each method, we will have an introduction, a methodology, an implementation, a conclusion and a bibliography.\n",
    "\n",
    "> **The implementation will be on the same input and the codes can be found in the helpers.**\n",
    "\n",
    "---"
   ]
  },
  {
   "cell_type": "markdown",
   "metadata": {
    "slideshow": {
     "slide_type": "slide"
    }
   },
   "source": [
    "<a id='Importing'></a>\n",
    "## 2. Importing\n",
    "\n",
    "Here we will import the libraries needed to run the codes. We will have imported classical libraries found on the Internet and custom libraries where we will find the classes related to each method.\n",
    "\n",
    "---"
   ]
  },
  {
   "cell_type": "markdown",
   "metadata": {
    "slideshow": {
     "slide_type": "subslide"
    }
   },
   "source": [
    "### 2.1 Importing classic libraries"
   ]
  },
  {
   "cell_type": "code",
   "execution_count": 1,
   "metadata": {
    "slideshow": {
     "slide_type": "fragment"
    }
   },
   "outputs": [],
   "source": [
    "import time\n",
    "import numpy as np\n",
    "import pandas as pd\n",
    "import random\n",
    "from deap import benchmarks\n",
    "import copy"
   ]
  },
  {
   "cell_type": "markdown",
   "metadata": {
    "slideshow": {
     "slide_type": "subslide"
    }
   },
   "source": [
    "### 2.2. Importing custom libraries"
   ]
  },
  {
   "cell_type": "code",
   "execution_count": 2,
   "metadata": {
    "slideshow": {
     "slide_type": "fragment"
    }
   },
   "outputs": [],
   "source": [
    "#%pdb\n",
    "import ipynb.fs.full.jupyterHelpers as juphelpers\n",
    "import helpers"
   ]
  },
  {
   "cell_type": "markdown",
   "metadata": {
    "slideshow": {
     "slide_type": "slide"
    }
   },
   "source": [
    "<a id='AutresResultats'></a>\n",
    "\n",
    "## 3. Other Results\n",
    "---"
   ]
  },
  {
   "cell_type": "markdown",
   "metadata": {},
   "source": [
    "<a id='NSGAIIVSNSGAI'></a>\n",
    "### 3.1 The comparison between NSGSA I and NSGA II"
   ]
  },
  {
   "cell_type": "markdown",
   "metadata": {},
   "source": [
    "Image taken from [[1]](#BGNSGAII):"
   ]
  },
  {
   "cell_type": "markdown",
   "metadata": {},
   "source": [
    "![La comparaison entre NSGA I et NSGA II](images/paretoNSGAIEII.png)"
   ]
  },
  {
   "cell_type": "markdown",
   "metadata": {},
   "source": [
    "Le document à partir duquel l'image a été prise concluait que NSGAII était capable d'exploiter des solutions plus efficaces et non inférieures, montrant que la performance de NSGAII était supérieure à celle de NSGA en termes de maintien de la diversité entre les fronts pareto de NSGAII."
   ]
  },
  {
   "cell_type": "markdown",
   "metadata": {
    "slideshow": {
     "slide_type": "subslide"
    }
   },
   "source": [
    "<a id='COMPMOGSAANDGSA'></a>\n",
    "### 3.2 The comparison between NSGSA I and NSGA II (MOGSA only continuously)"
   ]
  },
  {
   "cell_type": "markdown",
   "metadata": {},
   "source": [
    "Image taken from [[2]](#BGNSGSA):"
   ]
  },
  {
   "cell_type": "markdown",
   "metadata": {
    "slideshow": {
     "slide_type": "fragment"
    }
   },
   "source": [
    "![La comparaison entre NSGSA et NSGA II](images/NSGSAComparation.png)"
   ]
  },
  {
   "cell_type": "markdown",
   "metadata": {},
   "source": [
    "In the article on which the above image was taken, several experiments using different algorithms compared to the MOGSA algorithm (multi-objective gravitational search algorithm) showed that, in continuous cases, MOGSA normally had to give excellent results compared to other algorithms."
   ]
  },
  {
   "cell_type": "markdown",
   "metadata": {
    "slideshow": {
     "slide_type": "subslide"
    }
   },
   "source": [
    "<a id='Comparaisonentredmethodes'></a>\n",
    "### 3.3 Comparison between different methods"
   ]
  },
  {
   "cell_type": "markdown",
   "metadata": {},
   "source": [
    "Image taken from [[3]](#BGComp):"
   ]
  },
  {
   "cell_type": "markdown",
   "metadata": {
    "slideshow": {
     "slide_type": "fragment"
    }
   },
   "source": [
    "![The comparison between different methods](images/ComparationDifferentMethods.png)"
   ]
  },
  {
   "cell_type": "markdown",
   "metadata": {},
   "source": [
    "We have shown here that NSGAII and SPEA2 have excellent results compared to several other genetic algorithms. It is from this image that these two methods have been favored and the same fact was proved effective in several other articles."
   ]
  },
  {
   "cell_type": "markdown",
   "metadata": {
    "slideshow": {
     "slide_type": "slide"
    }
   },
   "source": [
    "<a id='donnees'></a>\n",
    "\n",
    "## 4. Our data\n",
    "\n",
    "Here we will use the function **zdt1** to measure the quality of our methods. However, our real problem is a database with multiple attributes. Therefore, we will create a **list of points** that actually belong to the border of zdt1 plus Guainian variations around these points for discrete cases.\n",
    "\n",
    "For methods using binary versions, we will sort our set of points according to the distance between the points and the center and assign and binarize the label of the integers to each row of the matrix of points. We therefore use the labels that will indicate the real points.\n",
    "\n",
    "> We will use 3 types of metrics on the data:\n",
    "1. The convergence [[4]](#metriquesconvergenceetdiversity)\n",
    "2. The diversity [[4]](#metriquesconvergenceetdiversity)\n",
    "3. The hypervolume [[5]](#metriqueshypervolume)\n",
    "\n",
    "> For all methods, as we use optimization algorithms in multi-objective functions, we will find the **Pareto front** [[6]](#paretofrontexpl) rather than a single point.\n",
    "\n",
    "> As far as codes in continuous space are concerned, it has already been proved that 400 iterations are enough to find a good Pareto front. **150 iterations were chosen if you can see which algorithm has the fastest pareto approximation.**\n",
    "\n",
    "> **REMARK:** The points found in the input space that result in a Pareto front have been found by other optimization algorithms, so the points already have some diversity, convergence and hypervolume. Therefore, metrics are used to see if the algorithm finds the **best points provided** and compare the algorithms between them.\n",
    "\n",
    "---"
   ]
  },
  {
   "cell_type": "code",
   "execution_count": 3,
   "metadata": {},
   "outputs": [],
   "source": [
    "# Runs parameters\n",
    "number_of_runs = 30"
   ]
  },
  {
   "cell_type": "code",
   "execution_count": 4,
   "metadata": {},
   "outputs": [],
   "source": [
    "# Seed for all algorithms\n",
    "seed_for_all = 1\n",
    "random.seed(seed_for_all)"
   ]
  },
  {
   "cell_type": "code",
   "execution_count": 5,
   "metadata": {
    "slideshow": {
     "slide_type": "subslide"
    }
   },
   "outputs": [],
   "source": [
    "# Variables\n",
    "# Size of the database\n",
    "L_bad = 100 \n",
    "# Get 100 points from the Pareto list among a set of\n",
    "# (20,60,100,200,500) .\n",
    "# For 100 points, we have (\"convergence\": 0.0008737962149921756, \"diversité\": 0.3680103565901581,\n",
    "# \"hyper volume\": 120.659991) for points found.\n",
    "L_good = 100\n",
    "# Get total len\n",
    "L = L_bad + L_good\n",
    "benchData = juphelpers.bData.BenchmarkData(\"pareto_front\")"
   ]
  },
  {
   "cell_type": "code",
   "execution_count": 6,
   "metadata": {
    "slideshow": {
     "slide_type": "fragment"
    }
   },
   "outputs": [],
   "source": [
    "def resetInputZDT1(L_bad,L_good):\n",
    "    X_good = benchData.getPointsFromZDT1().dictOfPoints[L_good]\n",
    "    X_bad = juphelpers.DataGenerator.createRandomDataForZDT1(L_bad,seed_for_all)\n",
    "    X = X_good + X_bad\n",
    "    X = juphelpers.GeneralCases.normalizedSorting(X)\n",
    "    return X"
   ]
  },
  {
   "cell_type": "code",
   "execution_count": 7,
   "metadata": {
    "slideshow": {
     "slide_type": "fragment"
    }
   },
   "outputs": [],
   "source": [
    "# Paretos Front for zdt1\n",
    "X = resetInputZDT1(L_bad,L_good)\n",
    "optimal_front = benchData.getParetoFrontFromJSON(\"zdt1_front.json\")"
   ]
  },
  {
   "cell_type": "code",
   "execution_count": 8,
   "metadata": {},
   "outputs": [],
   "source": [
    "# Save and load\n",
    "folderOfCSVs = 'statistical_results'\n",
    "CsvFileNameContinu = 'en-Continu-' +str(number_of_runs)+ 'runs-'+str(L_good)+ 'good-'+str(L_bad)+'bad'\n",
    "CsvFileNameDiscret = 'en-Discret-' +str(number_of_runs)+ 'runs-'+str(L_good)+ 'good-'+str(L_bad)+'bad'\n",
    "saveEnabled = False"
   ]
  },
  {
   "cell_type": "code",
   "execution_count": 9,
   "metadata": {},
   "outputs": [],
   "source": [
    "# Parameters for all methods\n",
    "name_of_function = \"zdt1\"\n",
    "# L_good\n",
    "# L_bad\n",
    "number_of_instances = 100\n",
    "max_numer_of_iterations = 150\n",
    "dim_of_labels = len(str(bin(len(X)-1))[2:])"
   ]
  },
  {
   "cell_type": "code",
   "execution_count": 10,
   "metadata": {},
   "outputs": [],
   "source": [
    "# List of solutions\n",
    "list_of_solutions_continu = []\n",
    "list_of_solutions_discret = []"
   ]
  },
  {
   "cell_type": "markdown",
   "metadata": {
    "slideshow": {
     "slide_type": "slide"
    }
   },
   "source": [
    "<a id='Methodes'></a>\n",
    "\n",
    "## 5. The methods\n",
    "\n",
    "---"
   ]
  },
  {
   "cell_type": "markdown",
   "metadata": {
    "slideshow": {
     "slide_type": "subslide"
    }
   },
   "source": [
    "<a id='NSGA2'></a>\n",
    "### 5.1 Non-dominated Sorting Genetic Algorithm"
   ]
  },
  {
   "cell_type": "markdown",
   "metadata": {
    "slideshow": {
     "slide_type": "fragment"
    }
   },
   "source": [
    "#### 5.1.1 Introduction\n",
    "\n",
    "The NSGA algorithm aims to improve the adaptive adaptation of a population of candidate solutions to a Pareto front constrained by a set of objective functions. The algorithm uses an evolutionary process with substitutes for evolutionary operators, including selection, genetic crossing and genetic mutation. The population is classified in a hierarchy of subpopulations based on the order of Pareto dominance. The similarity between the members of each subgroup is evaluated on the Pareto front, and the resulting groups and similarity measures are used to promote a diverse front of non-dominated solutions.[[1]](#511NSG2)"
   ]
  },
  {
   "cell_type": "markdown",
   "metadata": {
    "slideshow": {
     "slide_type": "fragment"
    }
   },
   "source": [
    "#### 5.1.2 Méthodologie\n",
    "\n",
    "[[1]](#511NSG2)The algorithm below provides a pseudocode list of the non-dominated genetic sorting algorithm II (NSGA-II) to **minimize** a cost function.\n",
    "\n",
    "* The function **SortByRankAndDistance** orders the population in a hierarchy of non-dominated Pareto fronts.\n",
    "* **CrowdingDistanceAssignment** calculates the average distance between the members of each front on the front itself. Voir Deb et al. for a clear presentation of the pseudocode and an explanation of these functions [Deb2002].\n",
    "* The **CrossoverAndMutation** function executes the classical genetic operators of crossing and mutation of the genetic algorithm.\n",
    "* The **SelectParentsByRankAndDistance** and **SortByRankAndDistance** functions distinguish the members of the population according to their rank (order of precedence of the front to which the solution belongs), then the distance inside the front (calculated by **CrowdingDistanceAssignment**).\n",
    "\n",
    "![Pseudocode](images/pseudoNSGA.png)"
   ]
  },
  {
   "cell_type": "markdown",
   "metadata": {
    "slideshow": {
     "slide_type": "subslide"
    }
   },
   "source": [
    "#### 5.1.3 Implementation"
   ]
  },
  {
   "cell_type": "code",
   "execution_count": 11,
   "metadata": {},
   "outputs": [],
   "source": [
    "# Dictionaries to save statistics\n",
    "dictionaireContinu = {'Methods':'NSGAII', 'Data':'ZDT1', 'Number of runs':number_of_runs}\n",
    "dictionaireDiscret = {'Methods':'NSGAII', 'Data':'ZDT1', 'Number of runs':number_of_runs,\n",
    "                      'Real points':L_good,\n",
    "                     'Fake points':(L_bad)}"
   ]
  },
  {
   "cell_type": "markdown",
   "metadata": {
    "slideshow": {
     "slide_type": "fragment"
    }
   },
   "source": [
    "##### 5.1.3.1 Continuous case"
   ]
  },
  {
   "cell_type": "code",
   "execution_count": 12,
   "metadata": {},
   "outputs": [],
   "source": [
    "# Creating a solution manager\n",
    "NSGAII_solutions_continu = juphelpers.bData.single_solution(methodName=\"NSGAII\", function_name=name_of_function,\n",
    "                                                   good_points=L_good, bad_points=L_bad,\n",
    "                                                   number_of_runs=number_of_runs,\n",
    "                                                   numberOfPersons=number_of_instances,\n",
    "                                                   iters=max_numer_of_iterations,\n",
    "                                                   refpointToHyperV=[11,11],\n",
    "                                                   identif=\"NSGAII-Continu-ZDT1\",\n",
    "                                                   pareto_front=optimal_front,\n",
    "                                                   obj=benchmarks.zdt1,\n",
    "                                                   lb=0.0, ub=1.0,\n",
    "                                                   dim=30)"
   ]
  },
  {
   "cell_type": "code",
   "execution_count": 13,
   "metadata": {},
   "outputs": [],
   "source": [
    "# Create envrmentment (Toolbox, Stats, Logbook) for the continuous case\n",
    "envrironment = juphelpers.nsga2.create_Environment_For_NSGAII_Continuous_Case(0.0,\n",
    "                                                            1.0, 30,\n",
    "                                                            juphelpers.DataGenerator.uniform,\n",
    "                                                            benchmarks.zdt1,\n",
    "                                                            weights=(-1.0,-1.0),\n",
    "                                                            eta = 20.0, indpb=1/30)"
   ]
  },
  {
   "cell_type": "code",
   "execution_count": 14,
   "metadata": {
    "slideshow": {
     "slide_type": "fragment"
    }
   },
   "outputs": [],
   "source": [
    "for run in range(number_of_runs):\n",
    "    envrironment_copy = copy.deepcopy(envrironment)\n",
    "    # --------------------------------------------------------------------------------------------------\n",
    "\n",
    "    # Get a better population and statistics\n",
    "    start_time = time.time()\n",
    "    # ==================================================================================================\n",
    "    (pop_tot, stats) = juphelpers.nsga2.NSGAII_Continuous_Case(envrironment_copy, NGEN=max_numer_of_iterations,\n",
    "                                                             MU=number_of_instances,\n",
    "                                                              showprogress=False,\n",
    "                                                                seed = run)\n",
    "    # ==================================================================================================\n",
    "    delta_time = time.time() - start_time\n",
    "    \n",
    "    pop_tot.sort(key=lambda x: x.fitness.values)\n",
    "    pop = []\n",
    "    # Getting pop as a list\n",
    "    for p in pop_tot[::2]:\n",
    "        pop.append(list(p))\n",
    "    \n",
    "    # Add solution\n",
    "    NSGAII_solutions_continu.add_one_run(pop,delta_time)"
   ]
  },
  {
   "cell_type": "code",
   "execution_count": 15,
   "metadata": {
    "slideshow": {
     "slide_type": "subslide"
    }
   },
   "outputs": [],
   "source": [
    "# Average values\n",
    "(t,c,d,h) = NSGAII_solutions_continu.returnMeanValues()\n",
    "\n",
    "dictionaireContinu.update({'Average time of execution (s)':str(t)})\n",
    "dictionaireContinu.update({'Average convergence':str(c), 'Average diversity':str(d),\n",
    "                          'Average hypervolume':str(h)})"
   ]
  },
  {
   "cell_type": "code",
   "execution_count": 16,
   "metadata": {
    "scrolled": true
   },
   "outputs": [
    {
     "name": "stdout",
     "output_type": "stream",
     "text": [
      "Time of execution (s):  5.207257318496704\n",
      "Convergence:  0.005454278669398833\n",
      "Diversity:  0.2598724213942038\n",
      "hypervolume:  120.53790441268828\n"
     ]
    }
   ],
   "source": [
    "print(\"Time of execution (s): \",t)\n",
    "print(\"Convergence: \",c)\n",
    "print(\"Diversity: \",d)\n",
    "print(\"hypervolume: \",h)"
   ]
  },
  {
   "cell_type": "code",
   "execution_count": 17,
   "metadata": {
    "scrolled": true,
    "slideshow": {
     "slide_type": "fragment"
    }
   },
   "outputs": [
    {
     "data": {
      "image/png": "[encoded data removed]",
      "text/plain": [
       "<Figure size 432x288 with 1 Axes>"
      ]
     },
     "metadata": {
      "needs_background": "light"
     },
     "output_type": "display_data"
    }
   ],
   "source": [
    "# Plot\n",
    "juphelpers.plotFrontgraphics(np.array([benchmarks.zdt1(ind) for ind in NSGAII_solutions_continu.bestPop]),\n",
    "                  np.array(optimal_front),\n",
    "                  title = \"NSGAII Continuous Case\",xlabel=\"f1\",ylabel=\"f2\")"
   ]
  },
  {
   "cell_type": "code",
   "execution_count": 18,
   "metadata": {},
   "outputs": [],
   "source": [
    "# Add a solution to the list of solutions\n",
    "list_of_solutions_continu.append(NSGAII_solutions_continu)"
   ]
  },
  {
   "cell_type": "code",
   "execution_count": 19,
   "metadata": {},
   "outputs": [],
   "source": [
    "# Saving information\n",
    "if saveEnabled:\n",
    "    juphelpers.GeneralCases.save_dict(dictionaireContinu, folderOfCSVs, CsvFileNameContinu)"
   ]
  },
  {
   "cell_type": "markdown",
   "metadata": {
    "slideshow": {
     "slide_type": "subslide"
    }
   },
   "source": [
    "##### 5.1.3.2 Discrete case"
   ]
  },
  {
   "cell_type": "code",
   "execution_count": 20,
   "metadata": {},
   "outputs": [],
   "source": [
    "# Creating a solution handler\n",
    "NSGAII_solutions_discret = juphelpers.bData.single_solution(methodName=\"NSGAII\", function_name=name_of_function,\n",
    "                                                   good_points=L_good, bad_points=L_bad,\n",
    "                                                   number_of_runs=number_of_runs,\n",
    "                                                   numberOfPersons=number_of_instances,\n",
    "                                                   iters=max_numer_of_iterations,\n",
    "                                                   refpointToHyperV=[11,11],\n",
    "                                                   identif=\"NSGAII-Discret-ZDT1\",\n",
    "                                                   pareto_front=optimal_front,\n",
    "                                                   obj=benchmarks.zdt1,\n",
    "                                                   lb=0, ub=1,\n",
    "                                                   dim=dim_of_labels)"
   ]
  },
  {
   "cell_type": "code",
   "execution_count": 21,
   "metadata": {
    "slideshow": {
     "slide_type": "fragment"
    }
   },
   "outputs": [
    {
     "name": "stderr",
     "output_type": "stream",
     "text": [
      "/home/galencarmedeiro/.local/lib/python3.6/site-packages/deap/creator.py:141: RuntimeWarning: A class named 'FitnessCustom' has already been created and it will be overwritten. Consider deleting previous creation of that class or rename it.\n",
      "  RuntimeWarning)\n",
      "/home/galencarmedeiro/.local/lib/python3.6/site-packages/deap/creator.py:141: RuntimeWarning: A class named 'Individual' has already been created and it will be overwritten. Consider deleting previous creation of that class or rename it.\n",
      "  RuntimeWarning)\n"
     ]
    }
   ],
   "source": [
    "# Create envrironment (Toolbox, Stats, Logbook) for the discrete case\n",
    "envrironment = juphelpers.nsga2.create_Environment_For_NSGAII_Discrete_Case(X,\n",
    "                                                           dim_of_labels,\n",
    "                                                           (-1.0, -1.0),\n",
    "                                                           benchmarks.zdt1,\n",
    "                                                           random_labels=True,\n",
    "                                                           seed = seed_for_all)"
   ]
  },
  {
   "cell_type": "code",
   "execution_count": 22,
   "metadata": {
    "slideshow": {
     "slide_type": "fragment"
    }
   },
   "outputs": [],
   "source": [
    "for run in range(number_of_runs):\n",
    "    envrironment_copy = copy.deepcopy(envrironment)\n",
    "    # --------------------------------------------------------------------------------------------------\n",
    "\n",
    "    # Get a better population and statistics\n",
    "    start_time = time.time()\n",
    "    # ==================================================================================================\n",
    "    (pop_tot, logbook) = juphelpers.nsga2.NSGAII_Discrete_Case(envrironment_copy,\n",
    "                                                       NGEN=max_numer_of_iterations, MU=number_of_instances,\n",
    "                                                       CXPB=0.93, showprogress = False,\n",
    "                                                       seed = run)\n",
    "    # ==================================================================================================\n",
    "    delta_time = time.time() - start_time\n",
    "    \n",
    "    # Getting good population by labels\n",
    "    pop_tot.sort(key=lambda x: x.fitness.values)\n",
    "    label_pop = pop_tot[::2]\n",
    "    pop = [X[juphelpers.nsga2.binToInt(p)] for p in label_pop]\n",
    "    \n",
    "    # Add solution\n",
    "    NSGAII_solutions_discret.add_one_run(pop,delta_time)"
   ]
  },
  {
   "cell_type": "code",
   "execution_count": 23,
   "metadata": {
    "slideshow": {
     "slide_type": "subslide"
    }
   },
   "outputs": [],
   "source": [
    "# Convergence and diversity\n",
    "(t,c,d,h) = NSGAII_solutions_discret.returnMeanValues()\n",
    "\n",
    "dictionaireDiscret.update({'Average time of execution (s)':str(t)})\n",
    "dictionaireDiscret.update({'Average convergence':str(c), 'Average diversity':str(d),\n",
    "                          'Average hypervolume':str(h)})"
   ]
  },
  {
   "cell_type": "code",
   "execution_count": 24,
   "metadata": {},
   "outputs": [
    {
     "name": "stdout",
     "output_type": "stream",
     "text": [
      "Time of execution (s):  1.9095039049784341\n",
      "Convergence:  0.0007424333370297968\n",
      "Diversity:  0.31456712280860905\n",
      "hypervolume:  120.65446086258045\n"
     ]
    }
   ],
   "source": [
    "print(\"Time of execution (s): \",t)\n",
    "print(\"Convergence: \",c)\n",
    "print(\"Diversity: \",d)\n",
    "print(\"hypervolume: \",h)"
   ]
  },
  {
   "cell_type": "code",
   "execution_count": 25,
   "metadata": {
    "slideshow": {
     "slide_type": "fragment"
    }
   },
   "outputs": [
    {
     "data": {
      "image/png": "[encoded data removed]",
      "text/plain": [
       "<Figure size 432x288 with 1 Axes>"
      ]
     },
     "metadata": {
      "needs_background": "light"
     },
     "output_type": "display_data"
    }
   ],
   "source": [
    "juphelpers.plotFrontgraphics(np.array([benchmarks.zdt1(ind) for ind in NSGAII_solutions_discret.bestPop]),\n",
    "                  np.array(optimal_front),\n",
    "                  title = \"NSGAII Discrete Case\",xlabel=\"f1\",ylabel=\"f2\")"
   ]
  },
  {
   "cell_type": "code",
   "execution_count": 26,
   "metadata": {},
   "outputs": [],
   "source": [
    "# Add a solution to the list of solutions\n",
    "list_of_solutions_discret.append(NSGAII_solutions_discret)"
   ]
  },
  {
   "cell_type": "code",
   "execution_count": 27,
   "metadata": {},
   "outputs": [],
   "source": [
    "# Saving information\n",
    "if saveEnabled:\n",
    "    juphelpers.GeneralCases.save_dict(dictionaireDiscret, folderOfCSVs, CsvFileNameDiscret)"
   ]
  },
  {
   "cell_type": "markdown",
   "metadata": {
    "slideshow": {
     "slide_type": "subslide"
    }
   },
   "source": [
    "#### 5.1.4 Conclusion\n",
    "\n",
    "> We can observe an excellent performance for the continuous case.\n",
    "\n",
    "> Our algorithm in the binary case always finds a great convergence, but the divergence can sometimes be bad. This is because some elements of the population are identical, which increases the value of the measure. However, our elements do not perfectly detect all of the original Pareto curve, but all the points describe the curve well."
   ]
  },
  {
   "cell_type": "markdown",
   "metadata": {
    "slideshow": {
     "slide_type": "subslide"
    }
   },
   "source": [
    "#### 5.1.5 Bibliography\n",
    "<a id='511NSG2'></a>\n",
    "1. http://www.cleveralgorithms.com/nature-inspired/evolution/nsga.html"
   ]
  },
  {
   "cell_type": "markdown",
   "metadata": {},
   "source": [
    "<a id='NSGA3'></a>\n",
    "### 5.2 Non-dominated Sorting Genetic Algorithm III"
   ]
  },
  {
   "cell_type": "markdown",
   "metadata": {},
   "source": [
    "#### 5.3.1 Introduction\n",
    "\n"
   ]
  },
  {
   "cell_type": "markdown",
   "metadata": {},
   "source": [
    "[[1]](#NSGA3INTRO) NSGA-III is an optimization Pareto method that works well with problems with **multiple objectives** (three or more). The main difference between this algorithm and NSGA-II is that NSGA-III uses a **set of reference points to maintain the diversity of Pareto points during the search.** This results in a very uniform distribution of Pareto points in the goal space, even when the number of goals is large."
   ]
  },
  {
   "cell_type": "markdown",
   "metadata": {},
   "source": [
    "**NSGA-II on DTLZ2**\n",
    "Image taken from [[2]](#NSGA2DTLZ2IMAGE):\n",
    "![NSGA2 DTLZ2 IMAGE](images/DTLZ2-solved-by-NSGA-II.png)"
   ]
  },
  {
   "cell_type": "markdown",
   "metadata": {},
   "source": [
    "**NSGA-III on DTLZ2**\n",
    "Image taken from [[3]](#NSGA3DTLZ2IMAGE):\n",
    "![NSGA3 DTLZ2 IMAGE](images/DTLZ2-solved-by-NSGA-III.png)"
   ]
  },
  {
   "cell_type": "markdown",
   "metadata": {},
   "source": [
    "#### 5.2.2 Methodology"
   ]
  },
  {
   "cell_type": "markdown",
   "metadata": {},
   "source": [
    "**Pseudocode NSGA-III**\n",
    "Image taken from [[4]](#NSGA3DTLZ2IMAGE):\n",
    "![NSGA3 DTLZ2 IMAGE](images/NSGAIII-PSEUDO.png)"
   ]
  },
  {
   "cell_type": "markdown",
   "metadata": {},
   "source": [
    "#### 5.2.3 Implementation"
   ]
  },
  {
   "cell_type": "code",
   "execution_count": 28,
   "metadata": {},
   "outputs": [],
   "source": [
    "# Dictionaries to save statistics\n",
    "dictionaireContinuNSGA3 = {'Methods':'NSGAIII', 'Data':'ZDT1', 'Number of runs':number_of_runs}\n",
    "dictionaireDiscretNSGA3 = {'Methods':'NSGAIII', 'Data':'ZDT1', 'Number of runs':number_of_runs,\n",
    "                      'Real points':L_good,\n",
    "                     'Fake points':(L_bad)}"
   ]
  },
  {
   "cell_type": "markdown",
   "metadata": {},
   "source": [
    "##### 5.2.3.1 Continuous case"
   ]
  },
  {
   "cell_type": "code",
   "execution_count": 29,
   "metadata": {},
   "outputs": [],
   "source": [
    "# Creating a solution handler\n",
    "NSGAIII_solutions_continu = juphelpers.bData.single_solution(methodName=\"NSGAII\", function_name=name_of_function,\n",
    "                                                   good_points=L_good, bad_points=L_bad,\n",
    "                                                   number_of_runs=number_of_runs,\n",
    "                                                   numberOfPersons=number_of_instances,\n",
    "                                                   iters=max_numer_of_iterations,\n",
    "                                                   refpointToHyperV=[11,11],\n",
    "                                                   identif=\"NSGAII-Continu-ZDT1\",\n",
    "                                                   pareto_front=optimal_front,\n",
    "                                                   obj=benchmarks.zdt1,\n",
    "                                                   lb=0.0, ub=1.0,\n",
    "                                                   dim=30)"
   ]
  },
  {
   "cell_type": "code",
   "execution_count": 30,
   "metadata": {
    "scrolled": true
   },
   "outputs": [],
   "source": [
    "# Create envrmentment (Toolbox, Stats, Logbook, ref_points) for the continuous case\n",
    "envrironment = juphelpers.nsga3.create_Environment_For_NSGAIII_Continuous_Case(0.0, 1.0, 30,\n",
    "                                                 juphelpers.DataGenerator.uniform,benchmarks.zdt1,\n",
    "                                                 (-1.0,-1.0),indpb=1/30,\n",
    "                                                 P = number_of_instances//2)"
   ]
  },
  {
   "cell_type": "code",
   "execution_count": 31,
   "metadata": {},
   "outputs": [],
   "source": [
    "for run in range(number_of_runs):\n",
    "    envrironment_copy = copy.deepcopy(envrironment)\n",
    "    # --------------------------------------------------------------------------------------------------\n",
    "\n",
    "    # Get a better population and statistics\n",
    "    start_time = time.time()\n",
    "    # ==================================================================================================\n",
    "    (pop_tot, stats) = juphelpers.nsga3.NSGAIII_Continuous_Case(envrironment_copy, NGEN=max_numer_of_iterations,\n",
    "                                                               MU=number_of_instances, CXPB=0.93,\n",
    "                                                               MUTPB=1.0,\n",
    "                                                               seed=run,showprogress = False)\n",
    "    # ==================================================================================================\n",
    "    delta_time = time.time() - start_time\n",
    "    \n",
    "    pop_tot.sort(key=lambda x: x.fitness.values)\n",
    "    pop = []\n",
    "    # Getting pop as a list\n",
    "    for p in pop_tot:\n",
    "        pop.append(list(p))\n",
    "    \n",
    "    # Add solution\n",
    "    NSGAIII_solutions_continu.add_one_run(pop,delta_time)"
   ]
  },
  {
   "cell_type": "code",
   "execution_count": 32,
   "metadata": {
    "slideshow": {
     "slide_type": "subslide"
    }
   },
   "outputs": [],
   "source": [
    "# Convergence and diversity\n",
    "(t,c,d,h) = NSGAIII_solutions_continu.returnMeanValues()\n",
    "\n",
    "dictionaireContinuNSGA3.update({'Average time of execution (s)':str(t)})\n",
    "dictionaireContinuNSGA3.update({'Average convergence':str(c), 'Average diversity':str(d),\n",
    "                          'Average hypervolume':str(h)})"
   ]
  },
  {
   "cell_type": "code",
   "execution_count": 33,
   "metadata": {},
   "outputs": [
    {
     "name": "stdout",
     "output_type": "stream",
     "text": [
      "Time of execution (s):  2.332334550221761\n",
      "Convergence:  0.005973650585918111\n",
      "Diversity:  0.8102074999208172\n",
      "hypervolume:  120.51097712067266\n"
     ]
    }
   ],
   "source": [
    "print(\"Time of execution (s): \",t)\n",
    "print(\"Convergence: \",c)\n",
    "print(\"Diversity: \",d)\n",
    "print(\"hypervolume: \",h)"
   ]
  },
  {
   "cell_type": "code",
   "execution_count": 34,
   "metadata": {},
   "outputs": [],
   "source": [
    "# Add a solution to the list of solutions\n",
    "list_of_solutions_continu.append(NSGAIII_solutions_continu)"
   ]
  },
  {
   "cell_type": "code",
   "execution_count": 35,
   "metadata": {
    "slideshow": {
     "slide_type": "fragment"
    }
   },
   "outputs": [
    {
     "data": {
      "image/png": "[encoded data removed]",
      "text/plain": [
       "<Figure size 432x288 with 1 Axes>"
      ]
     },
     "metadata": {
      "needs_background": "light"
     },
     "output_type": "display_data"
    }
   ],
   "source": [
    "juphelpers.plotFrontgraphics(np.array([benchmarks.zdt1(ind) for ind in NSGAIII_solutions_continu.bestPop]),\n",
    "                  np.array(optimal_front),\n",
    "                  title = \"NSGAIII Continuous Case\",xlabel=\"f1\",ylabel=\"f2\")"
   ]
  },
  {
   "cell_type": "code",
   "execution_count": 36,
   "metadata": {},
   "outputs": [],
   "source": [
    "# Saving information\n",
    "if saveEnabled:\n",
    "    juphelpers.GeneralCases.save_dict(dictionaireContinuNSGA3, folderOfCSVs, CsvFileNameContinu)"
   ]
  },
  {
   "cell_type": "markdown",
   "metadata": {},
   "source": [
    "##### 5.2.3.2 Discrete case"
   ]
  },
  {
   "cell_type": "code",
   "execution_count": 37,
   "metadata": {},
   "outputs": [],
   "source": [
    "# Creating a solution handler\n",
    "NSGAIII_solutions_discret = juphelpers.bData.single_solution(methodName=\"NSGAIII\", function_name=name_of_function,\n",
    "                                                   good_points=L_good, bad_points=L_bad,\n",
    "                                                   number_of_runs=number_of_runs,\n",
    "                                                   numberOfPersons=number_of_instances,\n",
    "                                                   iters=max_numer_of_iterations,\n",
    "                                                   refpointToHyperV=[11,11],\n",
    "                                                   identif=\"NSGAIII-Discret-ZDT1\",\n",
    "                                                   pareto_front=optimal_front,\n",
    "                                                   obj=benchmarks.zdt1,\n",
    "                                                   lb=0, ub=1,\n",
    "                                                   dim=dim_of_labels)"
   ]
  },
  {
   "cell_type": "code",
   "execution_count": 38,
   "metadata": {},
   "outputs": [],
   "source": [
    "# Create envrironment (Toolbox, Stats, Logbook) for the discrete case\n",
    "envrironment = juphelpers.nsga3.create_Environment_For_NSGAIII_Discrete_Case(X,\n",
    "                                                       dim_of_labels,\n",
    "                                                       (-1.0, -1.0),\n",
    "                                                       benchmarks.zdt1,\n",
    "                                                       random_labels=True,\n",
    "                                                       seed = seed_for_all,\n",
    "                                                       P=number_of_instances)"
   ]
  },
  {
   "cell_type": "code",
   "execution_count": 39,
   "metadata": {},
   "outputs": [],
   "source": [
    "for run in range(number_of_runs):\n",
    "    envrironment_copy = copy.deepcopy(envrironment)\n",
    "    # --------------------------------------------------------------------------------------------------\n",
    "\n",
    "    # Get a better population and statistics\n",
    "    start_time = time.time()\n",
    "    # ==================================================================================================\n",
    "    (pop_tot, stats) = juphelpers.nsga3.NSGAIII_Discrete_Case(envrironment_copy, NGEN=max_numer_of_iterations,\n",
    "                                                               MU=number_of_instances, CXPB=0.93,\n",
    "                                                               MUTPB=1.0,\n",
    "                                                               seed=run,showprogress = False)\n",
    "    # ==================================================================================================\n",
    "    delta_time = time.time() - start_time\n",
    "    \n",
    "    # Getting good population by labels\n",
    "    pop_tot.sort(key=lambda x: x.fitness.values)\n",
    "    label_pop = pop_tot[::2]\n",
    "    pop = [X[juphelpers.nsga3.binToInt(p)] for p in label_pop]\n",
    "    \n",
    "    # Add solution\n",
    "    NSGAIII_solutions_discret.add_one_run(pop,delta_time)"
   ]
  },
  {
   "cell_type": "code",
   "execution_count": 40,
   "metadata": {},
   "outputs": [],
   "source": [
    "# Convergence and diversity\n",
    "(t,c,d,h) = NSGAIII_solutions_discret.returnMeanValues()\n",
    "\n",
    "dictionaireDiscretNSGA3.update({'Average time of execution (s)':str(t)})\n",
    "dictionaireDiscretNSGA3.update({'Average convergence':str(c), 'Average diversity':str(d),\n",
    "                          'Average hypervolume':str(h)})"
   ]
  },
  {
   "cell_type": "code",
   "execution_count": 41,
   "metadata": {},
   "outputs": [
    {
     "name": "stdout",
     "output_type": "stream",
     "text": [
      "Time of execution (s):  2.2551168759663898\n",
      "Convergence:  0.0009094598591988759\n",
      "Diversity:  0.41794287409139896\n",
      "hypervolume:  120.60037487811236\n"
     ]
    }
   ],
   "source": [
    "print(\"Time of execution (s): \",t)\n",
    "print(\"Convergence: \",c)\n",
    "print(\"Diversity: \",d)\n",
    "print(\"hypervolume: \",h)"
   ]
  },
  {
   "cell_type": "code",
   "execution_count": 42,
   "metadata": {
    "slideshow": {
     "slide_type": "fragment"
    }
   },
   "outputs": [
    {
     "data": {
      "image/png": "[encoded data removed]",
      "text/plain": [
       "<Figure size 432x288 with 1 Axes>"
      ]
     },
     "metadata": {
      "needs_background": "light"
     },
     "output_type": "display_data"
    }
   ],
   "source": [
    "juphelpers.plotFrontgraphics(np.array([benchmarks.zdt1(ind) for ind in NSGAIII_solutions_discret.bestPop]),\n",
    "                  np.array(optimal_front),\n",
    "                  title = \"NSGAIII Discrete Case\",xlabel=\"f1\",ylabel=\"f2\")"
   ]
  },
  {
   "cell_type": "code",
   "execution_count": 43,
   "metadata": {},
   "outputs": [],
   "source": [
    "# Add a solution to the list of solutions\n",
    "list_of_solutions_discret.append(NSGAIII_solutions_discret)"
   ]
  },
  {
   "cell_type": "code",
   "execution_count": 44,
   "metadata": {},
   "outputs": [],
   "source": [
    "# Saving information\n",
    "if saveEnabled:\n",
    "    juphelpers.GeneralCases.save_dict(dictionaireDiscretNSGA3, folderOfCSVs, CsvFileNameDiscret)"
   ]
  },
  {
   "cell_type": "markdown",
   "metadata": {},
   "source": [
    "#### 5.2.4 Conclusion\n"
   ]
  },
  {
   "cell_type": "markdown",
   "metadata": {},
   "source": [
    "Note that the algorithm gives good results, but NASGAII seems to represent the best pareto front of zdt1. However, we can see, according to the introductory images, that the NSGAIII has better performance on more complex Pareto fronts on larger output spaces."
   ]
  },
  {
   "cell_type": "markdown",
   "metadata": {},
   "source": [
    "#### 5.2.5 Bibliography\n",
    "\n",
    "<a id='NSGA3INTRO'></a>\n",
    "1. http://www.redcedartech.com/docs/HEEDSMDO/Study_Tab/Parameter_Optimization_Projects/NAGAIII.htm\n",
    "<a id='NSGA2DTLZ2IMAGE'></a>\n",
    "2. https://www.researchgate.net/figure/DTLZ2-solved-by-NSGA-II_fig1_258386891\n",
    "<a id='NSGA3DTLZ2IMAGE'></a>\n",
    "3. https://www.cogentoa.com/article/10.1080/23311916.2016.1269383.pdf \n",
    "<a id='NSGA3PSEUDO'></a>\n",
    "4. https://www.researchgate.net/figure/Pseudocode-of-NSGA-III-main-procedure_fig12_265552713"
   ]
  },
  {
   "cell_type": "markdown",
   "metadata": {
    "slideshow": {
     "slide_type": "subslide"
    }
   },
   "source": [
    "<a id='SPEA2'></a>\n",
    "### 5.3 SPEA2: Improving the Strength Pareto Evolutionary Algorithm"
   ]
  },
  {
   "cell_type": "markdown",
   "metadata": {},
   "source": [
    "#### 5.3.1 Introduction\n",
    "\n",
    "[[1]](#531SPEA2Paper)SPEA2 is another multi-objective genetic algorithm, but it has tried to eliminate the potential weaknesses of its predecessor (SPEA) and integrate the latest results to design a powerful evolutionary multiobjective optimization (EMO) algorithm updated. The main differences between SPEA2 and SPEA are as follows:\n",
    "\n",
    "1. An improved fitness assignment scheme is used, which takes into account the number of individuals it dominates and over which it dominates.\n",
    "2. A near neighbor density estimation technique is incorporated which allows more precise guidance of the search process.\n",
    "3. A new method of archival truncation guarantees the preservation of boundary solutions.\n"
   ]
  },
  {
   "cell_type": "markdown",
   "metadata": {},
   "source": [
    "#### 5.3.2 Methodology\n",
    "![PseudocodeSPEA2](images/spea2pseudocode.png)"
   ]
  },
  {
   "cell_type": "markdown",
   "metadata": {},
   "source": [
    "#### 5.3.3 Implementation"
   ]
  },
  {
   "cell_type": "code",
   "execution_count": 45,
   "metadata": {},
   "outputs": [],
   "source": [
    "# Dictionaries to save statistics\n",
    "dictionaireContinuSPEA2 = {'Methods':'SPEA2', 'Data':'ZDT1', 'Number of runs':number_of_runs}\n",
    "dictionaireDiscretSPEA2 = {'Methods':'SPEA2', 'Data':'ZDT1', 'Number of runs':number_of_runs,\n",
    "                      'Real points':L_good,\n",
    "                     'Fake points':(L_bad)}"
   ]
  },
  {
   "cell_type": "markdown",
   "metadata": {
    "slideshow": {
     "slide_type": "fragment"
    }
   },
   "source": [
    "##### 5.3.3.1 Continuous case"
   ]
  },
  {
   "cell_type": "code",
   "execution_count": 46,
   "metadata": {},
   "outputs": [],
   "source": [
    "# Creating a solution handler\n",
    "SPEA2_solutions_continu = juphelpers.bData.single_solution(methodName=\"SPEA2\", function_name=name_of_function,\n",
    "                                                   good_points=L_good, bad_points=L_bad,\n",
    "                                                   number_of_runs=number_of_runs,\n",
    "                                                   numberOfPersons=number_of_instances,\n",
    "                                                   iters=max_numer_of_iterations,\n",
    "                                                   refpointToHyperV=[11,11],\n",
    "                                                   identif=\"SPEA2-Continu-ZDT1\",\n",
    "                                                   pareto_front=optimal_front,\n",
    "                                                   obj=benchmarks.zdt1,\n",
    "                                                   lb=0.0, ub=1.0,\n",
    "                                                   dim=30)"
   ]
  },
  {
   "cell_type": "code",
   "execution_count": 47,
   "metadata": {
    "slideshow": {
     "slide_type": "fragment"
    }
   },
   "outputs": [],
   "source": [
    "# Create environment (Toolbox, Stats, Logbook) for the continuous case\n",
    "envrironment = juphelpers.spea2.create_Environment_For_SPEA2_Continuous_Case(0.0,\n",
    "                                                            1.0, 30,\n",
    "                                                            juphelpers.DataGenerator.uniform,\n",
    "                                                            benchmarks.zdt1,\n",
    "                                                            weights=(-1.0,-1.0),\n",
    "                                                            eta = 20.0, indpb=1/30)"
   ]
  },
  {
   "cell_type": "code",
   "execution_count": 48,
   "metadata": {
    "slideshow": {
     "slide_type": "fragment"
    }
   },
   "outputs": [],
   "source": [
    "for run in range(number_of_runs):\n",
    "    envrironment_copy = copy.deepcopy(envrironment)\n",
    "    # --------------------------------------------------------------------------------------------------\n",
    "\n",
    "    # Get a better population and statistics\n",
    "    start_time = time.time()\n",
    "    # ==================================================================================================\n",
    "    (pop_tot, stats) = juphelpers.spea2.SPEA2_Continuous_Case(envrironment_copy, NGEN=max_numer_of_iterations,\n",
    "                                                             MU=number_of_instances,CXPB=0.93,\n",
    "                                                             seed=run,\n",
    "                                                             showprogress=False)\n",
    "    # ==================================================================================================\n",
    "    delta_time = time.time() - start_time\n",
    "    \n",
    "    pop_tot.sort(key=lambda x: x.fitness.values)\n",
    "    pop = []\n",
    "    # Getting pop as a list\n",
    "    for p in pop_tot:\n",
    "        pop.append(list(p))\n",
    "    \n",
    "    # Add solution\n",
    "    SPEA2_solutions_continu.add_one_run(pop,delta_time)"
   ]
  },
  {
   "cell_type": "code",
   "execution_count": 49,
   "metadata": {
    "slideshow": {
     "slide_type": "subslide"
    }
   },
   "outputs": [],
   "source": [
    "# Convergence and diversity\n",
    "(t,c,d,h) = SPEA2_solutions_continu.returnMeanValues()\n",
    "\n",
    "dictionaireContinuSPEA2.update({'Average time of execution (s)':str(t)})\n",
    "dictionaireContinuSPEA2.update({'Average convergence':str(c), 'Average diversity':str(d),\n",
    "                          'Average hypervolume':str(h)})"
   ]
  },
  {
   "cell_type": "code",
   "execution_count": 50,
   "metadata": {},
   "outputs": [
    {
     "name": "stdout",
     "output_type": "stream",
     "text": [
      "Time of execution (s):  9.041295035680134\n",
      "Convergence:  0.07895680796611654\n",
      "Diversity:  0.9993994078909225\n",
      "hypervolume:  113.6259588216765\n"
     ]
    }
   ],
   "source": [
    "print(\"Time of execution (s): \",t)\n",
    "print(\"Convergence: \",c)\n",
    "print(\"Diversity: \",d)\n",
    "print(\"hypervolume: \",h)"
   ]
  },
  {
   "cell_type": "code",
   "execution_count": 51,
   "metadata": {},
   "outputs": [],
   "source": [
    "# Add a solution to the list of solutions\n",
    "list_of_solutions_continu.append(SPEA2_solutions_continu)"
   ]
  },
  {
   "cell_type": "code",
   "execution_count": 52,
   "metadata": {
    "slideshow": {
     "slide_type": "fragment"
    }
   },
   "outputs": [
    {
     "data": {
      "image/png": "[encoded data removed]",
      "text/plain": [
       "<Figure size 432x288 with 1 Axes>"
      ]
     },
     "metadata": {
      "needs_background": "light"
     },
     "output_type": "display_data"
    }
   ],
   "source": [
    "juphelpers.plotFrontgraphics(np.array([benchmarks.zdt1(ind) for ind in SPEA2_solutions_continu.bestPop]),\n",
    "                  np.array(optimal_front),\n",
    "                  title = \"SPEA2 Continuous Case\",xlabel=\"f1\",ylabel=\"f2\")"
   ]
  },
  {
   "cell_type": "code",
   "execution_count": 53,
   "metadata": {},
   "outputs": [],
   "source": [
    "# Saving information\n",
    "if saveEnabled:\n",
    "    juphelpers.GeneralCases.save_dict(dictionaireContinuSPEA2, folderOfCSVs, CsvFileNameContinu)"
   ]
  },
  {
   "cell_type": "markdown",
   "metadata": {
    "slideshow": {
     "slide_type": "subslide"
    }
   },
   "source": [
    "##### 5.3.3.2 Discrete case"
   ]
  },
  {
   "cell_type": "code",
   "execution_count": 54,
   "metadata": {},
   "outputs": [],
   "source": [
    "# Creating a solution handler\n",
    "SPEA2_solutions_discret = juphelpers.bData.single_solution(methodName=\"SPEA2\", function_name=name_of_function,\n",
    "                                                   good_points=L_good, bad_points=L_bad,\n",
    "                                                   number_of_runs=number_of_runs,\n",
    "                                                   numberOfPersons=number_of_instances,\n",
    "                                                   iters=max_numer_of_iterations,\n",
    "                                                   refpointToHyperV=[11,11],\n",
    "                                                   identif=\"SPEA2-Discret-ZDT1\",\n",
    "                                                   pareto_front=optimal_front,\n",
    "                                                   obj=benchmarks.zdt1,\n",
    "                                                   lb=0, ub=1,\n",
    "                                                   dim=dim_of_labels)"
   ]
  },
  {
   "cell_type": "code",
   "execution_count": 55,
   "metadata": {
    "slideshow": {
     "slide_type": "fragment"
    }
   },
   "outputs": [],
   "source": [
    "# Create envrironment (Toolbox, Stats, Logbook) for the discrete case\n",
    "envrironment = juphelpers.spea2.create_Environment_For_SPEA2_Discrete_Case(X,\n",
    "                                                           dim_of_labels,\n",
    "                                                           (-1.0, -1.0),\n",
    "                                                           benchmarks.zdt1,\n",
    "                                                           random_labels=True,\n",
    "                                                           seed=seed_for_all)"
   ]
  },
  {
   "cell_type": "code",
   "execution_count": 56,
   "metadata": {
    "slideshow": {
     "slide_type": "fragment"
    }
   },
   "outputs": [],
   "source": [
    "for run in range(number_of_runs):\n",
    "    envrironment_copy = copy.deepcopy(envrironment)\n",
    "    # --------------------------------------------------------------------------------------------------\n",
    "\n",
    "    # Get a better population and statistics\n",
    "    start_time = time.time()\n",
    "    # ==================================================================================================\n",
    "    (pop_tot, logbook) = juphelpers.spea2.SPEA2_Discrete_Case(envrironment_copy,\n",
    "                                               NGEN=max_numer_of_iterations, MU=number_of_instances,\n",
    "                                               CXPB=0.93, seed=run,\n",
    "                                               showprogress = False)\n",
    "    # ==================================================================================================\n",
    "    delta_time = time.time() - start_time\n",
    "    \n",
    "    # Getting good population by labels\n",
    "    pop = [X[juphelpers.nsga2.binToInt(p)] for p in pop_tot]\n",
    "    \n",
    "    # Add solution\n",
    "    SPEA2_solutions_discret.add_one_run(pop,delta_time)"
   ]
  },
  {
   "cell_type": "code",
   "execution_count": 57,
   "metadata": {
    "slideshow": {
     "slide_type": "subslide"
    }
   },
   "outputs": [],
   "source": [
    "# Convergence and diversity\n",
    "(t,c,d,h) = SPEA2_solutions_discret.returnMeanValues()\n",
    "\n",
    "dictionaireDiscretSPEA2.update({'Average time of execution (s)':str(t)})\n",
    "dictionaireDiscretSPEA2.update({'Average convergence':str(c), 'Average diversity':str(d),\n",
    "                          'Average hypervolume':str(h)})"
   ]
  },
  {
   "cell_type": "code",
   "execution_count": 58,
   "metadata": {},
   "outputs": [
    {
     "name": "stdout",
     "output_type": "stream",
     "text": [
      "Time of execution (s):  83.87562856674194\n",
      "Convergence:  0.001251840305013012\n",
      "Diversity:  0.15231476772757768\n",
      "hypervolume:  120.652560131747\n"
     ]
    }
   ],
   "source": [
    "print(\"Time of execution (s): \",t)\n",
    "print(\"Convergence: \",c)\n",
    "print(\"Diversity: \",d)\n",
    "print(\"hypervolume: \",h)"
   ]
  },
  {
   "cell_type": "code",
   "execution_count": 59,
   "metadata": {},
   "outputs": [],
   "source": [
    "# Add a solution to the list of solutions\n",
    "list_of_solutions_discret.append(SPEA2_solutions_discret)"
   ]
  },
  {
   "cell_type": "code",
   "execution_count": 60,
   "metadata": {
    "slideshow": {
     "slide_type": "fragment"
    }
   },
   "outputs": [
    {
     "data": {
      "image/png": "[encoded data removed]",
      "text/plain": [
       "<Figure size 432x288 with 1 Axes>"
      ]
     },
     "metadata": {
      "needs_background": "light"
     },
     "output_type": "display_data"
    }
   ],
   "source": [
    "juphelpers.plotFrontgraphics(np.array([benchmarks.zdt1(ind) for ind in SPEA2_solutions_discret.bestPop]),\n",
    "                  np.array(optimal_front),\n",
    "                  title = \"SPEA2 Discrete Case\",xlabel=\"f1\",ylabel=\"f2\")"
   ]
  },
  {
   "cell_type": "code",
   "execution_count": 61,
   "metadata": {},
   "outputs": [],
   "source": [
    "# Saving information\n",
    "if saveEnabled:\n",
    "    juphelpers.GeneralCases.save_dict(dictionaireDiscretSPEA2, folderOfCSVs, CsvFileNameDiscret)"
   ]
  },
  {
   "cell_type": "markdown",
   "metadata": {},
   "source": [
    "#### 5.3.4 Conclusion\n",
    "\n",
    "> The SPEA2 in the continuous case did not have a good performance compared to the NSGAII. This is observed by the number of iterations, the population and how the points were instantiated. This fact can be easily confirmed by increasing the number of iterations (SPEA2 takes longer to converge than NSGAII, but has a better divergence).\n",
    "> SPEA2 gave excellent results for the discrete case. However, although it has the best diversity, several points of the Pareto curve have not been found. In a problem where we want all the points of the Pareto curve, NSGAII is more adequate."
   ]
  },
  {
   "cell_type": "markdown",
   "metadata": {},
   "source": [
    "#### 5.3.5 Bibliography\n",
    "\n",
    "<a id='531SPEA2Paper'></a>\n",
    "1. https://pdfs.semanticscholar.org/6672/8d01f9ebd0446ab346a855a44d2b138fd82d.pdf"
   ]
  },
  {
   "cell_type": "markdown",
   "metadata": {},
   "source": [
    "<a id='NSGSA'></a>\n",
    "### 5.4 Non-dominated Sorting Gravitational Search"
   ]
  },
  {
   "cell_type": "markdown",
   "metadata": {},
   "source": [
    "#### 5.4.1 Introduction"
   ]
  },
  {
   "cell_type": "markdown",
   "metadata": {},
   "source": [
    "**Non-Dominated Sorting Gravitational Search (NSGSA)** uses the concept of _tri non-dominated_ to update particle gravitational acceleration. **External archives** are also used to store Pareto's optimal solutions and provide a bit of 'elitism'. It also directs research to uncluttered areas and extreme areas of the **Pareto Front**. Finally, a new criterion is proposed to update the external archives. [[1]](#MOGSAWITHPSEUDO)"
   ]
  },
  {
   "cell_type": "markdown",
   "metadata": {},
   "source": [
    "#### 5.4.2 Methodology"
   ]
  },
  {
   "cell_type": "markdown",
   "metadata": {},
   "source": [
    "Image taken from [[1]](#MOGSAWITHPSEUDO):\n",
    "![PseudocodeNSGSA](images/PseudoNSGSA.png)"
   ]
  },
  {
   "cell_type": "markdown",
   "metadata": {
    "slideshow": {
     "slide_type": "subslide"
    }
   },
   "source": [
    "#### 5.4.3 Implementation"
   ]
  },
  {
   "cell_type": "code",
   "execution_count": 62,
   "metadata": {},
   "outputs": [],
   "source": [
    "# Dictionaries to save statistics\n",
    "dictionaireMOGSAContinu = {'Methods':'MOGSA', 'Data':'ZDT1', 'Number of runs':number_of_runs}\n",
    "dictionaireMOGSADiscret = {'Methods':'MOGSA', 'Data':'ZDT1', 'Number of runs':number_of_runs,\n",
    "                      'Real points':L_good,\n",
    "                     'Fake points':(L_bad)}"
   ]
  },
  {
   "cell_type": "markdown",
   "metadata": {
    "slideshow": {
     "slide_type": "fragment"
    }
   },
   "source": [
    "##### 5.4.3.1 Continuous case"
   ]
  },
  {
   "cell_type": "code",
   "execution_count": 63,
   "metadata": {},
   "outputs": [],
   "source": [
    "# Creating a solution handler\n",
    "MOGSA_solutions_continu = juphelpers.bData.single_solution(methodName=\"MOGSA\", function_name=name_of_function,\n",
    "                                                   good_points=L_good, bad_points=L_bad,\n",
    "                                                   number_of_runs=number_of_runs,\n",
    "                                                   numberOfPersons=number_of_instances,\n",
    "                                                   iters=max_numer_of_iterations,\n",
    "                                                   refpointToHyperV=[11,11],\n",
    "                                                   identif=\"MOGSA-Continu-ZDT1\",\n",
    "                                                   pareto_front=optimal_front,\n",
    "                                                   obj=benchmarks.zdt1,\n",
    "                                                   lb=0.0, ub=1.0,\n",
    "                                                   dim=30)"
   ]
  },
  {
   "cell_type": "code",
   "execution_count": 64,
   "metadata": {
    "scrolled": true,
    "slideshow": {
     "slide_type": "fragment"
    }
   },
   "outputs": [],
   "source": [
    "for run in range(number_of_runs):\n",
    "\n",
    "    # Get a better population and statistics\n",
    "    # ==================================================================================================\n",
    "    sol = juphelpers.mogsa.Continuous_MOGSA(benchmarks.zdt1,lb=0.,ub=1.,dim=30,\n",
    "                                        PopSize=number_of_instances,iters=max_numer_of_iterations,\n",
    "                                        weights=(-1,-1),\n",
    "                                        n_archive=number_of_instances, ps_m=0.002, pr_m=0.001,\n",
    "                                        showprogress=False,\n",
    "                                        randomseed = run)\n",
    "    # ==================================================================================================\n",
    "    \n",
    "    # Getting good population\n",
    "    pop = [ind.pos for ind in sol.archive]\n",
    "    \n",
    "    # Add solution\n",
    "    MOGSA_solutions_continu.add_one_run(pop,sol.executionTime)"
   ]
  },
  {
   "cell_type": "code",
   "execution_count": 65,
   "metadata": {
    "slideshow": {
     "slide_type": "subslide"
    }
   },
   "outputs": [],
   "source": [
    "# Convergence and diversity\n",
    "(t,c,d,h) = MOGSA_solutions_continu.returnMeanValues()\n",
    "\n",
    "dictionaireMOGSAContinu.update({'Average time of execution (s)':str(t)})\n",
    "dictionaireMOGSAContinu.update({'Average convergence':str(c), 'Average diversity':str(d),\n",
    "                          'Average hypervolume':str(h)})"
   ]
  },
  {
   "cell_type": "code",
   "execution_count": 66,
   "metadata": {
    "scrolled": true
   },
   "outputs": [
    {
     "name": "stdout",
     "output_type": "stream",
     "text": [
      "Time of execution (s):  136.3214770078659\n",
      "Convergence:  0.0007478575781703402\n",
      "Diversity:  0.41009295289125186\n",
      "hypervolume:  120.62110910661514\n"
     ]
    }
   ],
   "source": [
    "print(\"Time of execution (s): \",t)\n",
    "print(\"Convergence: \",c)\n",
    "print(\"Diversity: \",d)\n",
    "print(\"hypervolume: \",h)"
   ]
  },
  {
   "cell_type": "code",
   "execution_count": 67,
   "metadata": {},
   "outputs": [],
   "source": [
    "# Add a solution to the list of solutions\n",
    "list_of_solutions_continu.append(MOGSA_solutions_continu)"
   ]
  },
  {
   "cell_type": "code",
   "execution_count": 68,
   "metadata": {
    "scrolled": true,
    "slideshow": {
     "slide_type": "fragment"
    }
   },
   "outputs": [
    {
     "data": {
      "image/png": "[encoded data removed]",
      "text/plain": [
       "<Figure size 432x288 with 1 Axes>"
      ]
     },
     "metadata": {
      "needs_background": "light"
     },
     "output_type": "display_data"
    }
   ],
   "source": [
    "# Plot\n",
    "juphelpers.plotFrontgraphics(np.array([benchmarks.zdt1(ind) for ind in MOGSA_solutions_continu.bestPop]),\n",
    "                             np.array(optimal_front),\n",
    "                             title = \"MOGSA Continu\",\n",
    "                             xlabel=\"f1\",ylabel=\"f2\")"
   ]
  },
  {
   "cell_type": "code",
   "execution_count": 69,
   "metadata": {},
   "outputs": [],
   "source": [
    "# Saving information\n",
    "if saveEnabled:\n",
    "    juphelpers.GeneralCases.save_dict(dictionaireMOGSAContinu, folderOfCSVs, CsvFileNameContinu)"
   ]
  },
  {
   "cell_type": "markdown",
   "metadata": {
    "slideshow": {
     "slide_type": "subslide"
    }
   },
   "source": [
    "##### 5.4.3.2 Discrete case"
   ]
  },
  {
   "cell_type": "code",
   "execution_count": 70,
   "metadata": {},
   "outputs": [],
   "source": [
    "# Creating a solution handler\n",
    "MOGSA_solutions_discret = juphelpers.bData.single_solution(methodName=\"MOGSA\",\n",
    "                                                   function_name=name_of_function,\n",
    "                                                   good_points=L_good, bad_points=L_bad,\n",
    "                                                   number_of_runs=number_of_runs,\n",
    "                                                   numberOfPersons=number_of_instances,\n",
    "                                                   iters=max_numer_of_iterations,\n",
    "                                                   refpointToHyperV=[11,11],\n",
    "                                                   identif=\"MOGSA-Discret-ZDT1\",\n",
    "                                                   pareto_front=optimal_front,\n",
    "                                                   obj=benchmarks.zdt1,\n",
    "                                                   lb=0, ub=1,\n",
    "                                                   dim=dim_of_labels)"
   ]
  },
  {
   "cell_type": "code",
   "execution_count": 71,
   "metadata": {
    "slideshow": {
     "slide_type": "fragment"
    }
   },
   "outputs": [],
   "source": [
    "# Put the feasibility function in the correct format\n",
    "(feasibility, multiObj) = juphelpers.mogsa.createEnvironment(benchmarks.zdt1, X)"
   ]
  },
  {
   "cell_type": "code",
   "execution_count": 72,
   "metadata": {
    "scrolled": false,
    "slideshow": {
     "slide_type": "fragment"
    }
   },
   "outputs": [],
   "source": [
    "for run in range(number_of_runs):\n",
    "    \n",
    "    # Get a better population and statistics\n",
    "    start_time = time.time()\n",
    "    # ==================================================================================================\n",
    "    sol = juphelpers.mogsa.Binary_MOGSA(multiObj,feasibility,dim_of_labels,PopSize=number_of_instances,\n",
    "                  iters=max_numer_of_iterations,\n",
    "                  weights=(-1,-1),n_archive=number_of_instances,ps_m=0.1, pr_m=0.5/(2*number_of_instances),\n",
    "                  flipProb=0.1/(2*number_of_instances),\n",
    "                  showprogress=False,\n",
    "                randomseed = run)\n",
    "    # ==================================================================================================\n",
    "    delta_time = time.time() - start_time\n",
    "    \n",
    "    # Getting good population by labels\n",
    "    pop = [X[juphelpers.nsga2.binToInt(p.pos)] for p in sol.archive]\n",
    "    \n",
    "    # Add solution\n",
    "    MOGSA_solutions_discret.add_one_run(pop,sol.executionTime)"
   ]
  },
  {
   "cell_type": "code",
   "execution_count": 73,
   "metadata": {
    "slideshow": {
     "slide_type": "subslide"
    }
   },
   "outputs": [],
   "source": [
    "# Convergence et diversité\n",
    "(t,c,d,h) = MOGSA_solutions_discret.returnMeanValues()\n",
    "\n",
    "dictionaireMOGSADiscret.update({'Average time of execution (s)':str(t)})\n",
    "dictionaireMOGSADiscret.update({'Average convergence':str(c), 'Average diversity':str(d),\n",
    "                          'Average hypervolume':str(h)})"
   ]
  },
  {
   "cell_type": "code",
   "execution_count": 74,
   "metadata": {
    "scrolled": true
   },
   "outputs": [
    {
     "name": "stdout",
     "output_type": "stream",
     "text": [
      "Time of execution (s):  302.22506488164265\n",
      "Convergence:  0.0010412830929134725\n",
      "Diversity:  0.33146670518179094\n",
      "hypervolume:  120.6592828441508\n"
     ]
    }
   ],
   "source": [
    "print(\"Time of execution (s): \",t)\n",
    "print(\"Convergence: \",c)\n",
    "print(\"Diversity: \",d)\n",
    "print(\"hypervolume: \",h)"
   ]
  },
  {
   "cell_type": "code",
   "execution_count": 75,
   "metadata": {},
   "outputs": [],
   "source": [
    "# Add a solution to the list of solutions\n",
    "list_of_solutions_discret.append(MOGSA_solutions_discret)"
   ]
  },
  {
   "cell_type": "code",
   "execution_count": 76,
   "metadata": {
    "scrolled": true,
    "slideshow": {
     "slide_type": "fragment"
    }
   },
   "outputs": [
    {
     "data": {
      "image/png": "[encoded data removed]",
      "text/plain": [
       "<Figure size 432x288 with 1 Axes>"
      ]
     },
     "metadata": {
      "needs_background": "light"
     },
     "output_type": "display_data"
    }
   ],
   "source": [
    "# Plot\n",
    "juphelpers.plotFrontgraphics(np.array([benchmarks.zdt1(ind) for ind in MOGSA_solutions_discret.bestPop]),\n",
    "                             np.array(optimal_front),\n",
    "                             title = \"MOGSA Binaire\",\n",
    "                             xlabel=\"f1\",ylabel=\"f2\")"
   ]
  },
  {
   "cell_type": "code",
   "execution_count": 77,
   "metadata": {},
   "outputs": [],
   "source": [
    "# Saving information\n",
    "if saveEnabled:\n",
    "    juphelpers.GeneralCases.save_dict(dictionaireMOGSADiscret, folderOfCSVs, CsvFileNameDiscret)"
   ]
  },
  {
   "cell_type": "markdown",
   "metadata": {},
   "source": [
    "##### 5.4.4 Conclusion\n",
    "\n",
    "When carrying out the construction of the algorithm, we can see that it is a method where the choice of the parameters can greatly influence the convergence, and if there is no attention, the algorithm can fall down to an optimal place and stay there a long time, because the only way out of this place would be by mutations.\n",
    "\n",
    "In any case, it is an interesting method (with respect to the methodology), which for the continuous case, with a good regulation of the parameters, it is possible to obtain good results, but the discrete case has not yet has been explored, the experiments performed here being a mixture of binary GSA and the original MOGSA plus the addition of a mutation operator. So it's always an area to explore, but you can already get very good results."
   ]
  },
  {
   "cell_type": "markdown",
   "metadata": {},
   "source": [
    "#### 5.4.5 Bibliography\n",
    "\n",
    "<a id='MOGSAWITHPSEUDO'></a>\n",
    "1. https://www.researchgate.net/publication/303184329_A_Multi_objective_gravitational_search_algorithm_based_on_non-dominated_sorting\n",
    "<a id='MOGSASurvey'></a>\n",
    "2. https://www.sciencedirect.com/science/article/pii/S2210650217303577\n",
    "<a id='MOGSADisruption'></a>\n",
    "3. https://core.ac.uk/download/pdf/82093137.pdf\n",
    "<a id='OnlyGSA'></a>\n",
    "4. https://www.sciencedirect.com/science/article/pii/S0020025509001200\n",
    "<a id='GSACode'></a>\n",
    "5. https://github.com/himanshuRepo/Gravitational-Search-Algorithm"
   ]
  },
  {
   "cell_type": "markdown",
   "metadata": {
    "slideshow": {
     "slide_type": "slide"
    }
   },
   "source": [
    "<a id='SimpleCullAlgorithm'></a>\n",
    "### 5.5 Simple Cull Algorithm"
   ]
  },
  {
   "cell_type": "markdown",
   "metadata": {},
   "source": [
    "#### 5.5.1 Introduction\n",
    "\n",
    "Simple Cull (SC) is a simple algorithm for finding the front pareto as a block nested loop algorithm. [[1]](#521SIMPLECULL)"
   ]
  },
  {
   "cell_type": "markdown",
   "metadata": {},
   "source": [
    "#### 5.5.2 Methodology\n",
    "\n",
    "It examines the configurations one by one and maintains a set $ C_ {min} $ of Pareto points among the points observed so far. Whenever a new point is inspected, two situations can occur:\n",
    "1. If the point is dominated by one or more of the existing Pareto points in $ C_ {min} $, it is ignored.\n",
    "2. If the point is not dominated in $ C_ {min} $, all $ C_ {min} $ points dominated by the new point are removed and the new point is added to $ C_ {min} $."
   ]
  },
  {
   "cell_type": "markdown",
   "metadata": {},
   "source": [
    "#### 5.5.3 Implementation"
   ]
  },
  {
   "cell_type": "code",
   "execution_count": 78,
   "metadata": {},
   "outputs": [],
   "source": [
    "# Dictionaries to save statistics\n",
    "dictionaireDiscretSC = {'Methods':'Simple Cull', 'Data':'ZDT1', 'Number of runs':number_of_runs,\n",
    "                      'Real points':L_good,\n",
    "                     'Fake points':(L_bad)}"
   ]
  },
  {
   "cell_type": "code",
   "execution_count": 79,
   "metadata": {},
   "outputs": [],
   "source": [
    "# Creating a solution handler\n",
    "Simple_Cull_solutions_discret = juphelpers.bData.single_solution(methodName=\"Simple Cull\",\n",
    "                                                   function_name=name_of_function,\n",
    "                                                   good_points=L_good, bad_points=L_bad,\n",
    "                                                   number_of_runs=number_of_runs,\n",
    "                                                   numberOfPersons=number_of_instances,\n",
    "                                                   iters=max_numer_of_iterations,\n",
    "                                                   refpointToHyperV=[11,11],\n",
    "                                                   identif=\"Simple-Cull-Discret-ZDT1\",\n",
    "                                                   pareto_front=optimal_front,\n",
    "                                                   obj=benchmarks.zdt1,\n",
    "                                                   lb=0, ub=1,\n",
    "                                                   dim=dim_of_labels)"
   ]
  },
  {
   "cell_type": "code",
   "execution_count": 80,
   "metadata": {},
   "outputs": [],
   "source": [
    "for run in range(number_of_runs):\n",
    "    # Get a better population and statistics\n",
    "    start_time = time.time()\n",
    "    # ==================================================================================================\n",
    "    paretoPoints, dominatedPoints = juphelpers.sCull.simple_cull(X, benchmarks.zdt1, (1.0,1.0))\n",
    "    # ==================================================================================================\n",
    "    delta_time = time.time() - start_time\n",
    "    \n",
    "    # Add solution\n",
    "    Simple_Cull_solutions_discret.add_one_run(paretoPoints,delta_time)"
   ]
  },
  {
   "cell_type": "code",
   "execution_count": 81,
   "metadata": {
    "slideshow": {
     "slide_type": "subslide"
    }
   },
   "outputs": [],
   "source": [
    "# Convergence and diversity\n",
    "(t,c,d,h) = Simple_Cull_solutions_discret.returnMeanValues()\n",
    "\n",
    "dictionaireDiscretSC.update({'Average time of execution (s)':str(t)})\n",
    "dictionaireDiscretSC.update({'Average convergence':str(c), 'Average diversity':str(d),\n",
    "                          'Average hypervolume':str(h)})"
   ]
  },
  {
   "cell_type": "code",
   "execution_count": 82,
   "metadata": {},
   "outputs": [
    {
     "name": "stdout",
     "output_type": "stream",
     "text": [
      "Time of execution (s):  0.03978236516316732\n",
      "Convergence:  0.0010412830929134725\n",
      "Diversity:  0.33146670518179094\n",
      "hypervolume:  120.6592828441508\n"
     ]
    }
   ],
   "source": [
    "print(\"Time of execution (s): \",t)\n",
    "print(\"Convergence: \",c)\n",
    "print(\"Diversity: \",d)\n",
    "print(\"hypervolume: \",h)"
   ]
  },
  {
   "cell_type": "code",
   "execution_count": 83,
   "metadata": {},
   "outputs": [],
   "source": [
    "# Add a solution to the list of solutions\n",
    "list_of_solutions_discret.append(Simple_Cull_solutions_discret)"
   ]
  },
  {
   "cell_type": "code",
   "execution_count": 84,
   "metadata": {
    "scrolled": true
   },
   "outputs": [
    {
     "data": {
      "image/png": "[encoded data removed]",
      "text/plain": [
       "<Figure size 432x288 with 1 Axes>"
      ]
     },
     "metadata": {
      "needs_background": "light"
     },
     "output_type": "display_data"
    }
   ],
   "source": [
    "juphelpers.plotFrontgraphics(np.array([benchmarks.zdt1(ind) for ind in Simple_Cull_solutions_discret.bestPop]),\n",
    "                             np.array(optimal_front),\n",
    "                             title = \"Simple Cull\",\n",
    "                             xlabel=\"f1\",ylabel=\"f2\")"
   ]
  },
  {
   "cell_type": "code",
   "execution_count": 85,
   "metadata": {},
   "outputs": [],
   "source": [
    "# Saving information\n",
    "if saveEnabled:\n",
    "    juphelpers.GeneralCases.save_dict(dictionaireDiscretSC, folderOfCSVs, CsvFileNameDiscret)"
   ]
  },
  {
   "cell_type": "markdown",
   "metadata": {},
   "source": [
    "#### 5.5.4 Conclusion\n",
    "\n",
    "> It is easy to understand, easy to implement and has excellent results, but due to the complexity of $ O (N ^ 2 * o) $ (where **o** is the size of the output), the algorithm will soon start to increase the execution time because it has more points, and for genetic algorithms, the easena tool facilitates stopping by making the genetic algorithm probably faster than simple slaughter for many points."
   ]
  },
  {
   "cell_type": "markdown",
   "metadata": {},
   "source": [
    "#### 5.5.5 Bibliography\n",
    "\n",
    "<a id='521SIMPLECULL'></a>\n",
    "1. http://www.es.ele.tue.nl/pareto/papers/date2007_paretocalculator_final.pdf"
   ]
  },
  {
   "cell_type": "markdown",
   "metadata": {},
   "source": [
    "<a id='PSA'></a>\n",
    "### 5.6 Pareto Simulated Annealing"
   ]
  },
  {
   "cell_type": "markdown",
   "metadata": {},
   "source": [
    "#### 5.6.1 Introduction\n",
    "\n",
    "[[3]](#PSAWiki)It is a multi-optimization meta-heuristic that consists of a stochastic local search technique based on the principles of thermodynamics (annealing or annealing) which consists of a mixture of heating (exploring) and cooling (exploiting)."
   ]
  },
  {
   "cell_type": "markdown",
   "metadata": {},
   "source": [
    "#### 5.6.2 Methodology\n",
    "Image taken from [[1]](#ParetoAntColonyToAnnealing):\n",
    "![PseudocodePSA1](images/PSA1.png)\n",
    "![PseudocodePSA2](images/PSA2.png)"
   ]
  },
  {
   "cell_type": "markdown",
   "metadata": {},
   "source": [
    "#### 5.6.3 Implementation"
   ]
  },
  {
   "cell_type": "code",
   "execution_count": 86,
   "metadata": {},
   "outputs": [],
   "source": [
    "# Dictionaries to save statistics\n",
    "dictionaireDiscretPSA = {'Methods':'PSA', 'Data':'ZDT1', 'Number of runs':number_of_runs,\n",
    "                      'Real points':L_good,\n",
    "                     'Fake points':(L_bad)}"
   ]
  },
  {
   "cell_type": "code",
   "execution_count": 87,
   "metadata": {},
   "outputs": [],
   "source": [
    "# Creating a solution handler\n",
    "PSA_solutions_discret = juphelpers.bData.single_solution(methodName=\"PSA\",\n",
    "                                                   function_name=name_of_function,\n",
    "                                                   good_points=L_good, bad_points=L_bad,\n",
    "                                                   number_of_runs=number_of_runs,\n",
    "                                                   numberOfPersons=number_of_instances,\n",
    "                                                   iters=max_numer_of_iterations,\n",
    "                                                   refpointToHyperV=[11,11],\n",
    "                                                   identif=\"PSA-Discret-ZDT1\",\n",
    "                                                   pareto_front=optimal_front,\n",
    "                                                   obj=benchmarks.zdt1,\n",
    "                                                   lb=0, ub=1,\n",
    "                                                   dim=dim_of_labels)"
   ]
  },
  {
   "cell_type": "code",
   "execution_count": 88,
   "metadata": {},
   "outputs": [],
   "source": [
    "(feasibility, multiObj) = juphelpers.psa.createEnvironment(benchmarks.zdt1, X)"
   ]
  },
  {
   "cell_type": "code",
   "execution_count": 89,
   "metadata": {
    "slideshow": {
     "slide_type": "fragment"
    }
   },
   "outputs": [],
   "source": [
    "for run in range(number_of_runs):\n",
    "    \n",
    "    # Get a better population and statistics\n",
    "    # ==================================================================================================\n",
    "    sol = juphelpers.psa.PSA(multiObj, (-1,-1),feasibility, \n",
    "        X,2,\n",
    "        s=number_of_instances, iters=max_numer_of_iterations,\n",
    "        bit_flip=2,prob_bitflip=0.5,\n",
    "        showprogress = False)\n",
    "    # ==================================================================================================\n",
    "    \n",
    "    # Getting good population by labels\n",
    "    pop = [X[juphelpers.nsga2.binToInt(p)] for p in sol.pop]\n",
    "    \n",
    "    # Add solution\n",
    "    PSA_solutions_discret.add_one_run(pop,sol.executionTime)"
   ]
  },
  {
   "cell_type": "code",
   "execution_count": 90,
   "metadata": {
    "slideshow": {
     "slide_type": "subslide"
    }
   },
   "outputs": [],
   "source": [
    "# Convergence and diversity\n",
    "(t,c,d,h) = PSA_solutions_discret.returnMeanValues()\n",
    "\n",
    "dictionaireDiscretPSA.update({'Average time of execution (s)':str(t)})\n",
    "dictionaireDiscretPSA.update({'Average convergence':str(c), 'Average diversity':str(d),\n",
    "                          'Average hypervolume':str(h)})"
   ]
  },
  {
   "cell_type": "code",
   "execution_count": 91,
   "metadata": {},
   "outputs": [
    {
     "name": "stdout",
     "output_type": "stream",
     "text": [
      "Time of execution (s):  5.451707990964254\n",
      "Convergence:  0.001041408739524597\n",
      "Diversity:  0.3874167364373562\n",
      "hypervolume:  120.60168923086076\n"
     ]
    }
   ],
   "source": [
    "print(\"Time of execution (s): \",t)\n",
    "print(\"Convergence: \",c)\n",
    "print(\"Diversity: \",d)\n",
    "print(\"hypervolume: \",h)"
   ]
  },
  {
   "cell_type": "code",
   "execution_count": 92,
   "metadata": {},
   "outputs": [],
   "source": [
    "# Add a solution to the list of solutions\n",
    "list_of_solutions_discret.append(PSA_solutions_discret)"
   ]
  },
  {
   "cell_type": "code",
   "execution_count": 93,
   "metadata": {
    "slideshow": {
     "slide_type": "fragment"
    }
   },
   "outputs": [
    {
     "data": {
      "image/png": "[encoded data removed]",
      "text/plain": [
       "<Figure size 432x288 with 1 Axes>"
      ]
     },
     "metadata": {
      "needs_background": "light"
     },
     "output_type": "display_data"
    }
   ],
   "source": [
    "juphelpers.plotFrontgraphics(np.array([benchmarks.zdt1(ind) for ind in PSA_solutions_discret.bestPop]),\n",
    "                             np.array(optimal_front),\n",
    "                  title = \"PSA\",xlabel=\"f1\",ylabel=\"f2\")"
   ]
  },
  {
   "cell_type": "code",
   "execution_count": 94,
   "metadata": {},
   "outputs": [],
   "source": [
    "# Saving information\n",
    "if saveEnabled:\n",
    "    juphelpers.GeneralCases.save_dict(dictionaireDiscretPSA, folderOfCSVs, CsvFileNameDiscret)"
   ]
  },
  {
   "cell_type": "markdown",
   "metadata": {},
   "source": [
    "#### 5.6.4 Conclusion\n",
    "\n",
    "It is a method whose choice of stochastic points is fundamental. The algorithm has been executed several times, obtaining varied but close results (same order of magnitude).\n",
    "\n",
    "It is a model that primarily seeks convergence, while achieving optimal convergence and divergence. In order to obtain better and more consistent results, it is necessary to modify the parameters in values that can increase the execution time, but it should be noted that the algorithm acquires excellent results even with few populations and a small number of iterations."
   ]
  },
  {
   "cell_type": "markdown",
   "metadata": {},
   "source": [
    "#### 5.6.5 Bibliography\n",
    "\n",
    "<a id='ParetoAntColonyToAnnealing'></a>\n",
    "1. https://www.researchgate.net/publication/220462163_Pareto_Ant_Colony_Optimization_A_Metaheuristic_Approach_to_Multiobjective_Portfolio_Selection\n",
    "<a id='PSAnnealing'></a>\n",
    "2. https://pdfs.semanticscholar.org/3129/67df379edc8d315b407c97aa8f5da64617f9.pdf\n",
    "<a id='PSAWiki'></a>\n",
    "3. https://pt.wikipedia.org/wiki/Simulated_annealing"
   ]
  },
  {
   "cell_type": "markdown",
   "metadata": {},
   "source": [
    "<a id='Tabu'></a>\n",
    "### 5.7 Binary Multi-Objective Tabu Search"
   ]
  },
  {
   "cell_type": "markdown",
   "metadata": {},
   "source": [
    "#### 5.7.1 Introduction\n",
    "\n",
    "It is a method based on the prohibition (temporary or not) of the movements. The overall optimum can be found with a series of allowed movement sequences. Each move will be reached on a Taboo table to see if this is allowed or not.[[1]](#RandomParetoTabu)"
   ]
  },
  {
   "cell_type": "markdown",
   "metadata": {},
   "source": [
    "#### 5.7.2 Methodology\n",
    "Image taken from [[1]](#RandomParetoTabu):\n",
    "![TabuPseudo](images/TabuPseudo.png)"
   ]
  },
  {
   "cell_type": "markdown",
   "metadata": {},
   "source": [
    "#### 5.7.3 Implementation"
   ]
  },
  {
   "cell_type": "code",
   "execution_count": 95,
   "metadata": {},
   "outputs": [],
   "source": [
    "# Dictionaries to save statistics\n",
    "dictionaireDiscretBTabuSearch = {'Methods':'BinaryTabuSearch', 'Data':'ZDT1', 'Number of runs':number_of_runs,\n",
    "                      'Real points':L_good,\n",
    "                     'Fake points':(L_bad)}"
   ]
  },
  {
   "cell_type": "code",
   "execution_count": 96,
   "metadata": {},
   "outputs": [],
   "source": [
    "# Creating a solution handler\n",
    "bTabu_solutions_discret = juphelpers.bData.single_solution(methodName=\"Binary Tabu Search\",\n",
    "                                                   function_name=name_of_function,\n",
    "                                                   good_points=L_good, bad_points=L_bad,\n",
    "                                                   number_of_runs=number_of_runs,\n",
    "                                                   numberOfPersons=number_of_instances,\n",
    "                                                   iters=max_numer_of_iterations,\n",
    "                                                   refpointToHyperV=[11,11],\n",
    "                                                   identif=\"Binary-Tabu-Search-Discret-ZDT1\",\n",
    "                                                   pareto_front=optimal_front,\n",
    "                                                   obj=benchmarks.zdt1,\n",
    "                                                   lb=0, ub=1,\n",
    "                                                   dim=dim_of_labels)"
   ]
  },
  {
   "cell_type": "code",
   "execution_count": 97,
   "metadata": {},
   "outputs": [],
   "source": [
    "for run in range(number_of_runs):\n",
    "    \n",
    "    # Get a better population and statistics\n",
    "    start_time = time.time()\n",
    "    # ==================================================================================================\n",
    "    pop = juphelpers.bTabuSearch.binary_pareto_tabu_search(benchmarks.zdt1,(-1,-1),X)\n",
    "    # ==================================================================================================\n",
    "    delta_time = time.time() - start_time\n",
    "    \n",
    "    # Add solution\n",
    "    bTabu_solutions_discret.add_one_run(pop,delta_time)"
   ]
  },
  {
   "cell_type": "code",
   "execution_count": 98,
   "metadata": {
    "slideshow": {
     "slide_type": "subslide"
    }
   },
   "outputs": [],
   "source": [
    "# Convergence and diversity\n",
    "(t,c,d,h) = bTabu_solutions_discret.returnMeanValues()\n",
    "\n",
    "dictionaireDiscretBTabuSearch.update({'Average time of execution (s)':str(t)})\n",
    "dictionaireDiscretBTabuSearch.update({'Average convergence':str(c), 'Average diversity':str(d),\n",
    "                          'Average hypervolume':str(h)})"
   ]
  },
  {
   "cell_type": "code",
   "execution_count": 99,
   "metadata": {},
   "outputs": [
    {
     "name": "stdout",
     "output_type": "stream",
     "text": [
      "Time of execution:  0.101495893796285\n",
      "Convergence:  0.0010370385041511899\n",
      "Diversity:  0.34028771010221187\n",
      "hypervolume:  120.6592828441508\n"
     ]
    }
   ],
   "source": [
    "print(\"Time of execution: \",t)\n",
    "print(\"Convergence: \",c)\n",
    "print(\"Diversity: \",d)\n",
    "print(\"hypervolume: \",h)"
   ]
  },
  {
   "cell_type": "code",
   "execution_count": 100,
   "metadata": {},
   "outputs": [],
   "source": [
    "# Add a solution to the list of solutions\n",
    "list_of_solutions_discret.append(bTabu_solutions_discret)"
   ]
  },
  {
   "cell_type": "code",
   "execution_count": 101,
   "metadata": {},
   "outputs": [
    {
     "data": {
      "image/png": "[encoded data removed]",
      "text/plain": [
       "<Figure size 432x288 with 1 Axes>"
      ]
     },
     "metadata": {
      "needs_background": "light"
     },
     "output_type": "display_data"
    }
   ],
   "source": [
    "juphelpers.plotFrontgraphics(np.array([benchmarks.zdt1(ind) for ind in bTabu_solutions_discret.bestPop]),\n",
    "                             np.array(optimal_front),\n",
    "                  title = \"Binary Tabu Search\",xlabel=\"f1\",ylabel=\"f2\")"
   ]
  },
  {
   "cell_type": "code",
   "execution_count": 102,
   "metadata": {},
   "outputs": [],
   "source": [
    "# Saving information\n",
    "if saveEnabled:\n",
    "    juphelpers.GeneralCases.save_dict(dictionaireDiscretBTabuSearch, folderOfCSVs, CsvFileNameDiscret)"
   ]
  },
  {
   "cell_type": "markdown",
   "metadata": {},
   "source": [
    "#### 5.7.4 Conclusion\n",
    "\n",
    "As we can see, Binary Tabu Search provides good results, as the choice of the Binary Tabu Search stage criterion compares the new point that will come with those already present in the non-dominated set, as well as Simple Cull. The complexity of the two algorithms therefore depends on the number of entry points and the size of the output."
   ]
  },
  {
   "cell_type": "markdown",
   "metadata": {},
   "source": [
    "#### 5.7.5 Bibliography\n",
    "\n",
    "<a id='RandomParetoTabu'></a>\n",
    "1. https://www.researchgate.net/publication/221477675_Randomized_Algorithm_with_Tabu_Search_for_Multi-Objective_Optimization_of_Large_Containership_Stowage_Plans"
   ]
  },
  {
   "cell_type": "markdown",
   "metadata": {},
   "source": [
    "<a id='FullNSR'></a>\n",
    "### 5.8. Full Non-dominated Sorting and Ranking"
   ]
  },
  {
   "cell_type": "markdown",
   "metadata": {},
   "source": [
    "#### 5.8.1 Introduction\n",
    "This algorithm has been applied in NSGAII and NSGAIII, but we apply it here in the dataset and not just with a small population. Some changes have been made to the code, but the goal is the same: to rank different non-dominated fronts.\n",
    "\n",
    "To improve the result, it is possible to make a withdrawal using the crowding distance to intelligently remove the points of the Pareto front to have fewer points, but which express the front very well ( The procedure can be found in [[2]](#mogsacrowdingdistance))."
   ]
  },
  {
   "cell_type": "markdown",
   "metadata": {},
   "source": [
    "#### 5.8.2 Méthodologie\n",
    "\n",
    "Image taken from [[1]](#fullnsrpseudo):\n",
    "![nondominatedpseudo](images/nondominatedpseudo.png)"
   ]
  },
  {
   "cell_type": "markdown",
   "metadata": {},
   "source": [
    "#### 5.8.3 Implementation"
   ]
  },
  {
   "cell_type": "code",
   "execution_count": 103,
   "metadata": {},
   "outputs": [],
   "source": [
    "# Dictionaries to save statistics\n",
    "dictionaireDiscretFnsr = {'Methods':'FullNonDominatedSortingAndRanking', 'Data':'ZDT1',\n",
    "                                 'Number of runs':number_of_runs,\n",
    "                      'Real points':L_good,\n",
    "                     'Fake points':(L_bad)}"
   ]
  },
  {
   "cell_type": "code",
   "execution_count": 104,
   "metadata": {},
   "outputs": [],
   "source": [
    "# Creating a solution handler\n",
    "fnsr_solutions_discret = juphelpers.bData.single_solution(methodName=\"Full Non-Dominated Sorting and Ranking\",\n",
    "                                                   function_name=name_of_function,\n",
    "                                                   good_points=L_good, bad_points=L_bad,\n",
    "                                                   number_of_runs=number_of_runs,\n",
    "                                                   numberOfPersons=number_of_instances,\n",
    "                                                   iters=max_numer_of_iterations,\n",
    "                                                   refpointToHyperV=[11,11],\n",
    "                                                   identif=\"FullNonDominatedSortingAndRanking-Discret-ZDT1\",\n",
    "                                                   pareto_front=optimal_front,\n",
    "                                                   obj=benchmarks.zdt1,\n",
    "                                                   lb=0, ub=1,\n",
    "                                                   dim=dim_of_labels)"
   ]
  },
  {
   "cell_type": "code",
   "execution_count": 105,
   "metadata": {
    "scrolled": true
   },
   "outputs": [],
   "source": [
    "for run in range(number_of_runs):\n",
    "    \n",
    "    # Get a better population and statistics\n",
    "    start_time = time.time()\n",
    "    # ==================================================================================================\n",
    "    dict_pop = juphelpers.fullnsr.fnon_dominated_sorting_and_ranking(X,benchmarks.zdt1,(-1,-1))\n",
    "    # ==================================================================================================\n",
    "    delta_time = time.time() - start_time\n",
    "    pop = [X[p] for p in dict_pop[1]]\n",
    "    \n",
    "    # Add solution\n",
    "    fnsr_solutions_discret.add_one_run(juphelpers.fullnsr.smart_removal(pop,100-run,benchmarks.zdt1,(-1,-1)),delta_time)"
   ]
  },
  {
   "cell_type": "code",
   "execution_count": 106,
   "metadata": {
    "slideshow": {
     "slide_type": "subslide"
    }
   },
   "outputs": [],
   "source": [
    "# Convergence and diversity\n",
    "(t,c,d,h) = fnsr_solutions_discret.returnMeanValues()\n",
    "\n",
    "dictionaireDiscretFnsr.update({'Average time of execution (s)':str(t)})\n",
    "dictionaireDiscretFnsr.update({'Average convergence':str(c), 'Average diversity':str(d),\n",
    "                          'Average hypervolume':str(h)})"
   ]
  },
  {
   "cell_type": "code",
   "execution_count": 107,
   "metadata": {},
   "outputs": [
    {
     "name": "stdout",
     "output_type": "stream",
     "text": [
      "Time of execution:  0.379092812538147\n",
      "Convergence:  0.0010063314377735612\n",
      "Diversity:  0.2950789059634809\n",
      "hypervolume:  120.65875198366582\n"
     ]
    }
   ],
   "source": [
    "print(\"Time of execution: \",t)\n",
    "print(\"Convergence: \",c)\n",
    "print(\"Diversity: \",d)\n",
    "print(\"hypervolume: \",h)"
   ]
  },
  {
   "cell_type": "code",
   "execution_count": 108,
   "metadata": {},
   "outputs": [],
   "source": [
    "# Add a solution to the list of solutions\n",
    "list_of_solutions_discret.append(fnsr_solutions_discret)"
   ]
  },
  {
   "cell_type": "code",
   "execution_count": 109,
   "metadata": {
    "scrolled": true
   },
   "outputs": [
    {
     "data": {
      "image/png": "[encoded data removed]",
      "text/plain": [
       "<Figure size 432x288 with 1 Axes>"
      ]
     },
     "metadata": {
      "needs_background": "light"
     },
     "output_type": "display_data"
    }
   ],
   "source": [
    "juphelpers.plotFrontgraphics(np.array([benchmarks.zdt1(ind) for ind in fnsr_solutions_discret.bestPop]),\n",
    "                             np.array(optimal_front),\n",
    "                  title = \"Full Non-Dominated Sorting and Ranking\",xlabel=\"f1\",ylabel=\"f2\")"
   ]
  },
  {
   "cell_type": "code",
   "execution_count": 110,
   "metadata": {},
   "outputs": [],
   "source": [
    "# Saving information\n",
    "if saveEnabled:\n",
    "    juphelpers.GeneralCases.save_dict(dictionaireDiscretFnsr, folderOfCSVs, CsvFileNameDiscret)"
   ]
  },
  {
   "cell_type": "markdown",
   "metadata": {},
   "source": [
    "#### 5.8.4 Conclusion\n",
    "\n",
    "First, we note that non-dominated sorting and ranking appear to be the Simple Cull algorithm, but with a longer run time. However, it is much better than Simple Cull because we will not disclose any information. In other words, all the points will be ranked and those of rank 1 are part of the best front which, in this case, is the Pareto front of the solution.\n",
    "\n",
    "It should also be noted that the use of the crowding distance allows us to reduce the number of Pareto frontal points in an intelligent way. Even if the number of points is less than the initial number of points, we will have points that represent very well the Pareto front.\n",
    "\n",
    "So, because of the great complexity of the algorithm, if we have few points, it may be more advantageous than other stochastic algorithms."
   ]
  },
  {
   "cell_type": "markdown",
   "metadata": {},
   "source": [
    "#### 5.8.5 Bibliography\n",
    "\n",
    "<a id='fullnsrpseudo'></a>\n",
    "1. https://www.researchgate.net/figure/Pseudocode-of-the-fast-non-dominated-sort-algorithm_fig1_288975720\n",
    "<a id='mogsacrowdingdistance'></a>\n",
    "2. https://www.researchgate.net/publication/303184329_A_Multi_objective_gravitational_search_algorithm_based_on_non-dominated_sorting"
   ]
  },
  {
   "cell_type": "markdown",
   "metadata": {},
   "source": [
    "---\n",
    "<a id='ComparaisonDesResultats'></a>\n",
    "## 6. Comparison of results"
   ]
  },
  {
   "cell_type": "markdown",
   "metadata": {},
   "source": [
    "### 6.1 Continuous case"
   ]
  },
  {
   "cell_type": "code",
   "execution_count": 111,
   "metadata": {
    "scrolled": true
   },
   "outputs": [
    {
     "data": {
      "text/html": [
       "<div>\n",
       "<style scoped>\n",
       "    .dataframe tbody tr th:only-of-type {\n",
       "        vertical-align: middle;\n",
       "    }\n",
       "\n",
       "    .dataframe tbody tr th {\n",
       "        vertical-align: top;\n",
       "    }\n",
       "\n",
       "    .dataframe thead th {\n",
       "        text-align: right;\n",
       "    }\n",
       "</style>\n",
       "<table border=\"1\" class=\"dataframe\">\n",
       "  <thead>\n",
       "    <tr style=\"text-align: right;\">\n",
       "      <th></th>\n",
       "      <th>Methods</th>\n",
       "      <th>Data</th>\n",
       "      <th>Number of runs</th>\n",
       "      <th>Average time of execution (s)</th>\n",
       "      <th>Average convergence</th>\n",
       "      <th>Average diversity</th>\n",
       "      <th>Average hypervolume</th>\n",
       "    </tr>\n",
       "  </thead>\n",
       "  <tbody>\n",
       "    <tr>\n",
       "      <th>0</th>\n",
       "      <td>NSGAII</td>\n",
       "      <td>ZDT1</td>\n",
       "      <td>30</td>\n",
       "      <td>5.207257</td>\n",
       "      <td>0.005454</td>\n",
       "      <td>0.259872</td>\n",
       "      <td>120.537904</td>\n",
       "    </tr>\n",
       "    <tr>\n",
       "      <th>1</th>\n",
       "      <td>NSGAIII</td>\n",
       "      <td>ZDT1</td>\n",
       "      <td>30</td>\n",
       "      <td>2.332335</td>\n",
       "      <td>0.005974</td>\n",
       "      <td>0.810207</td>\n",
       "      <td>120.510977</td>\n",
       "    </tr>\n",
       "    <tr>\n",
       "      <th>2</th>\n",
       "      <td>SPEA2</td>\n",
       "      <td>ZDT1</td>\n",
       "      <td>30</td>\n",
       "      <td>9.041295</td>\n",
       "      <td>0.078957</td>\n",
       "      <td>0.999399</td>\n",
       "      <td>113.625959</td>\n",
       "    </tr>\n",
       "    <tr>\n",
       "      <th>3</th>\n",
       "      <td>MOGSA</td>\n",
       "      <td>ZDT1</td>\n",
       "      <td>30</td>\n",
       "      <td>136.321477</td>\n",
       "      <td>0.000748</td>\n",
       "      <td>0.410093</td>\n",
       "      <td>120.621109</td>\n",
       "    </tr>\n",
       "  </tbody>\n",
       "</table>\n",
       "</div>"
      ],
      "text/plain": [
       "   Methods  Data  Number of runs  Average time of execution (s)  Average convergence  Average diversity  Average hypervolume\n",
       "0  NSGAII   ZDT1  30              5.207257                       0.005454             0.259872           120.537904         \n",
       "1  NSGAIII  ZDT1  30              2.332335                       0.005974             0.810207           120.510977         \n",
       "2  SPEA2    ZDT1  30              9.041295                       0.078957             0.999399           113.625959         \n",
       "3  MOGSA    ZDT1  30              136.321477                     0.000748             0.410093           120.621109         "
      ]
     },
     "metadata": {},
     "output_type": "display_data"
    }
   ],
   "source": [
    "juphelpers.GeneralCases.open_csv(folderOfCSVs+\"/\"+CsvFileNameContinu)"
   ]
  },
  {
   "cell_type": "code",
   "execution_count": 112,
   "metadata": {},
   "outputs": [
    {
     "data": {
      "image/png": "[encoded data removed]",
      "text/plain": [
       "<Figure size 1440x1440 with 4 Axes>"
      ]
     },
     "metadata": {
      "needs_background": "light"
     },
     "output_type": "display_data"
    }
   ],
   "source": [
    "# Boxplot\n",
    "juphelpers.bData.box_plot_solutions(list_of_solutions_continu)"
   ]
  },
  {
   "cell_type": "markdown",
   "metadata": {},
   "source": [
    "### 6.2 Discrete case"
   ]
  },
  {
   "cell_type": "code",
   "execution_count": 113,
   "metadata": {
    "scrolled": true
   },
   "outputs": [
    {
     "data": {
      "text/html": [
       "<div>\n",
       "<style scoped>\n",
       "    .dataframe tbody tr th:only-of-type {\n",
       "        vertical-align: middle;\n",
       "    }\n",
       "\n",
       "    .dataframe tbody tr th {\n",
       "        vertical-align: top;\n",
       "    }\n",
       "\n",
       "    .dataframe thead th {\n",
       "        text-align: right;\n",
       "    }\n",
       "</style>\n",
       "<table border=\"1\" class=\"dataframe\">\n",
       "  <thead>\n",
       "    <tr style=\"text-align: right;\">\n",
       "      <th></th>\n",
       "      <th>Methods</th>\n",
       "      <th>Data</th>\n",
       "      <th>Number of runs</th>\n",
       "      <th>Real points</th>\n",
       "      <th>Fake points</th>\n",
       "      <th>Average time of execution (s)</th>\n",
       "      <th>Average convergence</th>\n",
       "      <th>Average diversity</th>\n",
       "      <th>Average hypervolume</th>\n",
       "    </tr>\n",
       "  </thead>\n",
       "  <tbody>\n",
       "    <tr>\n",
       "      <th>0</th>\n",
       "      <td>NSGAII</td>\n",
       "      <td>ZDT1</td>\n",
       "      <td>30</td>\n",
       "      <td>100</td>\n",
       "      <td>100</td>\n",
       "      <td>1.909504</td>\n",
       "      <td>0.000742</td>\n",
       "      <td>0.314567</td>\n",
       "      <td>120.654461</td>\n",
       "    </tr>\n",
       "    <tr>\n",
       "      <th>1</th>\n",
       "      <td>NSGAIII</td>\n",
       "      <td>ZDT1</td>\n",
       "      <td>30</td>\n",
       "      <td>100</td>\n",
       "      <td>100</td>\n",
       "      <td>2.255117</td>\n",
       "      <td>0.000909</td>\n",
       "      <td>0.417943</td>\n",
       "      <td>120.600375</td>\n",
       "    </tr>\n",
       "    <tr>\n",
       "      <th>2</th>\n",
       "      <td>SPEA2</td>\n",
       "      <td>ZDT1</td>\n",
       "      <td>30</td>\n",
       "      <td>100</td>\n",
       "      <td>100</td>\n",
       "      <td>83.875629</td>\n",
       "      <td>0.001252</td>\n",
       "      <td>0.152315</td>\n",
       "      <td>120.652560</td>\n",
       "    </tr>\n",
       "    <tr>\n",
       "      <th>3</th>\n",
       "      <td>MOGSA</td>\n",
       "      <td>ZDT1</td>\n",
       "      <td>30</td>\n",
       "      <td>100</td>\n",
       "      <td>100</td>\n",
       "      <td>302.225065</td>\n",
       "      <td>0.001041</td>\n",
       "      <td>0.331467</td>\n",
       "      <td>120.659283</td>\n",
       "    </tr>\n",
       "    <tr>\n",
       "      <th>4</th>\n",
       "      <td>Simple Cull</td>\n",
       "      <td>ZDT1</td>\n",
       "      <td>30</td>\n",
       "      <td>100</td>\n",
       "      <td>100</td>\n",
       "      <td>0.039782</td>\n",
       "      <td>0.001041</td>\n",
       "      <td>0.331467</td>\n",
       "      <td>120.659283</td>\n",
       "    </tr>\n",
       "    <tr>\n",
       "      <th>5</th>\n",
       "      <td>PSA</td>\n",
       "      <td>ZDT1</td>\n",
       "      <td>30</td>\n",
       "      <td>100</td>\n",
       "      <td>100</td>\n",
       "      <td>5.451708</td>\n",
       "      <td>0.001041</td>\n",
       "      <td>0.387417</td>\n",
       "      <td>120.601689</td>\n",
       "    </tr>\n",
       "    <tr>\n",
       "      <th>6</th>\n",
       "      <td>BinaryTabuSearch</td>\n",
       "      <td>ZDT1</td>\n",
       "      <td>30</td>\n",
       "      <td>100</td>\n",
       "      <td>100</td>\n",
       "      <td>0.101496</td>\n",
       "      <td>0.001037</td>\n",
       "      <td>0.340288</td>\n",
       "      <td>120.659283</td>\n",
       "    </tr>\n",
       "    <tr>\n",
       "      <th>7</th>\n",
       "      <td>FullNonDominatedSortingAndRanking</td>\n",
       "      <td>ZDT1</td>\n",
       "      <td>30</td>\n",
       "      <td>100</td>\n",
       "      <td>100</td>\n",
       "      <td>0.379093</td>\n",
       "      <td>0.001006</td>\n",
       "      <td>0.295079</td>\n",
       "      <td>120.658752</td>\n",
       "    </tr>\n",
       "  </tbody>\n",
       "</table>\n",
       "</div>"
      ],
      "text/plain": [
       "                             Methods  Data  Number of runs  Real points  Fake points  Average time of execution (s)  Average convergence  Average diversity  Average hypervolume\n",
       "0  NSGAII                             ZDT1  30              100          100          1.909504                       0.000742             0.314567           120.654461         \n",
       "1  NSGAIII                            ZDT1  30              100          100          2.255117                       0.000909             0.417943           120.600375         \n",
       "2  SPEA2                              ZDT1  30              100          100          83.875629                      0.001252             0.152315           120.652560         \n",
       "3  MOGSA                              ZDT1  30              100          100          302.225065                     0.001041             0.331467           120.659283         \n",
       "4  Simple Cull                        ZDT1  30              100          100          0.039782                       0.001041             0.331467           120.659283         \n",
       "5  PSA                                ZDT1  30              100          100          5.451708                       0.001041             0.387417           120.601689         \n",
       "6  BinaryTabuSearch                   ZDT1  30              100          100          0.101496                       0.001037             0.340288           120.659283         \n",
       "7  FullNonDominatedSortingAndRanking  ZDT1  30              100          100          0.379093                       0.001006             0.295079           120.658752         "
      ]
     },
     "metadata": {},
     "output_type": "display_data"
    }
   ],
   "source": [
    "juphelpers.GeneralCases.open_csv(folderOfCSVs+\"/\"+CsvFileNameDiscret)"
   ]
  },
  {
   "cell_type": "code",
   "execution_count": 114,
   "metadata": {},
   "outputs": [
    {
     "data": {
      "image/png": "[encoded data removed]",
      "text/plain": [
       "<Figure size 1440x1440 with 4 Axes>"
      ]
     },
     "metadata": {
      "needs_background": "light"
     },
     "output_type": "display_data"
    }
   ],
   "source": [
    "# Boxplot\n",
    "juphelpers.bData.box_plot_solutions(list_of_solutions_discret)"
   ]
  },
  {
   "cell_type": "markdown",
   "metadata": {},
   "source": [
    "---\n",
    "<a id='Conclusion'></a>\n",
    "## 7. Conclusion"
   ]
  },
  {
   "cell_type": "markdown",
   "metadata": {},
   "source": [
    "Different multiobjective optimization algorithms have been tested and compared using different metaheuristics. Some algorithms have also been realized in both versions (continuous and discrete). Three measures were chosen to compare the algorithms **(hypervolume, convergence and divergence)**.\n",
    "\n",
    "Binary genetic algorithms have achieved excellent results of hypervolume, convergence and divergence. Algorithms such as Simple Cull, Full Non-Dominated Sorting and Ranking and Binary Tabu Search have achieved excellent convergences, but they are algorithms that study the entire point space for each point, so they have **complexities of $ O (N ^ 2 \\cdot dim) $**, so that they will have a long run time for large databases. It should also be noted that the PSA, even if it is the process that uses the least amount of information on all points, gives good results.\n",
    "\n",
    "The MOGSA method has indeed resulted in optimal convergence results, as predicted by several articles. Even if the binary version gives good results, it is an algorithm whose **operators can still be exploited**. As stated previously, at the time of creating this code, there is not much information on a binary version version of the MOGSA method, therefore, the continuous version has been modified to a binary version and a mutation operator has been added.\n",
    "\n",
    "Algorithms such as Full Non-Dominated Sorting and Ranking, MOGSA, NSGSAII and NSGSAIII have a great advantage: they provide secondary, tertiary and other Pareto fronts up to the last point of the database or population. Therefore, **NSGSAII and NSGAIII** being a consistent and widely used method offering great benefits (like speed), these algorithms would be an excellent choice for use in more robust projects (without giving up the utility of testing other algorithms and perform data engineering to select the best points of the NSGSAII and NSGAIII results to improve diversity).\n",
    "\n",
    "So, if the problem has few points, it is advisable to use deterministic algorithms such as **Simple Cull** and **Non-Dominated Sorting and Ranking**, especially the latter, because it provides other secondary fronts, thirds, etc. However, if there is a lot of data, it is advisable to use **SPEA2** (adjust the parameters to optimize the speed) to have a good diversity or to use **NSGAII** (few functions to optimize ) and **NSGAIII** (in the case of several functions to optimize) to obtain, with high speed and almost constant, not only the Pareto front, but also other fronts as well as Non-Dominated Sorting and Ranking algorithm. Regardless of the method used, crowding distance can be used to intelligently reduce the number of points in the Pareto front and continue to have points that describe it well (so that diversity is improved)."
   ]
  },
  {
   "cell_type": "markdown",
   "metadata": {},
   "source": [
    "---\n",
    "<a id='AnnexeA'></a>\n",
    "## 8. Appendix A - Other algorithms"
   ]
  },
  {
   "cell_type": "markdown",
   "metadata": {},
   "source": [
    "<a id='ParetoAntColony'></a>\n",
    "### 8.1 Pareto Ant Colony"
   ]
  },
  {
   "cell_type": "markdown",
   "metadata": {},
   "source": [
    "#### 8.1.1 introduction"
   ]
  },
  {
   "cell_type": "markdown",
   "metadata": {},
   "source": [
    "The idea is very simple. This is an algorithm based on an ant colony and their behavior. Ants leave traces of pheromone as they pass, bringing other ants into the same spot. A given ant would follow the path with more pheromones. In this algorithm, the paths that have the most important points receive more pheromone at each iteration."
   ]
  },
  {
   "cell_type": "markdown",
   "metadata": {},
   "source": [
    "#### 8.1.2 Methodology"
   ]
  },
  {
   "cell_type": "markdown",
   "metadata": {},
   "source": [
    "Image taken from [[1]](#PACO):\n",
    "![PseudocodePACO1](images/PACO1.png)\n",
    "![PseudocodePACO2](images/PACO2.png)"
   ]
  },
  {
   "cell_type": "markdown",
   "metadata": {},
   "source": [
    "#### 8.1.3 Discussion"
   ]
  },
  {
   "cell_type": "markdown",
   "metadata": {},
   "source": [
    "First of all about P-ACO. It is a very open algorithm, that is to say it is necessary to have initial information on the problem and the data set to establish different rules, which can even lead to the search for good solutions, but not belonging to the Pareto curve according to the criterion of choice of the 2 best ants.\n",
    "\n",
    "Always in relation with P-ACO, it is an algorithm that needs to be improved with other techniques (such as the dynamic heuristic information calculation approach[[2]](#ModifiedPACO)) to increase its robustness. **Each technique can exponentially increase the complexity of the algorithm which can vary considerably depending on the number of ants and points.**\n",
    "\n",
    "Finally, there is an algorithm called m-ACO in which ants that can find a Pareto curve will be rewarded. This algorithm is in the same situation as P-ACO with respect to improvements and, with improvements, **the SPEA (version prior to SPEA2 which, in turn, gives results that can be exceeded by the NSGAII) a results close to or better than m-ACO**.[[3]](#m-ACO)"
   ]
  },
  {
   "cell_type": "markdown",
   "metadata": {},
   "source": [
    "##### 8.1.4 Bibliography\n",
    "<a id='PACO'></a>\n",
    "1. https://link.springer.com/content/pdf/10.1023%2FB%3AANOR.0000039513.99038.c6.pdf\n",
    "<a id='ModifiedPACO'></a>\n",
    "2. https://www.hindawi.com/journals/ijae/2017/1746124/\n",
    "<a id='m-ACO'></a>\n",
    "3. https://www.researchgate.net/publication/4302134_Ant_Colony_Optimization_for_Multi-Objective_Optimization_Problems"
   ]
  },
  {
   "cell_type": "markdown",
   "metadata": {},
   "source": [
    "---\n",
    "<a id='MOPS'></a>\n",
    "### 8.2 Multi-Objective Particle Swarm"
   ]
  },
  {
   "cell_type": "markdown",
   "metadata": {},
   "source": [
    "#### 8.2.1 introduction"
   ]
  },
  {
   "cell_type": "markdown",
   "metadata": {},
   "source": [
    "It is an algorithm that will try iteratively to improve the results of possible candidates (particles) with respect to different objectives while trying to establish a Pareto curve."
   ]
  },
  {
   "cell_type": "markdown",
   "metadata": {},
   "source": [
    "#### 8.2.2 Méthodologie\n",
    "This algorithm is very close to [NSGSA](#NSGSA), where each particle will change its velocity and position relative to another particle. What is different is that the update (which only concerns the position and the speed) is updated with respect to a singular point (the \"main particle\") and the information of the particle being set. day (as the best position)."
   ]
  },
  {
   "cell_type": "markdown",
   "metadata": {},
   "source": [
    "Image taken from [[1]](#HumanInteractionMultiObjectivePSO):\n",
    "![MOPSO-PSEUDO](images/MOPSO-PSEUDO.png)\n",
    "![MOPSO-PSEUDO2](images/MOPSO-PSEUDO2.png)"
   ]
  },
  {
   "cell_type": "markdown",
   "metadata": {},
   "source": [
    "#### 8.2.3 Discussion\n",
    "\n",
    "It should be noted that this is a less robust method than [NSGSA](#NSGSA), in which only the two-point information will be taken into account for the updates. In fact, according to the results illustrated in [[1]](#HumanInteractionMultiObjectivePSO), in one case, the algorithm favored one objective more than the other in the search for the Pareto curve, while in the other, it classified certain non-dominated points into dominated points."
   ]
  },
  {
   "cell_type": "markdown",
   "metadata": {},
   "source": [
    "##### 8.2.4 Bibliography\n",
    "<a id='HumanInteractionMultiObjectivePSO'></a>\n",
    "1. https://www.sciencedirect.com/science/article/pii/S0895717710000695#fd9"
   ]
  },
  {
   "cell_type": "markdown",
   "metadata": {
    "slideshow": {
     "slide_type": "slide"
    }
   },
   "source": [
    "## General Bibliography\n",
    "<a id='BGNSGAII'></a>\n",
    "1. [Results avec NSGAII](https://www.researchgate.net/figure/Comparison-between-GA-NSGA-II-and-NSGA_fig1_235697487)\n",
    "<a id='BGNSGSA'></a>\n",
    "2. [Resultats avec NSGSA](http://icsi11.eisti.fr/papers/paper_12.pdf)\n",
    "<a id='BGComp'></a>\n",
    "3. [Comparaison entre différents algorithmes](https://www.google.com/url?sa=i&rct=j&q=&esrc=s&source=images&cd=&ved=2ahUKEwjY7aijlonjAhVr8-AKHVI4C_cQ5TV6BAgBEAs&url=http%3A%2F%2Fwww.itiis.org%2Fdigital-library%2Fmanuscript%2Ffile%2F1714%2FTIIS%2BVol%2B11%2C%2BNo%2B6-5.pdf&psig=AOvVaw3iiTXtf-9Qy0ZPYB8Zk8Cp&ust=1561708052099278)\n",
    "<a id='metriquesconvergenceetdiversity'></a>\n",
    "4. [Metrics: convergence and diversity](https://deap.readthedocs.io/en/master/api/benchmarks.html)\n",
    "<a id='metriqueshypervolume'></a>\n",
    "5. [Metrics: hypervolume](https://hal.inria.fr/inria-00638989/file/tcspaper.pdf)\n",
    "<a id='paretofrontexpl'></a>\n",
    "6. [Pareto front](https://en.wikipedia.org/wiki/Pareto_efficiency)"
   ]
  }
 ],
 "metadata": {
  "celltoolbar": "Slideshow",
  "kernelspec": {
   "display_name": "Python 3",
   "language": "python",
   "name": "python3"
  },
  "language_info": {
   "codemirror_mode": {
    "name": "ipython",
    "version": 3
   },
   "file_extension": ".py",
   "mimetype": "text/x-python",
   "name": "python",
   "nbconvert_exporter": "python",
   "pygments_lexer": "ipython3",
   "version": "3.6.5"
  },
  "varInspector": {
   "cols": {
    "lenName": 16,
    "lenType": 16,
    "lenVar": 40
   },
   "kernels_config": {
    "python": {
     "delete_cmd_postfix": "",
     "delete_cmd_prefix": "del ",
     "library": "var_list.py",
     "varRefreshCmd": "print(var_dic_list())"
    },
    "r": {
     "delete_cmd_postfix": ") ",
     "delete_cmd_prefix": "rm(",
     "library": "var_list.r",
     "varRefreshCmd": "cat(var_dic_list()) "
    }
   },
   "types_to_exclude": [
    "module",
    "function",
    "builtin_function_or_method",
    "instance",
    "_Feature"
   ],
   "window_display": false
  }
 },
 "nbformat": 4,
 "nbformat_minor": 2
}
