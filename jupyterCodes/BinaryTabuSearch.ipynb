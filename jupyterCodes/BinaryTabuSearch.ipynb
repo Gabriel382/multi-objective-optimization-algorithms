{
 "cells": [
  {
   "cell_type": "markdown",
   "metadata": {},
   "source": [
    "# Binary Tabu Search\n",
    "\n",
    "> This code performs the Binary Tabu Search for the binary case where it is desired to find the set of pareto in a given set of points."
   ]
  },
  {
   "cell_type": "markdown",
   "metadata": {},
   "source": [
    "## 1. Importing"
   ]
  },
  {
   "cell_type": "code",
   "execution_count": 10,
   "metadata": {},
   "outputs": [],
   "source": [
    "import random\n",
    "import numpy as np\n",
    "import math\n",
    "import time\n",
    "from deap import benchmarks"
   ]
  },
  {
   "cell_type": "markdown",
   "metadata": {},
   "source": [
    "## 2. Helpers of helpers"
   ]
  },
  {
   "cell_type": "code",
   "execution_count": null,
   "metadata": {},
   "outputs": [],
   "source": []
  },
  {
   "cell_type": "markdown",
   "metadata": {},
   "source": [
    "## 3. Tabu Search Operators"
   ]
  },
  {
   "cell_type": "code",
   "execution_count": 11,
   "metadata": {},
   "outputs": [],
   "source": [
    "# Check Domination\n",
    "def dominates(row, candidateRow, evalfunction, weights):\n",
    "    '''\n",
    "    Introduction:\n",
    "        Function to determine with candidateRow dominates row\n",
    "    ---\n",
    "    \n",
    "    Input:\n",
    "        row: Iterable object (list, set, ...)\n",
    "            It's dominated?\n",
    "        \n",
    "        candidateRow : Iterable object (list, set, ...)\n",
    "            It dominates?\n",
    "            \n",
    "        evalfunction : Function\n",
    "            Function to map both rows to the space\n",
    "            where they will be compared\n",
    "            \n",
    "        weights : Iterable object (list, set, ...)\n",
    "            Weights of each dimension of the output\n",
    "            They will will be used to maximize or\n",
    "            minimize each feature\n",
    "    ---\n",
    "    \n",
    "    Output:\n",
    "        Boolean :\n",
    "            True if it's dominated, false otherwise\n",
    "    '''\n",
    "    rrow = evalfunction(row)\n",
    "    rcandidaterow = evalfunction(candidateRow)\n",
    "\n",
    "    if len(rcandidaterow) != len(weights):\n",
    "        raise Exception('Output of function different from number of weights')\n",
    "    \n",
    "    return sum([rrow[x]*weights[x] <= rcandidaterow[x]*weights[x] for x in range(len(rrow))]) == len(rrow)"
   ]
  },
  {
   "cell_type": "markdown",
   "metadata": {},
   "source": [
    "## 4. Binary Tabu Search"
   ]
  },
  {
   "cell_type": "code",
   "execution_count": 12,
   "metadata": {},
   "outputs": [],
   "source": [
    "def binary_pareto_tabu_search(obj, weights, X):\n",
    "    '''\n",
    "    Introduction:\n",
    "        Function to find the pareto set of the points in X\n",
    "    ---\n",
    "    \n",
    "    Input:\n",
    "        obj: Function\n",
    "            Multi-objective function to optimize\n",
    "            \n",
    "        weights : Iterable object (list, set, ...)\n",
    "            Weights of each dimension of the output\n",
    "            They will will be used to maximize or\n",
    "            minimize each feature\n",
    "            \n",
    "        X : List\n",
    "            List of all points\n",
    "    ---\n",
    "    \n",
    "    Output:\n",
    "        The pareto set of X\n",
    "    '''\n",
    "    # Init first pareto front\n",
    "    dim = len(X)\n",
    "    ceil_value = [1]*dim\n",
    "    S = [1] + [0]*(dim-1) # Pareto front\n",
    "    \n",
    "    Tabu = set([])\n",
    "    \n",
    "    # All possible moves\n",
    "    M = [int(x) for x in range(len(X)) if x not in Tabu and S[x] != 1]\n",
    "\n",
    "    for m in M:\n",
    "        nomDominated = True\n",
    "        for i in range(len(S)):\n",
    "            # Solution in Pareto Front\n",
    "            if S[i] == 1:\n",
    "                if dominates(X[m], X[i], obj, weights):\n",
    "                    nomDominated = False\n",
    "                    Tabu.add(m)\n",
    "                elif dominates(X[i], X[m], obj, weights):\n",
    "                    S[i] = 0\n",
    "                    Tabu.add(i)\n",
    "                # If not dominated, add to Solution\n",
    "                if nomDominated:\n",
    "                    # Move\n",
    "                    S[m] = 1\n",
    "                # S' is a better solution than S, so we modifie directly in S\n",
    "    sol =  []\n",
    "    for i in range(len(S)):\n",
    "        if S[i] == 1:\n",
    "            sol.append(X[i])\n",
    "    \n",
    "    return sol"
   ]
  }
 ],
 "metadata": {
  "kernelspec": {
   "display_name": "Python 3",
   "language": "python",
   "name": "python3"
  },
  "language_info": {
   "codemirror_mode": {
    "name": "ipython",
    "version": 3
   },
   "file_extension": ".py",
   "mimetype": "text/x-python",
   "name": "python",
   "nbconvert_exporter": "python",
   "pygments_lexer": "ipython3",
   "version": "3.6.8"
  },
  "varInspector": {
   "cols": {
    "lenName": 16,
    "lenType": 16,
    "lenVar": 40
   },
   "kernels_config": {
    "python": {
     "delete_cmd_postfix": "",
     "delete_cmd_prefix": "del ",
     "library": "var_list.py",
     "varRefreshCmd": "print(var_dic_list())"
    },
    "r": {
     "delete_cmd_postfix": ") ",
     "delete_cmd_prefix": "rm(",
     "library": "var_list.r",
     "varRefreshCmd": "cat(var_dic_list()) "
    }
   },
   "types_to_exclude": [
    "module",
    "function",
    "builtin_function_or_method",
    "instance",
    "_Feature"
   ],
   "window_display": false
  }
 },
 "nbformat": 4,
 "nbformat_minor": 2
}
