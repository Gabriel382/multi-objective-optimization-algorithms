{
 "cells": [
  {
   "cell_type": "markdown",
   "metadata": {},
   "source": [
    "# SimpleCull\n",
    "\n",
    "> This code performs the Simple Cull algorithm for a group of given points."
   ]
  },
  {
   "cell_type": "markdown",
   "metadata": {},
   "source": [
    "## 1. Importing"
   ]
  },
  {
   "cell_type": "code",
   "execution_count": 4,
   "metadata": {},
   "outputs": [],
   "source": [
    "import random"
   ]
  },
  {
   "cell_type": "markdown",
   "metadata": {},
   "source": [
    "## 2. Helpers"
   ]
  },
  {
   "cell_type": "code",
   "execution_count": 5,
   "metadata": {},
   "outputs": [],
   "source": [
    "def dominates(row, candidateRow, evalfunction, weights):\n",
    "    '''\n",
    "    Intro:\n",
    "        Function that tests if one point dominates another.\n",
    "    ---\n",
    "    Input:\n",
    "        row: List of numerical values\n",
    "            Point that will be checked if it is being dominated.\n",
    "        candidateRow: List of numerical values\n",
    "            Point that will be checked if it's dominating.\n",
    "        evalfunction: Function\n",
    "            Multi-objective function that will take\n",
    "            value lists to output space to check dominance.\n",
    "        weights: Tuple of values\n",
    "            Values that will balance (to maximize / minimize) \n",
    "            the values of each list position in the output space.\n",
    "    ---\n",
    "    Output:\n",
    "        True if candidateRow dominates, false otherwise\n",
    "    ''' \n",
    "    rrow = evalfunction(row)\n",
    "    rcandidaterow = evalfunction(candidateRow)\n",
    "    \n",
    "    if len(rcandidaterow) != len(weights):\n",
    "        raise Exception('Output of function different from number of weights')\n",
    "    \n",
    "    return sum([rrow[x]*weights[x] <= rcandidaterow[x]*weights[x] for x in range(len(rrow))]) == len(rrow)"
   ]
  },
  {
   "cell_type": "markdown",
   "metadata": {},
   "source": [
    "## 3. Simple Cull"
   ]
  },
  {
   "cell_type": "code",
   "execution_count": 1,
   "metadata": {},
   "outputs": [],
   "source": [
    "def simple_cull(AllPoints, evalfunction, weights):\n",
    "    '''\n",
    "    Intro:\n",
    "        Function that returns dominated and \n",
    "        non-dominated points (pareto front) \n",
    "        of all points\n",
    "    ---\n",
    "    Input:\n",
    "        AllPoints: List of List\n",
    "            All points (as list of numerical values)\n",
    "        evalfunction: Function\n",
    "            Multi-objective function that will take\n",
    "            value lists to output space to check dominance.\n",
    "        weights: Tuple of values\n",
    "            Values that will balance (to maximize / minimize) \n",
    "            the values of each list position in the output space.\n",
    "    ---\n",
    "    Output:\n",
    "        Returns dominated and \n",
    "        non-dominated points (pareto front) \n",
    "        of all points\n",
    "    ''' \n",
    "    inputPoints = AllPoints.copy()\n",
    "    \n",
    "    paretoPoints = set()\n",
    "    candidateRowNr = 0\n",
    "    dominatedPoints = set()    \n",
    "    \n",
    "    while True:\n",
    "        candidateRow = inputPoints[candidateRowNr]\n",
    "        inputPoints.remove(candidateRow)\n",
    "        rowNr = 0\n",
    "        nonDominated = True\n",
    "        while len(inputPoints) != 0 and rowNr < len(inputPoints):\n",
    "            row = inputPoints[rowNr]\n",
    "            if dominates(candidateRow, row, evalfunction, weights):\n",
    "                # If it is worse on all features remove the row from the array\n",
    "                inputPoints.remove(row)\n",
    "                dominatedPoints.add(tuple(row))\n",
    "            elif dominates(row, candidateRow, evalfunction, weights):\n",
    "                nonDominated = False\n",
    "                dominatedPoints.add(tuple(candidateRow))\n",
    "                rowNr += 1\n",
    "            else:\n",
    "                rowNr += 1\n",
    "\n",
    "        if nonDominated:\n",
    "            # add the non-dominated point to the Pareto frontier\n",
    "            paretoPoints.add(tuple(candidateRow))\n",
    "\n",
    "        if len(inputPoints) == 0:\n",
    "            break\n",
    "            \n",
    "    return [list(x) for x in paretoPoints], [list(x) for x in dominatedPoints],"
   ]
  }
 ],
 "metadata": {
  "kernelspec": {
   "display_name": "Python 3",
   "language": "python",
   "name": "python3"
  },
  "language_info": {
   "codemirror_mode": {
    "name": "ipython",
    "version": 3
   },
   "file_extension": ".py",
   "mimetype": "text/x-python",
   "name": "python",
   "nbconvert_exporter": "python",
   "pygments_lexer": "ipython3",
   "version": "3.6.8"
  },
  "varInspector": {
   "cols": {
    "lenName": 16,
    "lenType": 16,
    "lenVar": 40
   },
   "kernels_config": {
    "python": {
     "delete_cmd_postfix": "",
     "delete_cmd_prefix": "del ",
     "library": "var_list.py",
     "varRefreshCmd": "print(var_dic_list())"
    },
    "r": {
     "delete_cmd_postfix": ") ",
     "delete_cmd_prefix": "rm(",
     "library": "var_list.r",
     "varRefreshCmd": "cat(var_dic_list()) "
    }
   },
   "types_to_exclude": [
    "module",
    "function",
    "builtin_function_or_method",
    "instance",
    "_Feature"
   ],
   "window_display": false
  }
 },
 "nbformat": 4,
 "nbformat_minor": 2
}
