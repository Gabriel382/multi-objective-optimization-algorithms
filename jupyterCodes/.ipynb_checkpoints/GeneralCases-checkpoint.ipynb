{
 "cells": [
  {
   "cell_type": "markdown",
   "metadata": {},
   "source": [
    "# GeneralCases\n",
    "\n",
    "> This code has functions for general cases, mainly involving manipulations with the database."
   ]
  },
  {
   "cell_type": "markdown",
   "metadata": {},
   "source": [
    "## 1. Importing"
   ]
  },
  {
   "cell_type": "code",
   "execution_count": 1,
   "metadata": {},
   "outputs": [],
   "source": [
    "import math\n",
    "import pandas as pd\n",
    "import numpy as np\n",
    "import os\n",
    "import pygmo as pg"
   ]
  },
  {
   "cell_type": "markdown",
   "metadata": {},
   "source": [
    "## 2. Functions"
   ]
  },
  {
   "cell_type": "code",
   "execution_count": 1,
   "metadata": {},
   "outputs": [],
   "source": [
    "def binToInt(individual):\n",
    "    '''\n",
    "    Input:\n",
    "        individual: deap.toolbox.individual\n",
    "            bit iterable (tuple, list, ...).\n",
    "    ---\n",
    "    Output:\n",
    "        Converts bit to int\n",
    "    ''' \n",
    "    out = 0\n",
    "    for bit in individual:\n",
    "        out = (out << 1) | int(bit)\n",
    "    return out"
   ]
  },
  {
   "cell_type": "code",
   "execution_count": 2,
   "metadata": {},
   "outputs": [],
   "source": [
    "def distance(x):\n",
    "    '''\n",
    "    Intro:\n",
    "        Function that calculates the distance between two points.\n",
    "        \n",
    "    ''' \n",
    "    d = 0\n",
    "    for e in x:\n",
    "        d += (e)**2\n",
    "    return math.sqrt(d)"
   ]
  },
  {
   "cell_type": "code",
   "execution_count": 3,
   "metadata": {},
   "outputs": [],
   "source": [
    "def normalisedListOfList(X):\n",
    "    '''\n",
    "    Intro:\n",
    "        Returns a normalized list\n",
    "    ---\n",
    "    Input:\n",
    "        X: List of List\n",
    "            List of Points\n",
    "    ---\n",
    "    Output:\n",
    "        List of normalized points\n",
    "    ''' \n",
    "    Xnp = np.array(X)\n",
    "    biggestValues = Xnp.max(axis=0)\n",
    "    for j in range(Xnp.shape[1]):\n",
    "        Xnp[:,j] = Xnp[:,j]/biggestValues[j]\n",
    "    return Xnp.tolist()"
   ]
  },
  {
   "cell_type": "code",
   "execution_count": 4,
   "metadata": {},
   "outputs": [],
   "source": [
    "def normalizedSorting(X):\n",
    "    '''\n",
    "    Intro:\n",
    "        Sorts the points by ordering them using\n",
    "        the distance between them and the origin,\n",
    "        but only after normalization.\n",
    "    ---\n",
    "    Input:\n",
    "        X: List of List\n",
    "            List of Points.\n",
    "    ---\n",
    "    Output:\n",
    "        The normalized list.\n",
    "        \n",
    "    ''' \n",
    "    Xnm = normalisedListOfList(X)\n",
    "    Y = [distance(x) for x in Xnm]\n",
    "    Xnew = [x for _,x in sorted(zip(Y,X))]\n",
    "    return Xnew"
   ]
  },
  {
   "cell_type": "markdown",
   "metadata": {},
   "source": [
    "## 3. Statistical tools"
   ]
  },
  {
   "cell_type": "code",
   "execution_count": 20,
   "metadata": {},
   "outputs": [],
   "source": [
    "def diversity(first_front, first, last):\n",
    "    \"\"\"Given a Pareto front `first_front` and the two extreme points of the \n",
    "    optimal Pareto front, this function returns a metric of the diversity \n",
    "    of the front as explained in the original NSGA-II article by K. Deb.\n",
    "    The smaller the value is, the better the front is.\n",
    "    \"\"\"\n",
    "    df = math.hypot(first_front[0][0] - first[0],\n",
    "               first_front[0][1] - first[1])\n",
    "    dl = math.hypot(first_front[-1][0] - last[0],\n",
    "               first_front[-1][1] - last[1])\n",
    "    dt = [math.hypot(first[0] - second[0],\n",
    "                first[1] - second[1])\n",
    "          for first, second in zip(first_front[:-1], first_front[1:])]\n",
    "\n",
    "    if len(first_front) == 1:\n",
    "        return df + dl\n",
    "\n",
    "    dm = sum(dt)/len(dt)\n",
    "    di = sum(abs(d_i - dm) for d_i in dt)\n",
    "    delta = (df + dl + di)/(df + dl + len(dt) * dm )\n",
    "    return delta\n",
    "\n",
    "def convergence(first_front, optimal_front):\n",
    "    \"\"\"Given a Pareto front `first_front` and the optimal Pareto front, \n",
    "    this function returns a metric of convergence\n",
    "    of the front as explained in the original NSGA-II article by K. Deb.\n",
    "    The smaller the value is, the closer the front is to the optimal one.\n",
    "    \"\"\"\n",
    "    distances = []\n",
    "    \n",
    "    for ind in first_front:\n",
    "        distances.append(float(\"inf\"))\n",
    "        for opt_ind in optimal_front:\n",
    "            dist = 0.\n",
    "            for i in range(len(opt_ind)):\n",
    "                dist += (ind[i] - opt_ind[i])**2\n",
    "            if dist < distances[-1]:\n",
    "                distances[-1] = dist\n",
    "        distances[-1] = math.sqrt(distances[-1])\n",
    "        \n",
    "    return sum(distances) / len(distances)"
   ]
  },
  {
   "cell_type": "code",
   "execution_count": 6,
   "metadata": {},
   "outputs": [],
   "source": [
    "def hypervolume(front, ref):\n",
    "    \"\"\"\n",
    "    Intro:\n",
    "        Returns the front hypervolume\n",
    "        relative to the reference point.\n",
    "    ---\n",
    "    Input:\n",
    "        front: List of List\n",
    "            List of Points.\n",
    "        ref: List\n",
    "            Lists the coordinates of the\n",
    "            reference point.\n",
    "    ---\n",
    "    Output:\n",
    "        The hypervolume value.\n",
    "    \"\"\"\n",
    "    hv = pg.hypervolume(front)\n",
    "    return hv.compute(ref, hv_algo=pg.hvwfg())"
   ]
  },
  {
   "cell_type": "markdown",
   "metadata": {},
   "source": [
    "## 4. Save statistics"
   ]
  },
  {
   "cell_type": "code",
   "execution_count": 38,
   "metadata": {},
   "outputs": [],
   "source": [
    "def save_dict(dictionary, folderpath, filename):\n",
    "    \"\"\"\n",
    "    Intro:\n",
    "        Function that saves dictionary in csv\n",
    "    ---\n",
    "    Input:\n",
    "        dictionary: Dict\n",
    "            Dictionary of values to be saved (keys\n",
    "            are the columns and key values are the\n",
    "            values in the matrix)\n",
    "        folderpath: String\n",
    "            Path to folder where the\n",
    "            file will be saved.\n",
    "        filename: String\n",
    "            Name of file to save\n",
    "    ---\n",
    "    Output:\n",
    "        The hypervolume value.\n",
    "    \"\"\"\n",
    "    if not os.path.exists(folderpath):\n",
    "        os.makedirs(folderpath)\n",
    "        \n",
    "    path = folderpath + \"/\" + filename\n",
    "    df = pd.DataFrame(dictionary, columns=dictionary.keys(), index=[0])\n",
    "    if not os.path.isfile(path):\n",
    "        df.to_csv(path, header=dictionary.keys(), index=None)\n",
    "    else:\n",
    "        df.to_csv(path, mode=\"a\", header=False, index=None)"
   ]
  },
  {
   "cell_type": "code",
   "execution_count": 43,
   "metadata": {},
   "outputs": [],
   "source": [
    "def open_csv(filepath):\n",
    "    '''\n",
    "    Intro:\n",
    "        Recovers csv file\n",
    "    ---\n",
    "    Input:\n",
    "        filepath: String\n",
    "            Path to file\n",
    "    ---\n",
    "    Output:\n",
    "        A DataFrame of the csv File\n",
    "    '''\n",
    "    if not os.path.isfile(filepath):\n",
    "        raise Exception('This path does not exist: ' + filepath)\n",
    "    else:\n",
    "        pd.set_option('display.max_rows', 500)\n",
    "        pd.set_option('display.max_columns', 500)\n",
    "        pd.set_option('display.width', 1000)\n",
    "        pd.set_option('display.expand_frame_repr', False)\n",
    "        pd.set_option('display.max_colwidth', -1)\n",
    "        df = pd.read_csv(filepath)\n",
    "        display(df)"
   ]
  }
 ],
 "metadata": {
  "kernelspec": {
   "display_name": "Python 3",
   "language": "python",
   "name": "python3"
  },
  "language_info": {
   "codemirror_mode": {
    "name": "ipython",
    "version": 3
   },
   "file_extension": ".py",
   "mimetype": "text/x-python",
   "name": "python",
   "nbconvert_exporter": "python",
   "pygments_lexer": "ipython3",
   "version": "3.6.8"
  },
  "varInspector": {
   "cols": {
    "lenName": 16,
    "lenType": 16,
    "lenVar": 40
   },
   "kernels_config": {
    "python": {
     "delete_cmd_postfix": "",
     "delete_cmd_prefix": "del ",
     "library": "var_list.py",
     "varRefreshCmd": "print(var_dic_list())"
    },
    "r": {
     "delete_cmd_postfix": ") ",
     "delete_cmd_prefix": "rm(",
     "library": "var_list.r",
     "varRefreshCmd": "cat(var_dic_list()) "
    }
   },
   "types_to_exclude": [
    "module",
    "function",
    "builtin_function_or_method",
    "instance",
    "_Feature"
   ],
   "window_display": false
  }
 },
 "nbformat": 4,
 "nbformat_minor": 2
}
