{
 "cells": [
  {
   "cell_type": "code",
   "execution_count": 1,
   "metadata": {},
   "outputs": [],
   "source": [
    "import folium\n",
    "import numpy as np\n",
    "import random\n",
    "import webbrowser"
   ]
  },
  {
   "cell_type": "code",
   "execution_count": null,
   "metadata": {},
   "outputs": [],
   "source": [
    "class DataFrameToMapManager:\n",
    "    '''\n",
    "    This class has the purpose of using data\n",
    "    from a dataframe to feed a map with its \n",
    "    information concentrated in points.\n",
    "    '''\n",
    "    def __init__(self,df):\n",
    "        self.df = df\n",
    "        \n",
    "    def indexes_DF(self, indexes):\n",
    "        '''\n",
    "        Intro:\n",
    "            Function to filter the number of points in the DataFrame.\n",
    "        ---\n",
    "        Input:\n",
    "            indexes: List of integers\n",
    "                Row indices to filter DataFrame.\n",
    "        '''\n",
    "        self.df = self.df.loc[np.unique(np.array(indexes)), :]\n",
    "        \n",
    "    def displayInMap(self, center,columnsToShow,xupperlimit=0.00009,xlowerlimit=0.00001,yupperlimit=0.00009,ylowerlimit=0.00001):\n",
    "        '''\n",
    "        Intro:\n",
    "            Function to plot informations in a map\n",
    "        ---\n",
    "        Input:\n",
    "            center : List\n",
    "                List with Latitude and Longitude\n",
    "            columnsToShow : List\n",
    "                List with the names of the columns to show\n",
    "            xs and ys limits: Floats\n",
    "                Lower and upper values that will be used to\n",
    "                choose random number to push the point found\n",
    "                so that no two points can overlap\n",
    "                \n",
    "        '''\n",
    "        # Setting the map\n",
    "        m = folium.Map(location=center, zoom_start=2)\n",
    "        \n",
    "        # Setting the tooltip\n",
    "        tooltip = \"Click For More Info\"\n",
    "        \n",
    "        # Setting the company point\n",
    "        folium.Marker(center,\n",
    "            popup='<strong>My Company</strong>',\n",
    "            tooltip=\"My Company\",\n",
    "            icon=folium.Icon(color='purple')).add_to(m)\n",
    "        \n",
    "        # Marking the points in the map\n",
    "        for i in range(self.df.shape[0]):\n",
    "            line = self.df.iloc[i]\n",
    "            \n",
    "            # Constructing string\n",
    "            stringToShow = \"<strong>\"\n",
    "            for column in columnsToShow:\n",
    "                if column in self.df:\n",
    "                    stringToShow += column + \" : \" + str(line[column]) + \"<br>\" \n",
    "            stringToShow += \"</strong>\"\n",
    "            \n",
    "            # Get random signal for each direction\n",
    "            if 0.5 < random.uniform(0.0, 1.0):\n",
    "                sx = -1\n",
    "            else:\n",
    "                sx = 1\n",
    "            if 0.5 < random.uniform(0.0, 1.0):\n",
    "                sy = -1\n",
    "            else:\n",
    "                sy = 1\n",
    "            \n",
    "            # Plot\n",
    "            lat = line[\"Latitude\"]\n",
    "            lon = line[\"Longitude\"]\n",
    "            folium.Marker([lat + sx*((xupperlimit-xlowerlimit)*random.uniform(0.0, 1.0) + xlowerlimit),\n",
    "                   lon + sy*((yupperlimit-ylowerlimit)*random.uniform(0.0, 1.0) + ylowerlimit)],\n",
    "            popup=stringToShow,\n",
    "            tooltip=tooltip).add_to(m)\n",
    "            \n",
    "        # Saving it\n",
    "        m.save('map.html')\n",
    "        \n",
    "        # Loading it\n",
    "        url = './map.html'\n",
    "        webbrowser.open_new_tab(url)"
   ]
  }
 ],
 "metadata": {
  "kernelspec": {
   "display_name": "Python 3",
   "language": "python",
   "name": "python3"
  },
  "language_info": {
   "codemirror_mode": {
    "name": "ipython",
    "version": 3
   },
   "file_extension": ".py",
   "mimetype": "text/x-python",
   "name": "python",
   "nbconvert_exporter": "python",
   "pygments_lexer": "ipython3",
   "version": "3.6.8"
  },
  "varInspector": {
   "cols": {
    "lenName": 16,
    "lenType": 16,
    "lenVar": 40
   },
   "kernels_config": {
    "python": {
     "delete_cmd_postfix": "",
     "delete_cmd_prefix": "del ",
     "library": "var_list.py",
     "varRefreshCmd": "print(var_dic_list())"
    },
    "r": {
     "delete_cmd_postfix": ") ",
     "delete_cmd_prefix": "rm(",
     "library": "var_list.r",
     "varRefreshCmd": "cat(var_dic_list()) "
    }
   },
   "types_to_exclude": [
    "module",
    "function",
    "builtin_function_or_method",
    "instance",
    "_Feature"
   ],
   "window_display": false
  }
 },
 "nbformat": 4,
 "nbformat_minor": 2
}
