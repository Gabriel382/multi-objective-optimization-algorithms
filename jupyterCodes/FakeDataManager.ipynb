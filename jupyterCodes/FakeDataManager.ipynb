{
 "cells": [
  {
   "cell_type": "markdown",
   "metadata": {},
   "source": [
    "# FakeDataManager\n",
    "\n",
    "> This code generates fake data and can save and loat it in a csv"
   ]
  },
  {
   "cell_type": "markdown",
   "metadata": {},
   "source": [
    "## 1. Importing"
   ]
  },
  {
   "cell_type": "code",
   "execution_count": 4,
   "metadata": {},
   "outputs": [],
   "source": [
    "import numpy as np\n",
    "import pandas as pd\n",
    "import os\n",
    "import random"
   ]
  },
  {
   "cell_type": "markdown",
   "metadata": {},
   "source": [
    "## 2. Helpers of helpers"
   ]
  },
  {
   "cell_type": "code",
   "execution_count": 2,
   "metadata": {},
   "outputs": [],
   "source": [
    "def save_dict(dictionary, folderpath, filename, mode='a'):\n",
    "    '''\n",
    "    Intro:\n",
    "        Save the dictionary to a csv\n",
    "    ---\n",
    "    Input:\n",
    "        dictionary: dict\n",
    "            Dictionary of save values (keys\n",
    "            are column names and dictionary\n",
    "            values are csv values)\n",
    "        folderpath: String\n",
    "            Folder where file will be saved\n",
    "        filename: String\n",
    "            File name\n",
    "        mode: character\n",
    "            Size 1 string with save mode:\n",
    "                a: add new values\n",
    "                w: overwrites previous values\n",
    "        \n",
    "    '''\n",
    "    if not os.path.exists(folderpath):\n",
    "        os.makedirs(folderpath)\n",
    "        \n",
    "    path = folderpath + \"/\" + filename\n",
    "    df = pd.DataFrame(dictionary, columns=dictionary.keys())\n",
    "    if not os.path.isfile(path):\n",
    "        df.to_csv(path, header=dictionary.keys(), index=None)\n",
    "    else:\n",
    "        if mode == 'w':\n",
    "            df.to_csv(path, header=dictionary.keys(), mode=mode, index=None)\n",
    "        elif mode == 'a':\n",
    "            df.to_csv(path, header=None, mode=mode, index=None)\n",
    "        else:\n",
    "            raise Exception('Unrecognized mode')"
   ]
  },
  {
   "cell_type": "code",
   "execution_count": 9,
   "metadata": {},
   "outputs": [],
   "source": [
    "def display_csv(filepath):\n",
    "    '''\n",
    "    Intro:\n",
    "        Show values in a csv\n",
    "    ---\n",
    "    Input:\n",
    "        filepath: String\n",
    "            Path to file\n",
    "    '''\n",
    "    if not os.path.isfile(filepath):\n",
    "        raise Exception('This path does not exist: ' + filepath)\n",
    "    else:\n",
    "        pd.set_option('display.max_rows', 500)\n",
    "        pd.set_option('display.max_columns', 500)\n",
    "        pd.set_option('display.width', 1000)\n",
    "        pd.set_option('display.expand_frame_repr', False)\n",
    "        pd.set_option('display.max_colwidth', -1)\n",
    "        df = pd.read_csv(filepath)\n",
    "        display(df)"
   ]
  },
  {
   "cell_type": "code",
   "execution_count": 10,
   "metadata": {},
   "outputs": [],
   "source": [
    "def open_csv(filepath):\n",
    "    '''\n",
    "    Intro:\n",
    "        Recovers csv file\n",
    "    ---\n",
    "    Input:\n",
    "        filepath: String\n",
    "            Path to file\n",
    "    ---\n",
    "    Output:\n",
    "        A DataFrame of the csv File\n",
    "    '''\n",
    "    if not os.path.isfile(filepath):\n",
    "        raise Exception('This path does not exist: ' + filepath)\n",
    "    else:\n",
    "        df = pd.read_csv(filepath)\n",
    "        return df"
   ]
  },
  {
   "cell_type": "markdown",
   "metadata": {},
   "source": [
    "## 3. Create Fake Data"
   ]
  },
  {
   "cell_type": "code",
   "execution_count": 5,
   "metadata": {},
   "outputs": [],
   "source": [
    "def createFakeNumericData(namesOfColumns, lowerlimits, upperlimits, PopSize):\n",
    "    '''\n",
    "    Intro:\n",
    "        Functions for creating lists of false numeric values\n",
    "        and placing them in a dictionary (in an easy-to-pass\n",
    "        format for a DataFrame)\n",
    "    ---\n",
    "    Input:\n",
    "        namesOfColumns: List of String\n",
    "            Name of each dictionary key\n",
    "        lowerlimits: List\n",
    "            List of lower values for each key.\n",
    "        upperlimits: List\n",
    "            List of upper values for each key.\n",
    "        PopSize: Integer\n",
    "            Number of false values per list\n",
    "    ---\n",
    "    Output:\n",
    "        False value dictionary that can easily be embedded in a DataFrame\n",
    "    '''\n",
    "    if len(namesOfColumns) == len(lowerlimits) and len(lowerlimits) == len(upperlimits):\n",
    "        fakeDict = {}\n",
    "        for i in range(len(namesOfColumns)):\n",
    "            fakeDict[namesOfColumns[i]] = np.random.uniform(0,1,(PopSize)) *(upperlimits[i]-lowerlimits[i])+lowerlimits[i]\n",
    "        return fakeDict\n",
    "    else:\n",
    "        raise Exception('every array must have same len')"
   ]
  },
  {
   "cell_type": "code",
   "execution_count": 7,
   "metadata": {},
   "outputs": [],
   "source": [
    "def createFakeObjectData(namesOfColumns, arrayOfElementsForEachColumn,PopSize):\n",
    "    '''\n",
    "    Intro:\n",
    "        Function that creates lists of random values \n",
    "        (between a group of predefined values)\n",
    "        and places them in a dictionary (in an easy-to-pass\n",
    "        format for a DataFrame)\n",
    "    ---\n",
    "    Input:\n",
    "        namesOfColumns: List of String\n",
    "            Name of each dictionary key\n",
    "        arrayOfElementsForEachColumn: List of Lists\n",
    "            List of allowed value lists (from each \n",
    "            list, the individual will choose only one \n",
    "            random value)\n",
    "        PopSize: Integer\n",
    "            Number of values per list\n",
    "    ---\n",
    "    Output:\n",
    "        False value dictionary that can easily be embedded in a DataFrame\n",
    "    '''\n",
    "    if len(namesOfColumns) == len(arrayOfElementsForEachColumn):\n",
    "        fakeDict = {}\n",
    "        for i in range(len(namesOfColumns)):\n",
    "            temp = []\n",
    "            for j in range(PopSize):\n",
    "                temp.append(random.choice(arrayOfElementsForEachColumn[i]))\n",
    "            fakeDict[namesOfColumns[i]] = np.array(temp)\n",
    "        return fakeDict\n",
    "    else:\n",
    "        raise Exception('every array must have same len')"
   ]
  }
 ],
 "metadata": {
  "kernelspec": {
   "display_name": "Python 3",
   "language": "python",
   "name": "python3"
  },
  "language_info": {
   "codemirror_mode": {
    "name": "ipython",
    "version": 3
   },
   "file_extension": ".py",
   "mimetype": "text/x-python",
   "name": "python",
   "nbconvert_exporter": "python",
   "pygments_lexer": "ipython3",
   "version": "3.6.8"
  },
  "varInspector": {
   "cols": {
    "lenName": 16,
    "lenType": 16,
    "lenVar": 40
   },
   "kernels_config": {
    "python": {
     "delete_cmd_postfix": "",
     "delete_cmd_prefix": "del ",
     "library": "var_list.py",
     "varRefreshCmd": "print(var_dic_list())"
    },
    "r": {
     "delete_cmd_postfix": ") ",
     "delete_cmd_prefix": "rm(",
     "library": "var_list.r",
     "varRefreshCmd": "cat(var_dic_list()) "
    }
   },
   "types_to_exclude": [
    "module",
    "function",
    "builtin_function_or_method",
    "instance",
    "_Feature"
   ],
   "window_display": false
  }
 },
 "nbformat": 4,
 "nbformat_minor": 2
}
