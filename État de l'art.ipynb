{
 "cells": [
  {
   "cell_type": "markdown",
   "metadata": {
    "slideshow": {
     "slide_type": "slide"
    }
   },
   "source": [
    "# État de l'art des algorithmes d'optimisation multi-objectifs\n",
    "\n",
    "Gabriel Henrique ALENCAR MEDEIROS\n",
    "\n",
    "---"
   ]
  },
  {
   "cell_type": "markdown",
   "metadata": {
    "slideshow": {
     "slide_type": "slide"
    }
   },
   "source": [
    "## Summary\n",
    "\n",
    "### 1. [Introduction](#Introduction)\n",
    "\n",
    "### 2. [Importing](#Importing)\n",
    "\n",
    "### 3. [Autres Resultats](#AutresResultats)\n",
    "* #### 3.1. [La comparaison entre NSGAI et NSGAII](#NSGAIIVSNSGAI)\n",
    "* #### 3.2. [La comparaison entre NSGAI et NSGA II (MOGSA uniquement en continu)](#COMPMOGSAANDGSA)\n",
    "* #### 3.3. [Comparaison entre différentes méthodes](#Comparaisonentredmethodes)\n",
    "\n",
    "### 4. [Nos données](#donnees)\n",
    "\n",
    "### 5. [Les méthodes](#Methodes)\n",
    "* #### 5.1. [Non-dominated Sorting Genetic Algorithm II](#NSGA2)\n",
    "* #### 5.2. [Non-dominated Sorting Genetic Algorithm III](#NSGA3)\n",
    "* #### 5.3. [SPEA2](#SPEA2)\n",
    "* #### 5.4. [Non-dominated Sorting Gravitational Search Algorithm](#NSGSA)\n",
    "* #### 5.5. [Simple Cull algorithm](#SimpleCullAlgorithm)\n",
    "* #### 5.6. [Pareto Simulated Annealing](#PSA)\n",
    "* #### 5.7. [Binary Multi-Objective Tabu Search](#Tabu)\n",
    "* #### 5.8. [Full Non-dominated Sorting and Ranking](#FullNSR)\n",
    "\n",
    "### 6. [Comparaison des résultats](#ComparaisonDesResultats)\n",
    "\n",
    "### 7. [Conclusion](#Conclusion)\n",
    "\n",
    "### 8. [Annexe A - Autres algorithmes](#AnnexeA)\n",
    "* #### 8.1. [Pareto Ant Colony](#ParetoAntColony)\n",
    "* #### 8.2. [Multi-Objective Particle Swarm](#MOPS)\n",
    "---"
   ]
  },
  {
   "cell_type": "markdown",
   "metadata": {
    "slideshow": {
     "slide_type": "slide"
    }
   },
   "source": [
    "<a id='Introduction'></a>\n",
    "## 1. Introduction\n",
    "\n",
    "Nous verrons ici une analyse de plusieurs méthodes d’algorithmes d'optimisation mettant l’accent sur l’optimisation à objectifs multiples. Pour chaque méthode, nous aurons une introduction, une méthodologie, une implémentation, une conclusion et une bibliographie.\n",
    "\n",
    "> **L'implémentation sera sur la même entrée et les codes peuvent être trouvés dans les helpers.**\n",
    "\n",
    "---"
   ]
  },
  {
   "cell_type": "markdown",
   "metadata": {
    "slideshow": {
     "slide_type": "slide"
    }
   },
   "source": [
    "<a id='Importing'></a>\n",
    "## 2. Importing\n",
    "\n",
    "Ici, nous allons importer les librairies nécessaires à l'exécution des codes. Nous aurons importé des librairies classiques trouvées sur Internet et des librairies personnalisés où nous trouverons les classes liées à chaque méthode.\n",
    "\n",
    "---"
   ]
  },
  {
   "cell_type": "markdown",
   "metadata": {
    "slideshow": {
     "slide_type": "subslide"
    }
   },
   "source": [
    "### 2.1 Importation des librairies classiques"
   ]
  },
  {
   "cell_type": "code",
   "execution_count": 1,
   "metadata": {
    "slideshow": {
     "slide_type": "fragment"
    }
   },
   "outputs": [],
   "source": [
    "import time\n",
    "import numpy as np\n",
    "import pandas as pd\n",
    "import random\n",
    "from deap import benchmarks\n",
    "import copy"
   ]
  },
  {
   "cell_type": "markdown",
   "metadata": {
    "slideshow": {
     "slide_type": "subslide"
    }
   },
   "source": [
    "### 2.2. Importation de librairies personnalisées"
   ]
  },
  {
   "cell_type": "code",
   "execution_count": 2,
   "metadata": {
    "slideshow": {
     "slide_type": "fragment"
    }
   },
   "outputs": [],
   "source": [
    "#%pdb\n",
    "import ipynb.fs.full.jupyterHelpers as juphelpers\n",
    "import helpers"
   ]
  },
  {
   "cell_type": "markdown",
   "metadata": {
    "slideshow": {
     "slide_type": "slide"
    }
   },
   "source": [
    "<a id='AutresResultats'></a>\n",
    "\n",
    "## 3. Autres Resultats\n",
    "---"
   ]
  },
  {
   "cell_type": "markdown",
   "metadata": {},
   "source": [
    "<a id='NSGAIIVSNSGAI'></a>\n",
    "### 3.1 La comparaison entre NSGSA I et NSGA II"
   ]
  },
  {
   "cell_type": "markdown",
   "metadata": {},
   "source": [
    "Image prise à partir de [[1]](#BGNSGAII):"
   ]
  },
  {
   "cell_type": "markdown",
   "metadata": {},
   "source": [
    "![La comparaison entre NSGA I et NSGA II](images/paretoNSGAIEII.png)"
   ]
  },
  {
   "cell_type": "markdown",
   "metadata": {},
   "source": [
    "Le document à partir duquel l'image a été prise concluait que NSGAII était capable d'exploiter des solutions plus efficaces et non inférieures, montrant que la performance de NSGAII était supérieure à celle de NSGA en termes de maintien de la diversité entre les fronts de pareto trouvés."
   ]
  },
  {
   "cell_type": "markdown",
   "metadata": {
    "slideshow": {
     "slide_type": "subslide"
    }
   },
   "source": [
    "<a id='COMPMOGSAANDGSA'></a>\n",
    "### 3.2 La comparaison entre NSGSA et NSGA II (MOGSA uniquement en continu)"
   ]
  },
  {
   "cell_type": "markdown",
   "metadata": {},
   "source": [
    "Image prise à partir de [[2]](#BGNSGSA):"
   ]
  },
  {
   "cell_type": "markdown",
   "metadata": {
    "slideshow": {
     "slide_type": "fragment"
    }
   },
   "source": [
    "![La comparaison entre NSGSA et NSGA II](images/NSGSAComparation.png)"
   ]
  },
  {
   "cell_type": "markdown",
   "metadata": {},
   "source": [
    "Dans l'article sur lequel l'image ci-dessus a été prise, plusieurs expériences utilisant différents algorithmes comparés à l'algorithme MOGSA (algorithme de recherche gravitationnelle multi-objectif) montraient que, dans les cas continus, MOGSA normalement devait donner d'excellents résultats par rapport à les autres algorithmes."
   ]
  },
  {
   "cell_type": "markdown",
   "metadata": {
    "slideshow": {
     "slide_type": "subslide"
    }
   },
   "source": [
    "<a id='Comparaisonentredmethodes'></a>\n",
    "### 3.3 Comparaison entre différentes méthodes"
   ]
  },
  {
   "cell_type": "markdown",
   "metadata": {},
   "source": [
    "Image prise à partir de [[3]](#BGComp):"
   ]
  },
  {
   "cell_type": "markdown",
   "metadata": {
    "slideshow": {
     "slide_type": "fragment"
    }
   },
   "source": [
    "![La comparaison entre differentes methodes](images/ComparationDifferentMethods.png)"
   ]
  },
  {
   "cell_type": "markdown",
   "metadata": {},
   "source": [
    "Nous avons montré ici que NSGAII et SPEA2 ont d’excellents résultats par rapport à plusieurs autres algorithmes génétiques. C’est à partir de cette image que ces deux méthodes ont été privilégiées et se sont révélées efficaces dans plusieurs autres articles."
   ]
  },
  {
   "cell_type": "markdown",
   "metadata": {
    "slideshow": {
     "slide_type": "slide"
    }
   },
   "source": [
    "<a id='donnees'></a>\n",
    "\n",
    "## 4. Nos données   \n",
    "\n",
    "Ici, nous allons utiliser la fonction **zdt1** pour mesurer la qualité de nos méthodes. Cependant, notre vrai problème concerne une base de données avec plusieurs attributs. Par conséquent, nous allons créer une **liste de points** qui appartiennent réellement à la frontière de zdt1 plus variations guainiennes autour de ces points pour les cas discrets.\n",
    "\n",
    "Pour les méthodes utilisant des versions binaires, nous allons trier notre ensemble de points en fonction de la distance entre les points et le centre et attribuer et binarizer l’étiquette des entiers à chaque ligne de la matrice de points. Nous utilisons donc les étiquettes qui indiqueront les points réels.\n",
    "\n",
    "> Nous allons utiliser 3 types de métriques sur les données:\n",
    "1. La convergence [[4]](#metriquesconvergenceetdiversity)\n",
    "2. La diversité [[4]](#metriquesconvergenceetdiversity)\n",
    "3. L'Hypervolume [[5]](#metriqueshypervolume)\n",
    "\n",
    "> Pour toutes les méthodes, comme nous utilisons des algorithmes d'optimisation dans des fonctions multi-objectifs, nous allons trouver le **front de Pareto**[[6]](#paretofrontexpl) plutôt qu'un point unique.\n",
    "\n",
    "> En ce qui concerne les codes dans l’espace continu, il a déjà été prouvé que 400 itérations suffisent pour trouver un bon front de Pareto. **150 itérations ont été choisies pour pouvoir voir quel algorithme a l'approximation pareto la plus rapide.**\n",
    "\n",
    "> **ATTENTION:** Les points trouvés dans l'espace d'entrée qui résultent en un front de Pareto ont été trouvés par d'autres algorithmes d'optimisation, les points ont donc déjà une certaine diversité, convergence et hypervolume. Par conséquent, les métriques sont utilisées pour voir si l'algorithme trouve les **meilleurs points fournis** et comparer les algorithmes entre eux.\n",
    "\n",
    "---"
   ]
  },
  {
   "cell_type": "code",
   "execution_count": 3,
   "metadata": {},
   "outputs": [],
   "source": [
    "# Runs parameters\n",
    "number_of_runs = 30"
   ]
  },
  {
   "cell_type": "code",
   "execution_count": 4,
   "metadata": {},
   "outputs": [],
   "source": [
    "# Seed pour tous les algorithmes\n",
    "seed_for_all = 1\n",
    "random.seed(seed_for_all)"
   ]
  },
  {
   "cell_type": "code",
   "execution_count": 5,
   "metadata": {
    "slideshow": {
     "slide_type": "subslide"
    }
   },
   "outputs": [],
   "source": [
    "# Variables\n",
    "# Taille de la base de données\n",
    "L_bad = 100 \n",
    "# Obtenir 100 points de la liste de Pareto parmi un ensemble de\n",
    "# (20,60,100,200,500) points.\n",
    "# Pour 100 points, on a un (\"convergence\": 0.0008737962149921756, \"diversité\": 0.3680103565901581,\n",
    "# \"hyper volume\": 120.659991) pour les points trouvés.\n",
    "L_good = 100\n",
    "# Get total len\n",
    "L = L_bad + L_good\n",
    "benchData = juphelpers.bData.BenchmarkData(\"pareto_front\")"
   ]
  },
  {
   "cell_type": "code",
   "execution_count": 6,
   "metadata": {
    "slideshow": {
     "slide_type": "fragment"
    }
   },
   "outputs": [],
   "source": [
    "def resetInputZDT1(L_bad,L_good):\n",
    "    X_good = benchData.getPointsFromZDT1().dictOfPoints[L_good]\n",
    "    X_bad = juphelpers.DataGenerator.createRandomDataForZDT1(L_bad,seed_for_all)\n",
    "    X = X_good + X_bad\n",
    "    X = juphelpers.GeneralCases.normalizedSorting(X)\n",
    "    return X"
   ]
  },
  {
   "cell_type": "code",
   "execution_count": 7,
   "metadata": {
    "slideshow": {
     "slide_type": "fragment"
    }
   },
   "outputs": [],
   "source": [
    "# Paretos Front pour zdt1\n",
    "X = resetInputZDT1(L_bad,L_good)\n",
    "optimal_front = benchData.getParetoFrontFromJSON(\"zdt1_front.json\")"
   ]
  },
  {
   "cell_type": "code",
   "execution_count": 8,
   "metadata": {},
   "outputs": [],
   "source": [
    "# Enregistrer et charger\n",
    "folderOfCSVs = 'statistical_results'\n",
    "CsvFileNameContinu = 'fr-Continu-' +str(number_of_runs)+ 'runs-'+str(L_good)+ 'good-'+str(L_bad)+'bad'\n",
    "CsvFileNameDiscret = 'fr-Discret-' +str(number_of_runs)+ 'runs-'+str(L_good)+ 'good-'+str(L_bad)+'bad'\n",
    "saveEnabled = False"
   ]
  },
  {
   "cell_type": "code",
   "execution_count": 9,
   "metadata": {},
   "outputs": [],
   "source": [
    "# Parameters for all methods\n",
    "name_of_function = \"zdt1\"\n",
    "# L_good\n",
    "# L_bad\n",
    "number_of_instances = 100\n",
    "max_numer_of_iterations = 150\n",
    "dim_of_labels = len(str(bin(len(X)-1))[2:])"
   ]
  },
  {
   "cell_type": "code",
   "execution_count": 10,
   "metadata": {},
   "outputs": [],
   "source": [
    "# List of solutions\n",
    "list_of_solutions_continu = []\n",
    "list_of_solutions_discret = []"
   ]
  },
  {
   "cell_type": "markdown",
   "metadata": {
    "slideshow": {
     "slide_type": "slide"
    }
   },
   "source": [
    "<a id='Methodes'></a>\n",
    "\n",
    "## 5. Les méthodes \n",
    "\n",
    "---"
   ]
  },
  {
   "cell_type": "markdown",
   "metadata": {
    "slideshow": {
     "slide_type": "subslide"
    }
   },
   "source": [
    "<a id='NSGA2'></a>\n",
    "### 5.1 Non-dominated Sorting Genetic Algorithm"
   ]
  },
  {
   "cell_type": "markdown",
   "metadata": {
    "slideshow": {
     "slide_type": "fragment"
    }
   },
   "source": [
    "#### 5.1.1 Introduction\n",
    "\n",
    "L’algorithme NSGA a pour objectif d’améliorer l’adaptation adaptative d’une population de solutions candidates à un front de Pareto contraint par un ensemble de fonctions objectives. L'algorithme utilise un processus évolutif avec des substituts pour les opérateurs évolutifs, notamment la sélection, le croisement génétique et la mutation génétique. La population est classée dans une hiérarchie de sous-populations basée sur l'ordre de la dominance de Pareto. La similarité entre les membres de chaque sous-groupe est évaluée sur le front de Pareto, et les groupes résultants et les mesures de similarité sont utilisés pour promouvoir un front divers de solutions non dominées. [[1]](#511NSG2)"
   ]
  },
  {
   "cell_type": "markdown",
   "metadata": {
    "slideshow": {
     "slide_type": "fragment"
    }
   },
   "source": [
    "#### 5.1.2 Méthodologie\n",
    "\n",
    "[[1]](#511NSG2)L'algorithme (ci-dessous) fournit une liste en pseudocode de l'algorithme génétique de tri non dominé II (NSGA-II) pour **minimiser** une fonction de coût. \n",
    "\n",
    "* La fonction **SortByRankAndDistance** ordonne à la population dans une hiérarchie de fronts de Pareto non dominés. \n",
    "* **CrowdingDistanceAssignment** calcule la distance moyenne entre les membres de chaque front sur le front lui-même. Voir Deb et al. pour une présentation claire du pseudocode et une explication de ces fonctions [Deb2002].\n",
    "* La fonction **CrossoverAndMutation** exécute les opérateurs génétiques classiques de croisement et de mutation de l'algorithme génétique.\n",
    "* Les fonctions **SelectParentsByRankAndDistance** et **SortByRankAndDistance** distinguent les membres de la population en fonction de leur rang (ordre de préséance du front auquel appartient la solution), puis de la distance à l'intérieur du front (calculée par **CrowdingDistanceAssignment**).\n",
    "\n",
    "![Pseudocode](images/pseudoNSGA.png)"
   ]
  },
  {
   "cell_type": "markdown",
   "metadata": {
    "slideshow": {
     "slide_type": "subslide"
    }
   },
   "source": [
    "#### 5.1.3 Implémentation"
   ]
  },
  {
   "cell_type": "code",
   "execution_count": 11,
   "metadata": {},
   "outputs": [],
   "source": [
    "# Dictionnaires pour sauvegarder les statistiques\n",
    "dictionaireContinu = {'Methods':'NSGAII', 'Data':'ZDT1', 'Number of runs':number_of_runs}\n",
    "dictionaireDiscret = {'Methods':'NSGAII', 'Data':'ZDT1', 'Number of runs':number_of_runs,\n",
    "                      'Real points':L_good,\n",
    "                     'Fake points':(L_bad)}"
   ]
  },
  {
   "cell_type": "markdown",
   "metadata": {
    "slideshow": {
     "slide_type": "fragment"
    }
   },
   "source": [
    "##### 5.1.3.1 Cas continu"
   ]
  },
  {
   "cell_type": "code",
   "execution_count": 12,
   "metadata": {},
   "outputs": [],
   "source": [
    "# Création d'un gestionnaire de solutions\n",
    "NSGAII_solutions_continu = juphelpers.bData.single_solution(methodName=\"NSGAII\", function_name=name_of_function,\n",
    "                                                   good_points=L_good, bad_points=L_bad,\n",
    "                                                   number_of_runs=number_of_runs,\n",
    "                                                   numberOfPersons=number_of_instances,\n",
    "                                                   iters=max_numer_of_iterations,\n",
    "                                                   refpointToHyperV=[11,11],\n",
    "                                                   identif=\"NSGAII-Continu-ZDT1\",\n",
    "                                                   pareto_front=optimal_front,\n",
    "                                                   obj=benchmarks.zdt1,\n",
    "                                                   lb=0.0, ub=1.0,\n",
    "                                                   dim=30)"
   ]
  },
  {
   "cell_type": "code",
   "execution_count": 13,
   "metadata": {},
   "outputs": [],
   "source": [
    "# Creez envrironment (Toolbox, Stats, Logbook) pour le cas continu\n",
    "envrironment = juphelpers.nsga2.create_Environment_For_NSGAII_Continuous_Case(0.0,\n",
    "                                                            1.0, 30,\n",
    "                                                            juphelpers.DataGenerator.uniform,\n",
    "                                                            benchmarks.zdt1,\n",
    "                                                            weights=(-1.0,-1.0),\n",
    "                                                            eta = 20.0, indpb=1/30)"
   ]
  },
  {
   "cell_type": "code",
   "execution_count": 14,
   "metadata": {
    "slideshow": {
     "slide_type": "fragment"
    }
   },
   "outputs": [],
   "source": [
    "for run in range(number_of_runs):\n",
    "    envrironment_copy = copy.deepcopy(envrironment)\n",
    "    # --------------------------------------------------------------------------------------------------\n",
    "\n",
    "    # Obtenez une meilleure population et des statistiques\n",
    "    start_time = time.time()\n",
    "    # ==================================================================================================\n",
    "    (pop_tot, stats) = juphelpers.nsga2.NSGAII_Continuous_Case(envrironment_copy, NGEN=max_numer_of_iterations,\n",
    "                                                             MU=number_of_instances,\n",
    "                                                              showprogress=False,\n",
    "                                                                seed = run)\n",
    "    # ==================================================================================================\n",
    "    delta_time = time.time() - start_time\n",
    "    \n",
    "    pop_tot.sort(key=lambda x: x.fitness.values)\n",
    "    pop = []\n",
    "    # Getting pop as a list\n",
    "    for p in pop_tot[::2]:\n",
    "        pop.append(list(p))\n",
    "    \n",
    "    # Add solution\n",
    "    NSGAII_solutions_continu.add_one_run(pop,delta_time)"
   ]
  },
  {
   "cell_type": "code",
   "execution_count": 15,
   "metadata": {
    "slideshow": {
     "slide_type": "subslide"
    }
   },
   "outputs": [],
   "source": [
    "# Valeurs moyennes\n",
    "(t,c,d,h) = NSGAII_solutions_continu.returnMeanValues()\n",
    "\n",
    "dictionaireContinu.update({'Average time of execution (s)':str(t)})\n",
    "dictionaireContinu.update({'Average convergence':str(c), 'Average diversity':str(d),\n",
    "                          'Average hypervolume':str(h)})"
   ]
  },
  {
   "cell_type": "code",
   "execution_count": 16,
   "metadata": {
    "scrolled": true
   },
   "outputs": [
    {
     "name": "stdout",
     "output_type": "stream",
     "text": [
      "Time of execution (s):  5.260203742980957\n",
      "Convergence:  0.005158574611562056\n",
      "Diversity:  0.2556121495888303\n",
      "hypervolume:  120.55033761244617\n"
     ]
    }
   ],
   "source": [
    "print(\"Time of execution (s): \",t)\n",
    "print(\"Convergence: \",c)\n",
    "print(\"Diversity: \",d)\n",
    "print(\"hypervolume: \",h)"
   ]
  },
  {
   "cell_type": "code",
   "execution_count": 17,
   "metadata": {
    "scrolled": true,
    "slideshow": {
     "slide_type": "fragment"
    }
   },
   "outputs": [
    {
     "data": {
      "image/png": "[encoded data removed]",
      "text/plain": [
       "<Figure size 432x288 with 1 Axes>"
      ]
     },
     "metadata": {
      "needs_background": "light"
     },
     "output_type": "display_data"
    }
   ],
   "source": [
    "# Plot\n",
    "juphelpers.plotFrontgraphics(np.array([benchmarks.zdt1(ind) for ind in NSGAII_solutions_continu.bestPop]),\n",
    "                  np.array(optimal_front),\n",
    "                  title = \"NSGAII Continuous Case\",xlabel=\"f1\",ylabel=\"f2\")"
   ]
  },
  {
   "cell_type": "code",
   "execution_count": 18,
   "metadata": {},
   "outputs": [],
   "source": [
    "# Ajouter une solution à la liste de solutions\n",
    "list_of_solutions_continu.append(NSGAII_solutions_continu)"
   ]
  },
  {
   "cell_type": "code",
   "execution_count": 19,
   "metadata": {},
   "outputs": [],
   "source": [
    "# Sauvegarde des informations\n",
    "if saveEnabled:\n",
    "    juphelpers.GeneralCases.save_dict(dictionaireContinu, folderOfCSVs, CsvFileNameContinu)"
   ]
  },
  {
   "cell_type": "markdown",
   "metadata": {
    "slideshow": {
     "slide_type": "subslide"
    }
   },
   "source": [
    "##### 5.1.3.2 Cas discret"
   ]
  },
  {
   "cell_type": "code",
   "execution_count": 20,
   "metadata": {},
   "outputs": [],
   "source": [
    "# Creating a solution handler\n",
    "NSGAII_solutions_discret = juphelpers.bData.single_solution(methodName=\"NSGAII\", function_name=name_of_function,\n",
    "                                                   good_points=L_good, bad_points=L_bad,\n",
    "                                                   number_of_runs=number_of_runs,\n",
    "                                                   numberOfPersons=number_of_instances,\n",
    "                                                   iters=max_numer_of_iterations,\n",
    "                                                   refpointToHyperV=[11,11],\n",
    "                                                   identif=\"NSGAII-Discret-ZDT1\",\n",
    "                                                   pareto_front=optimal_front,\n",
    "                                                   obj=benchmarks.zdt1,\n",
    "                                                   lb=0, ub=1,\n",
    "                                                   dim=dim_of_labels)"
   ]
  },
  {
   "cell_type": "code",
   "execution_count": 21,
   "metadata": {
    "slideshow": {
     "slide_type": "fragment"
    }
   },
   "outputs": [
    {
     "name": "stderr",
     "output_type": "stream",
     "text": [
      "/home/galencarmedeiro/.local/lib/python3.6/site-packages/deap/creator.py:141: RuntimeWarning: A class named 'FitnessCustom' has already been created and it will be overwritten. Consider deleting previous creation of that class or rename it.\n",
      "  RuntimeWarning)\n",
      "/home/galencarmedeiro/.local/lib/python3.6/site-packages/deap/creator.py:141: RuntimeWarning: A class named 'Individual' has already been created and it will be overwritten. Consider deleting previous creation of that class or rename it.\n",
      "  RuntimeWarning)\n"
     ]
    }
   ],
   "source": [
    "# Creez envrironment (Toolbox, Stats, Logbook) pour le cas discret\n",
    "envrironment = juphelpers.nsga2.create_Environment_For_NSGAII_Discrete_Case(X,\n",
    "                                                           dim_of_labels,\n",
    "                                                           (-1.0, -1.0),\n",
    "                                                           benchmarks.zdt1,\n",
    "                                                           random_labels=True,\n",
    "                                                           seed = seed_for_all)"
   ]
  },
  {
   "cell_type": "code",
   "execution_count": 22,
   "metadata": {
    "slideshow": {
     "slide_type": "fragment"
    }
   },
   "outputs": [],
   "source": [
    "for run in range(number_of_runs):\n",
    "    envrironment_copy = copy.deepcopy(envrironment)\n",
    "    # --------------------------------------------------------------------------------------------------\n",
    "\n",
    "    # Obtenez une meilleure population et des statistiques\n",
    "    start_time = time.time()\n",
    "    # ==================================================================================================\n",
    "    (pop_tot, logbook) = juphelpers.nsga2.NSGAII_Discrete_Case(envrironment_copy,\n",
    "                                                       NGEN=max_numer_of_iterations, MU=number_of_instances,\n",
    "                                                       CXPB=0.93, showprogress = False,\n",
    "                                                       seed = run)\n",
    "    # ==================================================================================================\n",
    "    delta_time = time.time() - start_time\n",
    "    \n",
    "    # Getting good population by labels\n",
    "    pop_tot.sort(key=lambda x: x.fitness.values)\n",
    "    label_pop = pop_tot[::2]\n",
    "    pop = [X[juphelpers.nsga2.binToInt(p)] for p in label_pop]\n",
    "    \n",
    "    # Add solution\n",
    "    NSGAII_solutions_discret.add_one_run(pop,delta_time)"
   ]
  },
  {
   "cell_type": "code",
   "execution_count": 23,
   "metadata": {
    "slideshow": {
     "slide_type": "subslide"
    }
   },
   "outputs": [],
   "source": [
    "# Convergence et diversité\n",
    "(t,c,d,h) = NSGAII_solutions_discret.returnMeanValues()\n",
    "\n",
    "dictionaireDiscret.update({'Average time of execution (s)':str(t)})\n",
    "dictionaireDiscret.update({'Average convergence':str(c), 'Average diversity':str(d),\n",
    "                          'Average hypervolume':str(h)})"
   ]
  },
  {
   "cell_type": "code",
   "execution_count": 24,
   "metadata": {},
   "outputs": [
    {
     "name": "stdout",
     "output_type": "stream",
     "text": [
      "Time of execution (s):  1.9529078165690104\n",
      "Convergence:  0.0007424333370297968\n",
      "Diversity:  0.31456712280860905\n",
      "hypervolume:  120.65446086258045\n"
     ]
    }
   ],
   "source": [
    "print(\"Time of execution (s): \",t)\n",
    "print(\"Convergence: \",c)\n",
    "print(\"Diversity: \",d)\n",
    "print(\"hypervolume: \",h)"
   ]
  },
  {
   "cell_type": "code",
   "execution_count": 25,
   "metadata": {
    "slideshow": {
     "slide_type": "fragment"
    }
   },
   "outputs": [
    {
     "data": {
      "image/png": "[encoded data removed]",
      "text/plain": [
       "<Figure size 432x288 with 1 Axes>"
      ]
     },
     "metadata": {
      "needs_background": "light"
     },
     "output_type": "display_data"
    }
   ],
   "source": [
    "juphelpers.plotFrontgraphics(np.array([benchmarks.zdt1(ind) for ind in NSGAII_solutions_discret.bestPop]),\n",
    "                  np.array(optimal_front),\n",
    "                  title = \"NSGAII Discrete Case\",xlabel=\"f1\",ylabel=\"f2\")"
   ]
  },
  {
   "cell_type": "code",
   "execution_count": 26,
   "metadata": {},
   "outputs": [],
   "source": [
    "# Ajouter une solution à la liste de solutions\n",
    "list_of_solutions_discret.append(NSGAII_solutions_discret)"
   ]
  },
  {
   "cell_type": "code",
   "execution_count": 27,
   "metadata": {},
   "outputs": [],
   "source": [
    "# Sauvegarde des informations\n",
    "if saveEnabled:\n",
    "    juphelpers.GeneralCases.save_dict(dictionaireDiscret, folderOfCSVs, CsvFileNameDiscret)"
   ]
  },
  {
   "cell_type": "markdown",
   "metadata": {
    "slideshow": {
     "slide_type": "subslide"
    }
   },
   "source": [
    "#### 5.1.4 Conclusion\n",
    "\n",
    "> Nous pouvons observer une excellente performance pour le cas continu.\n",
    "\n",
    "> Notre algorithme dans le cas binaire trouve toujours une grande convergence, mais la divergence peut parfois être mauvaise. Cela est dû au fait que certains éléments de la population sont identiques, ce qui augmente la valeur de la mesure. Cependant, nos éléments ne détectent pas parfaitement la courbe de Pareto d'origine, mais tous les points décrivent bien la courbe."
   ]
  },
  {
   "cell_type": "markdown",
   "metadata": {
    "slideshow": {
     "slide_type": "subslide"
    }
   },
   "source": [
    "#### 5.1.5 Bibliographie\n",
    "<a id='511NSG2'></a>\n",
    "1. http://www.cleveralgorithms.com/nature-inspired/evolution/nsga.html"
   ]
  },
  {
   "cell_type": "markdown",
   "metadata": {},
   "source": [
    "<a id='NSGA3'></a>\n",
    "### 5.2 Non-dominated Sorting Genetic Algorithm III"
   ]
  },
  {
   "cell_type": "markdown",
   "metadata": {},
   "source": [
    "#### 5.3.1 Introduction\n",
    "\n"
   ]
  },
  {
   "cell_type": "markdown",
   "metadata": {},
   "source": [
    "[[1]](#NSGA3INTRO)NSGA-III est une méthode d’optimisation de Pareto qui fonctionne bien avec des problèmes ayant **plusieurs objectifs** (trois ou plus). La principale différence entre cet algorithme et NSGA-II réside dans le fait que NSGA-III utilise un **ensemble de points de référence pour maintenir la diversité des points de Pareto pendant la recherche.** Cela se traduit par une distribution très uniforme des points de Pareto dans l'espace des objectifs, même lorsque le nombre d'objectifs est grand."
   ]
  },
  {
   "cell_type": "markdown",
   "metadata": {},
   "source": [
    "**NSGA-II sur DTLZ2**\n",
    "Image prise à partir de [[2]](#NSGA2DTLZ2IMAGE):\n",
    "![NSGA2 DTLZ2 IMAGE](images/DTLZ2-solved-by-NSGA-II.png)"
   ]
  },
  {
   "cell_type": "markdown",
   "metadata": {},
   "source": [
    "**NSGA-III sur DTLZ2**\n",
    "Image prise à partir de [[3]](#NSGA3DTLZ2IMAGE):\n",
    "![NSGA3 DTLZ2 IMAGE](images/DTLZ2-solved-by-NSGA-III.png)"
   ]
  },
  {
   "cell_type": "markdown",
   "metadata": {},
   "source": [
    "#### 5.2.2 Méthodologie\n"
   ]
  },
  {
   "cell_type": "markdown",
   "metadata": {},
   "source": [
    "**Pseudocode du NSGA-III**\n",
    "Image prise à partir de [[4]](#NSGA3DTLZ2IMAGE):\n",
    "![NSGA3 DTLZ2 IMAGE](images/NSGAIII-PSEUDO.png)"
   ]
  },
  {
   "cell_type": "markdown",
   "metadata": {},
   "source": [
    "#### 5.2.3 Implémentation"
   ]
  },
  {
   "cell_type": "code",
   "execution_count": 28,
   "metadata": {},
   "outputs": [],
   "source": [
    "# Dictionnaires pour sauvegarder les statistiques\n",
    "dictionaireContinuNSGA3 = {'Methods':'NSGAIII', 'Data':'ZDT1', 'Number of runs':number_of_runs}\n",
    "dictionaireDiscretNSGA3 = {'Methods':'NSGAIII', 'Data':'ZDT1', 'Number of runs':number_of_runs,\n",
    "                      'Real points':L_good,\n",
    "                     'Fake points':(L_bad)}"
   ]
  },
  {
   "cell_type": "markdown",
   "metadata": {},
   "source": [
    "##### 5.2.3.1 Cas continu"
   ]
  },
  {
   "cell_type": "code",
   "execution_count": 29,
   "metadata": {},
   "outputs": [],
   "source": [
    "# Creating a solution handler\n",
    "NSGAIII_solutions_continu = juphelpers.bData.single_solution(methodName=\"NSGAII\", function_name=name_of_function,\n",
    "                                                   good_points=L_good, bad_points=L_bad,\n",
    "                                                   number_of_runs=number_of_runs,\n",
    "                                                   numberOfPersons=number_of_instances,\n",
    "                                                   iters=max_numer_of_iterations,\n",
    "                                                   refpointToHyperV=[11,11],\n",
    "                                                   identif=\"NSGAII-Continu-ZDT1\",\n",
    "                                                   pareto_front=optimal_front,\n",
    "                                                   obj=benchmarks.zdt1,\n",
    "                                                   lb=0.0, ub=1.0,\n",
    "                                                   dim=30)"
   ]
  },
  {
   "cell_type": "code",
   "execution_count": 30,
   "metadata": {
    "scrolled": true
   },
   "outputs": [],
   "source": [
    "# Creez envrironment (Toolbox, Stats, Logbook, ref_points) pour le cas continu\n",
    "envrironment = juphelpers.nsga3.create_Environment_For_NSGAIII_Continuous_Case(0.0, 1.0, 30,\n",
    "                                                 juphelpers.DataGenerator.uniform,benchmarks.zdt1,\n",
    "                                                 (-1.0,-1.0),indpb=1/30,\n",
    "                                                 P = number_of_instances//2)"
   ]
  },
  {
   "cell_type": "code",
   "execution_count": 31,
   "metadata": {},
   "outputs": [],
   "source": [
    "for run in range(number_of_runs):\n",
    "    envrironment_copy = copy.deepcopy(envrironment)\n",
    "    # --------------------------------------------------------------------------------------------------\n",
    "\n",
    "    # Obtenez une meilleure population et des statistiques\n",
    "    start_time = time.time()\n",
    "    # ==================================================================================================\n",
    "    (pop_tot, stats) = juphelpers.nsga3.NSGAIII_Continuous_Case(envrironment_copy, NGEN=max_numer_of_iterations,\n",
    "                                                               MU=number_of_instances, CXPB=0.93,\n",
    "                                                               MUTPB=1.0,\n",
    "                                                               seed=run,showprogress = False)\n",
    "    # ==================================================================================================\n",
    "    delta_time = time.time() - start_time\n",
    "    \n",
    "    pop_tot.sort(key=lambda x: x.fitness.values)\n",
    "    pop = []\n",
    "    # Getting pop as a list\n",
    "    for p in pop_tot:\n",
    "        pop.append(list(p))\n",
    "    \n",
    "    # Add solution\n",
    "    NSGAIII_solutions_continu.add_one_run(pop,delta_time)"
   ]
  },
  {
   "cell_type": "code",
   "execution_count": 32,
   "metadata": {
    "slideshow": {
     "slide_type": "subslide"
    }
   },
   "outputs": [],
   "source": [
    "# Convergence et diversité\n",
    "(t,c,d,h) = NSGAIII_solutions_continu.returnMeanValues()\n",
    "\n",
    "dictionaireContinuNSGA3.update({'Average time of execution (s)':str(t)})\n",
    "dictionaireContinuNSGA3.update({'Average convergence':str(c), 'Average diversity':str(d),\n",
    "                          'Average hypervolume':str(h)})"
   ]
  },
  {
   "cell_type": "code",
   "execution_count": 33,
   "metadata": {},
   "outputs": [
    {
     "name": "stdout",
     "output_type": "stream",
     "text": [
      "Time of execution (s):  2.381214475631714\n",
      "Convergence:  0.005567774983340092\n",
      "Diversity:  0.8253271430064147\n",
      "hypervolume:  120.49186463595535\n"
     ]
    }
   ],
   "source": [
    "print(\"Time of execution (s): \",t)\n",
    "print(\"Convergence: \",c)\n",
    "print(\"Diversity: \",d)\n",
    "print(\"hypervolume: \",h)"
   ]
  },
  {
   "cell_type": "code",
   "execution_count": 34,
   "metadata": {},
   "outputs": [],
   "source": [
    "# Ajouter une solution à la liste de solutions\n",
    "list_of_solutions_continu.append(NSGAIII_solutions_continu)"
   ]
  },
  {
   "cell_type": "code",
   "execution_count": 35,
   "metadata": {
    "slideshow": {
     "slide_type": "fragment"
    }
   },
   "outputs": [
    {
     "data": {
      "image/png": "[encoded data removed]",
      "text/plain": [
       "<Figure size 432x288 with 1 Axes>"
      ]
     },
     "metadata": {
      "needs_background": "light"
     },
     "output_type": "display_data"
    }
   ],
   "source": [
    "juphelpers.plotFrontgraphics(np.array([benchmarks.zdt1(ind) for ind in NSGAIII_solutions_continu.bestPop]),\n",
    "                  np.array(optimal_front),\n",
    "                  title = \"NSGAIII Continuous Case\",xlabel=\"f1\",ylabel=\"f2\")"
   ]
  },
  {
   "cell_type": "code",
   "execution_count": 36,
   "metadata": {},
   "outputs": [],
   "source": [
    "# Sauvegarde des informations\n",
    "if saveEnabled:\n",
    "    juphelpers.GeneralCases.save_dict(dictionaireContinuNSGA3, folderOfCSVs, CsvFileNameContinu)"
   ]
  },
  {
   "cell_type": "markdown",
   "metadata": {},
   "source": [
    "##### 5.2.3.2 Cas discret"
   ]
  },
  {
   "cell_type": "code",
   "execution_count": 37,
   "metadata": {},
   "outputs": [],
   "source": [
    "# Creating a solution handler\n",
    "NSGAIII_solutions_discret = juphelpers.bData.single_solution(methodName=\"NSGAIII\", function_name=name_of_function,\n",
    "                                                   good_points=L_good, bad_points=L_bad,\n",
    "                                                   number_of_runs=number_of_runs,\n",
    "                                                   numberOfPersons=number_of_instances,\n",
    "                                                   iters=max_numer_of_iterations,\n",
    "                                                   refpointToHyperV=[11,11],\n",
    "                                                   identif=\"NSGAIII-Discret-ZDT1\",\n",
    "                                                   pareto_front=optimal_front,\n",
    "                                                   obj=benchmarks.zdt1,\n",
    "                                                   lb=0, ub=1,\n",
    "                                                   dim=dim_of_labels)"
   ]
  },
  {
   "cell_type": "code",
   "execution_count": 38,
   "metadata": {},
   "outputs": [],
   "source": [
    "# Creez envrironment (Toolbox, Stats, Logbook) pour le cas discret\n",
    "envrironment = juphelpers.nsga3.create_Environment_For_NSGAIII_Discrete_Case(X,\n",
    "                                                       dim_of_labels,\n",
    "                                                       (-1.0, -1.0),\n",
    "                                                       benchmarks.zdt1,\n",
    "                                                       random_labels=True,\n",
    "                                                       seed = seed_for_all,\n",
    "                                                       P=number_of_instances)"
   ]
  },
  {
   "cell_type": "code",
   "execution_count": 39,
   "metadata": {},
   "outputs": [],
   "source": [
    "for run in range(number_of_runs):\n",
    "    envrironment_copy = copy.deepcopy(envrironment)\n",
    "    # --------------------------------------------------------------------------------------------------\n",
    "\n",
    "    # Obtenez une meilleure population et des statistiques\n",
    "    start_time = time.time()\n",
    "    # ==================================================================================================\n",
    "    (pop_tot, stats) = juphelpers.nsga3.NSGAIII_Discrete_Case(envrironment_copy, NGEN=max_numer_of_iterations,\n",
    "                                                               MU=number_of_instances, CXPB=0.93,\n",
    "                                                               MUTPB=1.0,\n",
    "                                                               seed=run,showprogress = False)\n",
    "    # ==================================================================================================\n",
    "    delta_time = time.time() - start_time\n",
    "    \n",
    "    # Getting good population by labels\n",
    "    pop_tot.sort(key=lambda x: x.fitness.values)\n",
    "    label_pop = pop_tot[::2]\n",
    "    pop = [X[juphelpers.nsga3.binToInt(p)] for p in label_pop]\n",
    "    \n",
    "    # Add solution\n",
    "    NSGAIII_solutions_discret.add_one_run(pop,delta_time)"
   ]
  },
  {
   "cell_type": "code",
   "execution_count": 40,
   "metadata": {},
   "outputs": [],
   "source": [
    "# Convergence et diversité\n",
    "(t,c,d,h) = NSGAIII_solutions_discret.returnMeanValues()\n",
    "\n",
    "dictionaireDiscretNSGA3.update({'Average time of execution (s)':str(t)})\n",
    "dictionaireDiscretNSGA3.update({'Average convergence':str(c), 'Average diversity':str(d),\n",
    "                          'Average hypervolume':str(h)})"
   ]
  },
  {
   "cell_type": "code",
   "execution_count": 41,
   "metadata": {},
   "outputs": [
    {
     "name": "stdout",
     "output_type": "stream",
     "text": [
      "Time of execution (s):  2.2648125092188516\n",
      "Convergence:  0.0009524588504648035\n",
      "Diversity:  0.41392209609328406\n",
      "hypervolume:  120.60262666926226\n"
     ]
    }
   ],
   "source": [
    "print(\"Time of execution (s): \",t)\n",
    "print(\"Convergence: \",c)\n",
    "print(\"Diversity: \",d)\n",
    "print(\"hypervolume: \",h)"
   ]
  },
  {
   "cell_type": "code",
   "execution_count": 42,
   "metadata": {
    "slideshow": {
     "slide_type": "fragment"
    }
   },
   "outputs": [
    {
     "data": {
      "image/png": "[encoded data removed]",
      "text/plain": [
       "<Figure size 432x288 with 1 Axes>"
      ]
     },
     "metadata": {
      "needs_background": "light"
     },
     "output_type": "display_data"
    }
   ],
   "source": [
    "juphelpers.plotFrontgraphics(np.array([benchmarks.zdt1(ind) for ind in NSGAIII_solutions_discret.bestPop]),\n",
    "                  np.array(optimal_front),\n",
    "                  title = \"NSGAIII Discrete Case\",xlabel=\"f1\",ylabel=\"f2\")"
   ]
  },
  {
   "cell_type": "code",
   "execution_count": 43,
   "metadata": {},
   "outputs": [],
   "source": [
    "# Ajouter une solution à la liste de solutions\n",
    "list_of_solutions_discret.append(NSGAIII_solutions_discret)"
   ]
  },
  {
   "cell_type": "code",
   "execution_count": 44,
   "metadata": {},
   "outputs": [],
   "source": [
    "# Sauvegarde des informations\n",
    "if saveEnabled:\n",
    "    juphelpers.GeneralCases.save_dict(dictionaireDiscretNSGA3, folderOfCSVs, CsvFileNameDiscret)"
   ]
  },
  {
   "cell_type": "markdown",
   "metadata": {},
   "source": [
    "#### 5.2.4 Conclusion\n"
   ]
  },
  {
   "cell_type": "markdown",
   "metadata": {},
   "source": [
    "Notez que l'algorithme donne de bons résultats, mais NASGAII semble représenter le meilleur front de pareto de zdt1. Cependant, nous pouvons voir, selon les images d’introduction, que la NSGAIII a de meilleures performances sur des fronts de Pareto plus complexes sur des espaces de sortie plus grands."
   ]
  },
  {
   "cell_type": "markdown",
   "metadata": {},
   "source": [
    "#### 5.2.5 Bibliographie\n",
    "\n",
    "<a id='NSGA3INTRO'></a>\n",
    "1. http://www.redcedartech.com/docs/HEEDSMDO/Study_Tab/Parameter_Optimization_Projects/NAGAIII.htm\n",
    "<a id='NSGA2DTLZ2IMAGE'></a>\n",
    "2. https://www.researchgate.net/figure/DTLZ2-solved-by-NSGA-II_fig1_258386891\n",
    "<a id='NSGA3DTLZ2IMAGE'></a>\n",
    "3. https://www.cogentoa.com/article/10.1080/23311916.2016.1269383.pdf \n",
    "<a id='NSGA3PSEUDO'></a>\n",
    "4. https://www.researchgate.net/figure/Pseudocode-of-NSGA-III-main-procedure_fig12_265552713"
   ]
  },
  {
   "cell_type": "markdown",
   "metadata": {
    "slideshow": {
     "slide_type": "subslide"
    }
   },
   "source": [
    "<a id='SPEA2'></a>\n",
    "### 5.3 SPEA2: Improving the Strength Pareto Evolutionary Algorithm"
   ]
  },
  {
   "cell_type": "markdown",
   "metadata": {},
   "source": [
    "#### 5.3.1 Introduction\n",
    "\n",
    "[[1]](#531SPEA2Paper)SPEA2 est un autre algorithme génétique multi-objectif, mais celui-ci a tenté d'éliminer les faiblesses potentielles de son prédécesseur (SPEA) et d'intégrer les résultats les plus récents afin de concevoir un algorithme EMO (evolutionary multiobjective optimization) puissant et actualisé. Les principales différences entre SPEA2 et SPEA sont les suivantes:\n",
    "\n",
    "1. Un schéma d’affectation de la forme physique amélioré est utilisé, qui prend en compte le nombre d’individus qu’il domine et par lequel il domine.\n",
    "2. Une technique d'estimation de la densité du plus proche voisin est incorporée, ce qui permet un guidage plus précis du processus de recherche.\n",
    "3. Une nouvelle méthode de troncature des archives garantit la préservation des solutions aux limites.  \n"
   ]
  },
  {
   "cell_type": "markdown",
   "metadata": {},
   "source": [
    "#### 5.3.2 Méthodologie\n",
    "![PseudocodeSPEA2](images/spea2pseudocode.png)"
   ]
  },
  {
   "cell_type": "markdown",
   "metadata": {},
   "source": [
    "#### 5.3.3 Implémentation"
   ]
  },
  {
   "cell_type": "code",
   "execution_count": 45,
   "metadata": {},
   "outputs": [],
   "source": [
    "# Dictionnaires pour sauvegarder les statistiques\n",
    "dictionaireContinuSPEA2 = {'Methods':'SPEA2', 'Data':'ZDT1', 'Number of runs':number_of_runs}\n",
    "dictionaireDiscretSPEA2 = {'Methods':'SPEA2', 'Data':'ZDT1', 'Number of runs':number_of_runs,\n",
    "                      'Real points':L_good,\n",
    "                     'Fake points':(L_bad)}"
   ]
  },
  {
   "cell_type": "markdown",
   "metadata": {
    "slideshow": {
     "slide_type": "fragment"
    }
   },
   "source": [
    "##### 5.3.3.1 Cas continu"
   ]
  },
  {
   "cell_type": "code",
   "execution_count": 46,
   "metadata": {},
   "outputs": [],
   "source": [
    "# Creating a solution handler\n",
    "SPEA2_solutions_continu = juphelpers.bData.single_solution(methodName=\"SPEA2\", function_name=name_of_function,\n",
    "                                                   good_points=L_good, bad_points=L_bad,\n",
    "                                                   number_of_runs=number_of_runs,\n",
    "                                                   numberOfPersons=number_of_instances,\n",
    "                                                   iters=max_numer_of_iterations,\n",
    "                                                   refpointToHyperV=[11,11],\n",
    "                                                   identif=\"SPEA2-Continu-ZDT1\",\n",
    "                                                   pareto_front=optimal_front,\n",
    "                                                   obj=benchmarks.zdt1,\n",
    "                                                   lb=0.0, ub=1.0,\n",
    "                                                   dim=30)"
   ]
  },
  {
   "cell_type": "code",
   "execution_count": 47,
   "metadata": {
    "slideshow": {
     "slide_type": "fragment"
    }
   },
   "outputs": [],
   "source": [
    "# Creez envrironment (Toolbox, Stats, Logbook) pour le cas continu\n",
    "envrironment = juphelpers.spea2.create_Environment_For_SPEA2_Continuous_Case(0.0,\n",
    "                                                            1.0, 30,\n",
    "                                                            juphelpers.DataGenerator.uniform,\n",
    "                                                            benchmarks.zdt1,\n",
    "                                                            weights=(-1.0,-1.0),\n",
    "                                                            eta = 20.0, indpb=1/30)"
   ]
  },
  {
   "cell_type": "code",
   "execution_count": 48,
   "metadata": {
    "slideshow": {
     "slide_type": "fragment"
    }
   },
   "outputs": [],
   "source": [
    "for run in range(number_of_runs):\n",
    "    envrironment_copy = copy.deepcopy(envrironment)\n",
    "    # --------------------------------------------------------------------------------------------------\n",
    "\n",
    "    # Obtenez une meilleure population et des statistiques\n",
    "    start_time = time.time()\n",
    "    # ==================================================================================================\n",
    "    (pop_tot, stats) = juphelpers.spea2.SPEA2_Continuous_Case(envrironment_copy, NGEN=max_numer_of_iterations,\n",
    "                                                             MU=number_of_instances,CXPB=0.93,\n",
    "                                                             seed=run,\n",
    "                                                             showprogress=False)\n",
    "    # ==================================================================================================\n",
    "    delta_time = time.time() - start_time\n",
    "    \n",
    "    pop_tot.sort(key=lambda x: x.fitness.values)\n",
    "    pop = []\n",
    "    # Getting pop as a list\n",
    "    for p in pop_tot:\n",
    "        pop.append(list(p))\n",
    "    \n",
    "    # Add solution\n",
    "    SPEA2_solutions_continu.add_one_run(pop,delta_time)"
   ]
  },
  {
   "cell_type": "code",
   "execution_count": 49,
   "metadata": {
    "slideshow": {
     "slide_type": "subslide"
    }
   },
   "outputs": [],
   "source": [
    "# Convergence et diversité\n",
    "(t,c,d,h) = SPEA2_solutions_continu.returnMeanValues()\n",
    "\n",
    "dictionaireContinuSPEA2.update({'Average time of execution (s)':str(t)})\n",
    "dictionaireContinuSPEA2.update({'Average convergence':str(c), 'Average diversity':str(d),\n",
    "                          'Average hypervolume':str(h)})"
   ]
  },
  {
   "cell_type": "code",
   "execution_count": 50,
   "metadata": {},
   "outputs": [
    {
     "name": "stdout",
     "output_type": "stream",
     "text": [
      "Time of execution (s):  9.442922027905782\n",
      "Convergence:  0.07392714668078584\n",
      "Diversity:  0.9962015467406612\n",
      "hypervolume:  113.51329661476274\n"
     ]
    }
   ],
   "source": [
    "print(\"Time of execution (s): \",t)\n",
    "print(\"Convergence: \",c)\n",
    "print(\"Diversity: \",d)\n",
    "print(\"hypervolume: \",h)"
   ]
  },
  {
   "cell_type": "code",
   "execution_count": 51,
   "metadata": {},
   "outputs": [],
   "source": [
    "# Ajouter une solution à la liste de solutions\n",
    "list_of_solutions_continu.append(SPEA2_solutions_continu)"
   ]
  },
  {
   "cell_type": "code",
   "execution_count": 52,
   "metadata": {
    "slideshow": {
     "slide_type": "fragment"
    }
   },
   "outputs": [
    {
     "data": {
      "image/png": "[encoded data removed]",
      "text/plain": [
       "<Figure size 432x288 with 1 Axes>"
      ]
     },
     "metadata": {
      "needs_background": "light"
     },
     "output_type": "display_data"
    }
   ],
   "source": [
    "juphelpers.plotFrontgraphics(np.array([benchmarks.zdt1(ind) for ind in SPEA2_solutions_continu.bestPop]),\n",
    "                  np.array(optimal_front),\n",
    "                  title = \"SPEA2 Continuous Case\",xlabel=\"f1\",ylabel=\"f2\")"
   ]
  },
  {
   "cell_type": "code",
   "execution_count": 53,
   "metadata": {},
   "outputs": [],
   "source": [
    "# Sauvegarde des informations\n",
    "if saveEnabled:\n",
    "    juphelpers.GeneralCases.save_dict(dictionaireContinuSPEA2, folderOfCSVs, CsvFileNameContinu)"
   ]
  },
  {
   "cell_type": "markdown",
   "metadata": {
    "slideshow": {
     "slide_type": "subslide"
    }
   },
   "source": [
    "##### 5.3.3.2 Cas discret"
   ]
  },
  {
   "cell_type": "code",
   "execution_count": 54,
   "metadata": {},
   "outputs": [],
   "source": [
    "# Creating a solution handler\n",
    "SPEA2_solutions_discret = juphelpers.bData.single_solution(methodName=\"SPEA2\", function_name=name_of_function,\n",
    "                                                   good_points=L_good, bad_points=L_bad,\n",
    "                                                   number_of_runs=number_of_runs,\n",
    "                                                   numberOfPersons=number_of_instances,\n",
    "                                                   iters=max_numer_of_iterations,\n",
    "                                                   refpointToHyperV=[11,11],\n",
    "                                                   identif=\"SPEA2-Discret-ZDT1\",\n",
    "                                                   pareto_front=optimal_front,\n",
    "                                                   obj=benchmarks.zdt1,\n",
    "                                                   lb=0, ub=1,\n",
    "                                                   dim=dim_of_labels)"
   ]
  },
  {
   "cell_type": "code",
   "execution_count": 55,
   "metadata": {
    "slideshow": {
     "slide_type": "fragment"
    }
   },
   "outputs": [],
   "source": [
    "# Creez envrironment (Toolbox, Stats, Logbook) pour le cas discret\n",
    "envrironment = juphelpers.spea2.create_Environment_For_SPEA2_Discrete_Case(X,\n",
    "                                                           dim_of_labels,\n",
    "                                                           (-1.0, -1.0),\n",
    "                                                           benchmarks.zdt1,\n",
    "                                                           random_labels=True,\n",
    "                                                           seed=seed_for_all)"
   ]
  },
  {
   "cell_type": "code",
   "execution_count": 56,
   "metadata": {
    "slideshow": {
     "slide_type": "fragment"
    }
   },
   "outputs": [],
   "source": [
    "for run in range(number_of_runs):\n",
    "    envrironment_copy = copy.deepcopy(envrironment)\n",
    "    # --------------------------------------------------------------------------------------------------\n",
    "\n",
    "    # Obtenez une meilleure population et des statistiques\n",
    "    start_time = time.time()\n",
    "    # ==================================================================================================\n",
    "    (pop_tot, logbook) = juphelpers.spea2.SPEA2_Discrete_Case(envrironment_copy,\n",
    "                                               NGEN=max_numer_of_iterations, MU=number_of_instances,\n",
    "                                               CXPB=0.93, seed=run,\n",
    "                                               showprogress = False)\n",
    "    # ==================================================================================================\n",
    "    delta_time = time.time() - start_time\n",
    "    \n",
    "    # Getting good population by labels\n",
    "    pop = [X[juphelpers.nsga2.binToInt(p)] for p in pop_tot]\n",
    "    \n",
    "    # Add solution\n",
    "    SPEA2_solutions_discret.add_one_run(pop,delta_time)"
   ]
  },
  {
   "cell_type": "code",
   "execution_count": 57,
   "metadata": {
    "slideshow": {
     "slide_type": "subslide"
    }
   },
   "outputs": [],
   "source": [
    "# Convergence et diversité\n",
    "(t,c,d,h) = SPEA2_solutions_discret.returnMeanValues()\n",
    "\n",
    "dictionaireDiscretSPEA2.update({'Average time of execution (s)':str(t)})\n",
    "dictionaireDiscretSPEA2.update({'Average convergence':str(c), 'Average diversity':str(d),\n",
    "                          'Average hypervolume':str(h)})"
   ]
  },
  {
   "cell_type": "code",
   "execution_count": 58,
   "metadata": {},
   "outputs": [
    {
     "name": "stdout",
     "output_type": "stream",
     "text": [
      "Time of execution (s):  84.98475139935812\n",
      "Convergence:  0.001251840305013012\n",
      "Diversity:  0.15231476772757768\n",
      "hypervolume:  120.652560131747\n"
     ]
    }
   ],
   "source": [
    "print(\"Time of execution (s): \",t)\n",
    "print(\"Convergence: \",c)\n",
    "print(\"Diversity: \",d)\n",
    "print(\"hypervolume: \",h)"
   ]
  },
  {
   "cell_type": "code",
   "execution_count": 59,
   "metadata": {},
   "outputs": [],
   "source": [
    "# Ajouter une solution à la liste de solutions\n",
    "list_of_solutions_discret.append(SPEA2_solutions_discret)"
   ]
  },
  {
   "cell_type": "code",
   "execution_count": 60,
   "metadata": {
    "slideshow": {
     "slide_type": "fragment"
    }
   },
   "outputs": [
    {
     "data": {
      "image/png": "[encoded data removed]",
      "text/plain": [
       "<Figure size 432x288 with 1 Axes>"
      ]
     },
     "metadata": {
      "needs_background": "light"
     },
     "output_type": "display_data"
    }
   ],
   "source": [
    "juphelpers.plotFrontgraphics(np.array([benchmarks.zdt1(ind) for ind in SPEA2_solutions_discret.bestPop]),\n",
    "                  np.array(optimal_front),\n",
    "                  title = \"SPEA2 Discrete Case\",xlabel=\"f1\",ylabel=\"f2\")"
   ]
  },
  {
   "cell_type": "code",
   "execution_count": 61,
   "metadata": {},
   "outputs": [],
   "source": [
    "# Sauvegarde des informations\n",
    "if saveEnabled:\n",
    "    juphelpers.GeneralCases.save_dict(dictionaireDiscretSPEA2, folderOfCSVs, CsvFileNameDiscret)"
   ]
  },
  {
   "cell_type": "markdown",
   "metadata": {},
   "source": [
    "#### 5.3.4 Conclusion\n",
    "\n",
    "> La SPEA2 dans le cas continu n’a pas eu une bonne performance par rapport à la NSGAII. Ceci est observé par le nombre d'itérations, la population et la façon dont les points ont été instanciés. Ce fait peut être facilement confirmé en augmentant le nombre d'itérations (SPEA2 met plus de temps à converger que NSGAII, mais présente une meilleure divergence).\n",
    "\n",
    "> Le SPEA2 a donné d’excellents résultats pour le cas discret. Cependant, bien qu’il ait la meilleure diversité, plusieurs points de la courbe de Pareto n’ont pas été trouvés. Dans un problème où nous voulons tous les points de la courbe de Pareto et ne trouvons pas quelques points qui la décrivent le mieux, NSGAII est plus adéquat."
   ]
  },
  {
   "cell_type": "markdown",
   "metadata": {},
   "source": [
    "#### 5.3.5 Bibliographie\n",
    "\n",
    "<a id='531SPEA2Paper'></a>\n",
    "1. https://pdfs.semanticscholar.org/6672/8d01f9ebd0446ab346a855a44d2b138fd82d.pdf"
   ]
  },
  {
   "cell_type": "markdown",
   "metadata": {},
   "source": [
    "<a id='NSGSA'></a>\n",
    "### 5.4 Non-dominated Sorting Gravitational Search"
   ]
  },
  {
   "cell_type": "markdown",
   "metadata": {},
   "source": [
    "#### 5.4.1 Introduction"
   ]
  },
  {
   "cell_type": "markdown",
   "metadata": {},
   "source": [
    "Le **Non-dominated Sorting Gravitational Search (NSGSA)** utilise le concept de _tri non dominé_ pour mettre à jour l'accélération gravitationnelle des particules. Des **archives externes** sont également utilisées pour stocker les solutions optimales de Pareto et fournir un peu _d’élitisme_. Il oriente également les recherches vers les régions non encombrées et les régions extrêmes du **front de Pareto**. Enfin, un nouveau critère est proposé pour mettre à jour les archives externes. [[1]](#MOGSAWITHPSEUDO)"
   ]
  },
  {
   "cell_type": "markdown",
   "metadata": {},
   "source": [
    "#### 5.4.2 Méthodologie"
   ]
  },
  {
   "cell_type": "markdown",
   "metadata": {},
   "source": [
    "Image prise à partir de [[1]](#MOGSAWITHPSEUDO):\n",
    "![PseudocodeNSGSA](images/PseudoNSGSA.png)"
   ]
  },
  {
   "cell_type": "markdown",
   "metadata": {
    "slideshow": {
     "slide_type": "subslide"
    }
   },
   "source": [
    "#### 5.4.3 Implémentation"
   ]
  },
  {
   "cell_type": "code",
   "execution_count": 62,
   "metadata": {},
   "outputs": [],
   "source": [
    "# Dictionnaires pour sauvegarder les statistiques\n",
    "dictionaireMOGSAContinu = {'Methods':'MOGSA', 'Data':'ZDT1', 'Number of runs':number_of_runs}\n",
    "dictionaireMOGSADiscret = {'Methods':'MOGSA', 'Data':'ZDT1', 'Number of runs':number_of_runs,\n",
    "                      'Real points':L_good,\n",
    "                     'Fake points':(L_bad)}"
   ]
  },
  {
   "cell_type": "markdown",
   "metadata": {
    "slideshow": {
     "slide_type": "fragment"
    }
   },
   "source": [
    "##### 5.4.3.1 Cas continu"
   ]
  },
  {
   "cell_type": "code",
   "execution_count": 63,
   "metadata": {},
   "outputs": [],
   "source": [
    "# Creating a solution handler\n",
    "MOGSA_solutions_continu = juphelpers.bData.single_solution(methodName=\"MOGSA\", function_name=name_of_function,\n",
    "                                                   good_points=L_good, bad_points=L_bad,\n",
    "                                                   number_of_runs=number_of_runs,\n",
    "                                                   numberOfPersons=number_of_instances,\n",
    "                                                   iters=max_numer_of_iterations,\n",
    "                                                   refpointToHyperV=[11,11],\n",
    "                                                   identif=\"MOGSA-Continu-ZDT1\",\n",
    "                                                   pareto_front=optimal_front,\n",
    "                                                   obj=benchmarks.zdt1,\n",
    "                                                   lb=0.0, ub=1.0,\n",
    "                                                   dim=30)"
   ]
  },
  {
   "cell_type": "code",
   "execution_count": 64,
   "metadata": {
    "scrolled": true,
    "slideshow": {
     "slide_type": "fragment"
    }
   },
   "outputs": [],
   "source": [
    "for run in range(number_of_runs):\n",
    "\n",
    "    # Obtenez une meilleure population et des statistiques\n",
    "    # ==================================================================================================\n",
    "    sol = juphelpers.mogsa.Continuous_MOGSA(benchmarks.zdt1,lb=0.,ub=1.,dim=30,\n",
    "                                        PopSize=number_of_instances,iters=max_numer_of_iterations,\n",
    "                                        weights=(-1,-1),\n",
    "                                        n_archive=number_of_instances, ps_m=0.002, pr_m=0.001,\n",
    "                                        showprogress=False,\n",
    "                                        randomseed = run)\n",
    "    # ==================================================================================================\n",
    "    \n",
    "    # Getting good population\n",
    "    pop = [ind.pos for ind in sol.archive]\n",
    "    \n",
    "    # Add solution\n",
    "    MOGSA_solutions_continu.add_one_run(pop,sol.executionTime)"
   ]
  },
  {
   "cell_type": "code",
   "execution_count": 65,
   "metadata": {
    "slideshow": {
     "slide_type": "subslide"
    }
   },
   "outputs": [],
   "source": [
    "# Convergence et diversité\n",
    "(t,c,d,h) = MOGSA_solutions_continu.returnMeanValues()\n",
    "\n",
    "dictionaireMOGSAContinu.update({'Average time of execution (s)':str(t)})\n",
    "dictionaireMOGSAContinu.update({'Average convergence':str(c), 'Average diversity':str(d),\n",
    "                          'Average hypervolume':str(h)})"
   ]
  },
  {
   "cell_type": "code",
   "execution_count": 66,
   "metadata": {
    "scrolled": true
   },
   "outputs": [
    {
     "name": "stdout",
     "output_type": "stream",
     "text": [
      "Time of execution (s):  137.7234555006027\n",
      "Convergence:  0.0007618347688072992\n",
      "Diversity:  0.4196526791153055\n",
      "hypervolume:  120.61975893960933\n"
     ]
    }
   ],
   "source": [
    "print(\"Time of execution (s): \",t)\n",
    "print(\"Convergence: \",c)\n",
    "print(\"Diversity: \",d)\n",
    "print(\"hypervolume: \",h)"
   ]
  },
  {
   "cell_type": "code",
   "execution_count": 67,
   "metadata": {},
   "outputs": [],
   "source": [
    "# Ajouter une solution à la liste de solutions\n",
    "list_of_solutions_continu.append(MOGSA_solutions_continu)"
   ]
  },
  {
   "cell_type": "code",
   "execution_count": 68,
   "metadata": {
    "scrolled": true,
    "slideshow": {
     "slide_type": "fragment"
    }
   },
   "outputs": [
    {
     "data": {
      "image/png": "[encoded data removed]",
      "text/plain": [
       "<Figure size 432x288 with 1 Axes>"
      ]
     },
     "metadata": {
      "needs_background": "light"
     },
     "output_type": "display_data"
    }
   ],
   "source": [
    "# Plot\n",
    "juphelpers.plotFrontgraphics(np.array([benchmarks.zdt1(ind) for ind in MOGSA_solutions_continu.bestPop]),\n",
    "                             np.array(optimal_front),\n",
    "                             title = \"MOGSA Continu\",\n",
    "                             xlabel=\"f1\",ylabel=\"f2\")"
   ]
  },
  {
   "cell_type": "code",
   "execution_count": 69,
   "metadata": {},
   "outputs": [],
   "source": [
    "# Sauvegarde des informations\n",
    "if saveEnabled:\n",
    "    juphelpers.GeneralCases.save_dict(dictionaireMOGSAContinu, folderOfCSVs, CsvFileNameContinu)"
   ]
  },
  {
   "cell_type": "markdown",
   "metadata": {
    "slideshow": {
     "slide_type": "subslide"
    }
   },
   "source": [
    "##### 5.4.3.2 Cas discret"
   ]
  },
  {
   "cell_type": "code",
   "execution_count": 70,
   "metadata": {},
   "outputs": [],
   "source": [
    "# Creating a solution handler\n",
    "MOGSA_solutions_discret = juphelpers.bData.single_solution(methodName=\"MOGSA\",\n",
    "                                                   function_name=name_of_function,\n",
    "                                                   good_points=L_good, bad_points=L_bad,\n",
    "                                                   number_of_runs=number_of_runs,\n",
    "                                                   numberOfPersons=number_of_instances,\n",
    "                                                   iters=max_numer_of_iterations,\n",
    "                                                   refpointToHyperV=[11,11],\n",
    "                                                   identif=\"MOGSA-Discret-ZDT1\",\n",
    "                                                   pareto_front=optimal_front,\n",
    "                                                   obj=benchmarks.zdt1,\n",
    "                                                   lb=0, ub=1,\n",
    "                                                   dim=dim_of_labels)"
   ]
  },
  {
   "cell_type": "code",
   "execution_count": 71,
   "metadata": {
    "slideshow": {
     "slide_type": "fragment"
    }
   },
   "outputs": [],
   "source": [
    "# Mettre la fonction de faisabilité au bon format\n",
    "(feasibility, multiObj) = juphelpers.mogsa.createEnvironment(benchmarks.zdt1, X)"
   ]
  },
  {
   "cell_type": "code",
   "execution_count": 72,
   "metadata": {
    "scrolled": false,
    "slideshow": {
     "slide_type": "fragment"
    }
   },
   "outputs": [],
   "source": [
    "for run in range(number_of_runs):\n",
    "    \n",
    "    # Obtenez une meilleure population et des statistiques\n",
    "    start_time = time.time()\n",
    "    # ==================================================================================================\n",
    "    sol = juphelpers.mogsa.Binary_MOGSA(multiObj,feasibility,dim_of_labels,PopSize=number_of_instances,\n",
    "                  iters=max_numer_of_iterations,\n",
    "                  weights=(-1,-1),n_archive=number_of_instances,ps_m=0.1, pr_m=0.5/(2*number_of_instances),\n",
    "                  flipProb=0.1/(2*number_of_instances),\n",
    "                  showprogress=False,\n",
    "                randomseed = run)\n",
    "    # ==================================================================================================\n",
    "    delta_time = time.time() - start_time\n",
    "    \n",
    "    # Getting good population by labels\n",
    "    pop = [X[juphelpers.nsga2.binToInt(p.pos)] for p in sol.archive]\n",
    "    \n",
    "    # Add solution\n",
    "    MOGSA_solutions_discret.add_one_run(pop,sol.executionTime)"
   ]
  },
  {
   "cell_type": "code",
   "execution_count": 73,
   "metadata": {
    "slideshow": {
     "slide_type": "subslide"
    }
   },
   "outputs": [],
   "source": [
    "# Convergence et diversité\n",
    "(t,c,d,h) = MOGSA_solutions_discret.returnMeanValues()\n",
    "\n",
    "dictionaireMOGSADiscret.update({'Average time of execution (s)':str(t)})\n",
    "dictionaireMOGSADiscret.update({'Average convergence':str(c), 'Average diversity':str(d),\n",
    "                          'Average hypervolume':str(h)})"
   ]
  },
  {
   "cell_type": "code",
   "execution_count": 74,
   "metadata": {
    "scrolled": true
   },
   "outputs": [
    {
     "name": "stdout",
     "output_type": "stream",
     "text": [
      "Time of execution (s):  307.0904999653498\n",
      "Convergence:  0.0010412830929134725\n",
      "Diversity:  0.33146670518179094\n",
      "hypervolume:  120.6592828441508\n"
     ]
    }
   ],
   "source": [
    "print(\"Time of execution (s): \",t)\n",
    "print(\"Convergence: \",c)\n",
    "print(\"Diversity: \",d)\n",
    "print(\"hypervolume: \",h)"
   ]
  },
  {
   "cell_type": "code",
   "execution_count": 75,
   "metadata": {},
   "outputs": [],
   "source": [
    "# Ajouter une solution à la liste de solutions\n",
    "list_of_solutions_discret.append(MOGSA_solutions_discret)"
   ]
  },
  {
   "cell_type": "code",
   "execution_count": 76,
   "metadata": {
    "scrolled": true,
    "slideshow": {
     "slide_type": "fragment"
    }
   },
   "outputs": [
    {
     "data": {
      "image/png": "[encoded data removed]",
      "text/plain": [
       "<Figure size 432x288 with 1 Axes>"
      ]
     },
     "metadata": {
      "needs_background": "light"
     },
     "output_type": "display_data"
    }
   ],
   "source": [
    "# Plot\n",
    "juphelpers.plotFrontgraphics(np.array([benchmarks.zdt1(ind) for ind in MOGSA_solutions_discret.bestPop]),\n",
    "                             np.array(optimal_front),\n",
    "                             title = \"MOGSA Binaire\",\n",
    "                             xlabel=\"f1\",ylabel=\"f2\")"
   ]
  },
  {
   "cell_type": "code",
   "execution_count": 77,
   "metadata": {},
   "outputs": [],
   "source": [
    "# Sauvegarde des informations\n",
    "if saveEnabled:\n",
    "    juphelpers.GeneralCases.save_dict(dictionaireMOGSADiscret, folderOfCSVs, CsvFileNameDiscret)"
   ]
  },
  {
   "cell_type": "markdown",
   "metadata": {},
   "source": [
    "##### 5.4.4 Conclusion\n",
    "\n",
    "Lors de la réalisation de la construction de l’algorithme, on peut voir que c’est une méthode où les choix des paramètres peuvent grandement influencer la convergence, et s’il n’y a pas d’attention, l’algorithme peut tomber à un endroit optimal et y rester longtemps, car le seul moyen de sortir de cet endroit serait par mutations.\n",
    "\n",
    "En tout cas, c’est une méthode intéressante (par rapport à la méthodologie), qui pour le cas continu, avec une bonne régulation des paramètres, il est possible d’obtenir de bons résultats, mais le cas discret n’a pas encore été exploré, les expériences réalisées ici étant un mélange de GSA binaire et le MOGSA original plus l’ajout d’un opérateur de mutation. C'est donc toujours un domaine à explorer, mais vous pouvez déjà obtenir de très bons résultats."
   ]
  },
  {
   "cell_type": "markdown",
   "metadata": {},
   "source": [
    "#### 5.4.5 Bibliographie\n",
    "\n",
    "<a id='MOGSAWITHPSEUDO'></a>\n",
    "1. https://www.researchgate.net/publication/303184329_A_Multi_objective_gravitational_search_algorithm_based_on_non-dominated_sorting\n",
    "<a id='MOGSASurvey'></a>\n",
    "2. https://www.sciencedirect.com/science/article/pii/S2210650217303577\n",
    "<a id='MOGSADisruption'></a>\n",
    "3. https://core.ac.uk/download/pdf/82093137.pdf\n",
    "<a id='OnlyGSA'></a>\n",
    "4. https://www.sciencedirect.com/science/article/pii/S0020025509001200\n",
    "<a id='GSACode'></a>\n",
    "5. https://github.com/himanshuRepo/Gravitational-Search-Algorithm"
   ]
  },
  {
   "cell_type": "markdown",
   "metadata": {
    "slideshow": {
     "slide_type": "slide"
    }
   },
   "source": [
    "<a id='SimpleCullAlgorithm'></a>\n",
    "### 5.5 Simple Cull Algorithm"
   ]
  },
  {
   "cell_type": "markdown",
   "metadata": {},
   "source": [
    "#### 5.5.1 Introduction\n",
    "\n",
    "Simple Cull (SC) est un algorithme simple pour trouver le pareto front en tant qu'algorithme de boucle imbriquée par bloc. [[1]](#521SIMPLECULL)"
   ]
  },
  {
   "cell_type": "markdown",
   "metadata": {},
   "source": [
    "#### 5.5.2 Méthodologie\n",
    "\n",
    "Il examine les configurations une par une et maintient un ensemble $ C_{min} $ de points de Pareto parmi les points observés jusqu'à présent. Chaque fois qu'un nouveau point est inspecté, deux situations peuvent se produire:\n",
    "1. Si le point est dominé par un ou plusieurs des points Pareto existants dans $ C_{min} $, il est ignoré.\n",
    "2. Si le point n'est pas dominé dans $ C_{min} $, tous les points de $ C_{min} $ dominés par le nouveau point sont supprimés et le nouveau point est ajouté à $ C_{min} $."
   ]
  },
  {
   "cell_type": "markdown",
   "metadata": {},
   "source": [
    "#### 5.5.3 Implémentation"
   ]
  },
  {
   "cell_type": "code",
   "execution_count": 78,
   "metadata": {},
   "outputs": [],
   "source": [
    "# Dictionnaires pour sauvegarder les statistiques\n",
    "dictionaireDiscretSC = {'Methods':'Simple Cull', 'Data':'ZDT1', 'Number of runs':number_of_runs,\n",
    "                      'Real points':L_good,\n",
    "                     'Fake points':(L_bad)}"
   ]
  },
  {
   "cell_type": "code",
   "execution_count": 79,
   "metadata": {},
   "outputs": [],
   "source": [
    "# Creating a solution handler\n",
    "Simple_Cull_solutions_discret = juphelpers.bData.single_solution(methodName=\"Simple Cull\",\n",
    "                                                   function_name=name_of_function,\n",
    "                                                   good_points=L_good, bad_points=L_bad,\n",
    "                                                   number_of_runs=number_of_runs,\n",
    "                                                   numberOfPersons=number_of_instances,\n",
    "                                                   iters=max_numer_of_iterations,\n",
    "                                                   refpointToHyperV=[11,11],\n",
    "                                                   identif=\"Simple-Cull-Discret-ZDT1\",\n",
    "                                                   pareto_front=optimal_front,\n",
    "                                                   obj=benchmarks.zdt1,\n",
    "                                                   lb=0, ub=1,\n",
    "                                                   dim=dim_of_labels)"
   ]
  },
  {
   "cell_type": "code",
   "execution_count": 80,
   "metadata": {},
   "outputs": [],
   "source": [
    "for run in range(number_of_runs):\n",
    "    # Obtenez une meilleure population et des statistiques\n",
    "    start_time = time.time()\n",
    "    # ==================================================================================================\n",
    "    paretoPoints, dominatedPoints = juphelpers.sCull.simple_cull(X, benchmarks.zdt1, (1.0,1.0))\n",
    "    # ==================================================================================================\n",
    "    delta_time = time.time() - start_time\n",
    "    \n",
    "    # Add solution\n",
    "    Simple_Cull_solutions_discret.add_one_run(paretoPoints,delta_time)"
   ]
  },
  {
   "cell_type": "code",
   "execution_count": 81,
   "metadata": {
    "slideshow": {
     "slide_type": "subslide"
    }
   },
   "outputs": [],
   "source": [
    "# Convergence et diversité\n",
    "(t,c,d,h) = Simple_Cull_solutions_discret.returnMeanValues()\n",
    "\n",
    "dictionaireDiscretSC.update({'Average time of execution (s)':str(t)})\n",
    "dictionaireDiscretSC.update({'Average convergence':str(c), 'Average diversity':str(d),\n",
    "                          'Average hypervolume':str(h)})"
   ]
  },
  {
   "cell_type": "code",
   "execution_count": 82,
   "metadata": {},
   "outputs": [
    {
     "name": "stdout",
     "output_type": "stream",
     "text": [
      "Time of execution (s):  0.0395235538482666\n",
      "Convergence:  0.0010412830929134725\n",
      "Diversity:  0.33146670518179094\n",
      "hypervolume:  120.6592828441508\n"
     ]
    }
   ],
   "source": [
    "print(\"Time of execution (s): \",t)\n",
    "print(\"Convergence: \",c)\n",
    "print(\"Diversity: \",d)\n",
    "print(\"hypervolume: \",h)"
   ]
  },
  {
   "cell_type": "code",
   "execution_count": 83,
   "metadata": {},
   "outputs": [],
   "source": [
    "# Ajouter une solution à la liste de solutions\n",
    "list_of_solutions_discret.append(Simple_Cull_solutions_discret)"
   ]
  },
  {
   "cell_type": "code",
   "execution_count": 84,
   "metadata": {
    "scrolled": true
   },
   "outputs": [
    {
     "data": {
      "image/png": "[encoded data removed]",
      "text/plain": [
       "<Figure size 432x288 with 1 Axes>"
      ]
     },
     "metadata": {
      "needs_background": "light"
     },
     "output_type": "display_data"
    }
   ],
   "source": [
    "juphelpers.plotFrontgraphics(np.array([benchmarks.zdt1(ind) for ind in Simple_Cull_solutions_discret.bestPop]),\n",
    "                             np.array(optimal_front),\n",
    "                             title = \"Simple Cull\",\n",
    "                             xlabel=\"f1\",ylabel=\"f2\")"
   ]
  },
  {
   "cell_type": "code",
   "execution_count": 85,
   "metadata": {},
   "outputs": [],
   "source": [
    "# Sauvegarde des informations\n",
    "if saveEnabled:\n",
    "    juphelpers.GeneralCases.save_dict(dictionaireDiscretSC, folderOfCSVs, CsvFileNameDiscret)"
   ]
  },
  {
   "cell_type": "markdown",
   "metadata": {},
   "source": [
    "#### 5.5.4 Conclusion\n",
    "\n",
    "> C’est une méthode facile à comprendre, facile à mettre en oeuvre et d’excellents résultats, mais en raison de la complexité de $ O(N^2*o) $ (o est la dimension de la sortie), l’algorithme commencera rapidement à augmenter le temps d’exécution car il dispose de plus de points, et pour les algorithmes génétiques, l’outil easena facilite l’arrêt en rendant l’algorithme génétique probablement plus rapide que l’abattage simple pour de nombreux points."
   ]
  },
  {
   "cell_type": "markdown",
   "metadata": {},
   "source": [
    "#### 5.5.5 Bibliographie\n",
    "\n",
    "<a id='521SIMPLECULL'></a>\n",
    "1. http://www.es.ele.tue.nl/pareto/papers/date2007_paretocalculator_final.pdf"
   ]
  },
  {
   "cell_type": "markdown",
   "metadata": {},
   "source": [
    "<a id='PSA'></a>\n",
    "### 5.6 Pareto Simulated Annealing"
   ]
  },
  {
   "cell_type": "markdown",
   "metadata": {},
   "source": [
    "#### 5.6.1 Introduction\n",
    "\n",
    "[[3]](#PSAWiki)C'est une méta-heuristique multi-optimisation qui consiste en une technique de recherche locale stochastique basée sur les principes de la thermodynamique (recuit ou annealing) qui consiste en un mélange de chauffage (explorer) et de refroidissement (exploiter)."
   ]
  },
  {
   "cell_type": "markdown",
   "metadata": {},
   "source": [
    "#### 5.6.2 Méthodologie\n",
    "Image prise à partir de [[1]](#ParetoAntColonyToAnnealing):\n",
    "![PseudocodePSA1](images/PSA1.png)\n",
    "![PseudocodePSA2](images/PSA2.png)"
   ]
  },
  {
   "cell_type": "markdown",
   "metadata": {},
   "source": [
    "#### 5.6.3 Implémentation"
   ]
  },
  {
   "cell_type": "code",
   "execution_count": 86,
   "metadata": {},
   "outputs": [],
   "source": [
    "# Dictionnaires pour sauvegarder les statistiques\n",
    "dictionaireDiscretPSA = {'Methods':'PSA', 'Data':'ZDT1', 'Number of runs':number_of_runs,\n",
    "                      'Real points':L_good,\n",
    "                     'Fake points':(L_bad)}"
   ]
  },
  {
   "cell_type": "code",
   "execution_count": 87,
   "metadata": {},
   "outputs": [],
   "source": [
    "# Creating a solution handler\n",
    "PSA_solutions_discret = juphelpers.bData.single_solution(methodName=\"PSA\",\n",
    "                                                   function_name=name_of_function,\n",
    "                                                   good_points=L_good, bad_points=L_bad,\n",
    "                                                   number_of_runs=number_of_runs,\n",
    "                                                   numberOfPersons=number_of_instances,\n",
    "                                                   iters=max_numer_of_iterations,\n",
    "                                                   refpointToHyperV=[11,11],\n",
    "                                                   identif=\"PSA-Discret-ZDT1\",\n",
    "                                                   pareto_front=optimal_front,\n",
    "                                                   obj=benchmarks.zdt1,\n",
    "                                                   lb=0, ub=1,\n",
    "                                                   dim=dim_of_labels)"
   ]
  },
  {
   "cell_type": "code",
   "execution_count": 88,
   "metadata": {},
   "outputs": [],
   "source": [
    "(feasibility, multiObj) = juphelpers.psa.createEnvironment(benchmarks.zdt1, X)"
   ]
  },
  {
   "cell_type": "code",
   "execution_count": 89,
   "metadata": {
    "slideshow": {
     "slide_type": "fragment"
    }
   },
   "outputs": [],
   "source": [
    "for run in range(number_of_runs):\n",
    "    \n",
    "    # Obtenez une meilleure population et des statistiques\n",
    "    # ==================================================================================================\n",
    "    sol = juphelpers.psa.PSA(multiObj, (-1,-1),feasibility, \n",
    "        X,2,\n",
    "        s=number_of_instances, iters=max_numer_of_iterations,\n",
    "        bit_flip=2,prob_bitflip=0.5,\n",
    "        showprogress = False)\n",
    "    # ==================================================================================================\n",
    "    \n",
    "    # Getting good population by labels\n",
    "    pop = [X[juphelpers.nsga2.binToInt(p)] for p in sol.pop]\n",
    "    \n",
    "    # Add solution\n",
    "    PSA_solutions_discret.add_one_run(pop,sol.executionTime)"
   ]
  },
  {
   "cell_type": "code",
   "execution_count": 90,
   "metadata": {
    "slideshow": {
     "slide_type": "subslide"
    }
   },
   "outputs": [],
   "source": [
    "# Convergence et diversité\n",
    "(t,c,d,h) = PSA_solutions_discret.returnMeanValues()\n",
    "\n",
    "dictionaireDiscretPSA.update({'Average time of execution (s)':str(t)})\n",
    "dictionaireDiscretPSA.update({'Average convergence':str(c), 'Average diversity':str(d),\n",
    "                          'Average hypervolume':str(h)})"
   ]
  },
  {
   "cell_type": "code",
   "execution_count": 91,
   "metadata": {},
   "outputs": [
    {
     "name": "stdout",
     "output_type": "stream",
     "text": [
      "Time of execution (s):  5.370068669319153\n",
      "Convergence:  0.0010393807567409875\n",
      "Diversity:  0.37772139694691287\n",
      "hypervolume:  120.60646317249522\n"
     ]
    }
   ],
   "source": [
    "print(\"Time of execution (s): \",t)\n",
    "print(\"Convergence: \",c)\n",
    "print(\"Diversity: \",d)\n",
    "print(\"hypervolume: \",h)"
   ]
  },
  {
   "cell_type": "code",
   "execution_count": 92,
   "metadata": {},
   "outputs": [],
   "source": [
    "# Ajouter une solution à la liste de solutions\n",
    "list_of_solutions_discret.append(PSA_solutions_discret)"
   ]
  },
  {
   "cell_type": "code",
   "execution_count": 93,
   "metadata": {
    "slideshow": {
     "slide_type": "fragment"
    }
   },
   "outputs": [
    {
     "data": {
      "image/png": "[encoded data removed]",
      "text/plain": [
       "<Figure size 432x288 with 1 Axes>"
      ]
     },
     "metadata": {
      "needs_background": "light"
     },
     "output_type": "display_data"
    }
   ],
   "source": [
    "juphelpers.plotFrontgraphics(np.array([benchmarks.zdt1(ind) for ind in PSA_solutions_discret.bestPop]),\n",
    "                             np.array(optimal_front),\n",
    "                  title = \"PSA\",xlabel=\"f1\",ylabel=\"f2\")"
   ]
  },
  {
   "cell_type": "code",
   "execution_count": 94,
   "metadata": {},
   "outputs": [],
   "source": [
    "# Sauvegarde des informations\n",
    "if saveEnabled:\n",
    "    juphelpers.GeneralCases.save_dict(dictionaireDiscretPSA, folderOfCSVs, CsvFileNameDiscret)"
   ]
  },
  {
   "cell_type": "markdown",
   "metadata": {},
   "source": [
    "#### 5.6.4 Conclusion\n",
    "\n",
    "C'est une méthode dont le choix des points stochastiques est fondamental. L'algorithme a été exécuté plusieurs fois, obtenant des résultats variés mais proches (même ordre de grandeur).  \n",
    "\n",
    "C'est un modèle qui recherche principalement la convergence, tout en obtenant une convergence et une divergence optimales. Afin d’obtenir des résultats meilleurs et plus cohérents, il est nécessaire de modifier les paramètres en valeurs susceptibles d’augmenter le temps d’exécution, mais il convient de noter que l’algorithme acquiert d’excellents résultats même avec peu de populations et un faible nombre d’itérations."
   ]
  },
  {
   "cell_type": "markdown",
   "metadata": {},
   "source": [
    "#### 5.6.5 Bibliographie\n",
    "\n",
    "<a id='ParetoAntColonyToAnnealing'></a>\n",
    "1. https://www.researchgate.net/publication/220462163_Pareto_Ant_Colony_Optimization_A_Metaheuristic_Approach_to_Multiobjective_Portfolio_Selection\n",
    "<a id='PSAnnealing'></a>\n",
    "2. https://pdfs.semanticscholar.org/3129/67df379edc8d315b407c97aa8f5da64617f9.pdf\n",
    "<a id='PSAWiki'></a>\n",
    "3. https://pt.wikipedia.org/wiki/Simulated_annealing"
   ]
  },
  {
   "cell_type": "markdown",
   "metadata": {},
   "source": [
    "<a id='Tabu'></a>\n",
    "### 5.7 Binary Multi-Objective Tabu Search"
   ]
  },
  {
   "cell_type": "markdown",
   "metadata": {},
   "source": [
    "#### 5.7.1 Introduction\n",
    "\n",
    "C'est une méthode basée sur l'interdiction (temporaire ou non) des mouvements. L'optimum global peut être trouvé avec une série de séquences de mouvement autorisées. Chaque mouvement sera atteint sur une table Tabou pour voir si cela est autorisé ou non.[[1]](#RandomParetoTabu)"
   ]
  },
  {
   "cell_type": "markdown",
   "metadata": {},
   "source": [
    "#### 5.7.2 Méthodologie\n",
    "Image prise à partir de [[1]](#RandomParetoTabu):\n",
    "![TabuPseudo](images/TabuPseudo.png)"
   ]
  },
  {
   "cell_type": "markdown",
   "metadata": {},
   "source": [
    "#### 5.7.3 Implémentation"
   ]
  },
  {
   "cell_type": "code",
   "execution_count": 95,
   "metadata": {},
   "outputs": [],
   "source": [
    "# Dictionnaires pour sauvegarder les statistiques\n",
    "dictionaireDiscretBTabuSearch = {'Methods':'BinaryTabuSearch', 'Data':'ZDT1', 'Number of runs':number_of_runs,\n",
    "                      'Real points':L_good,\n",
    "                     'Fake points':(L_bad)}"
   ]
  },
  {
   "cell_type": "code",
   "execution_count": 96,
   "metadata": {},
   "outputs": [],
   "source": [
    "# Creating a solution handler\n",
    "bTabu_solutions_discret = juphelpers.bData.single_solution(methodName=\"Binary Tabu Search\",\n",
    "                                                   function_name=name_of_function,\n",
    "                                                   good_points=L_good, bad_points=L_bad,\n",
    "                                                   number_of_runs=number_of_runs,\n",
    "                                                   numberOfPersons=number_of_instances,\n",
    "                                                   iters=max_numer_of_iterations,\n",
    "                                                   refpointToHyperV=[11,11],\n",
    "                                                   identif=\"Binary-Tabu-Search-Discret-ZDT1\",\n",
    "                                                   pareto_front=optimal_front,\n",
    "                                                   obj=benchmarks.zdt1,\n",
    "                                                   lb=0, ub=1,\n",
    "                                                   dim=dim_of_labels)"
   ]
  },
  {
   "cell_type": "code",
   "execution_count": 97,
   "metadata": {},
   "outputs": [],
   "source": [
    "for run in range(number_of_runs):\n",
    "    \n",
    "    # Obtenez une meilleure population et des statistiques\n",
    "    start_time = time.time()\n",
    "    # ==================================================================================================\n",
    "    pop = juphelpers.bTabuSearch.binary_pareto_tabu_search(benchmarks.zdt1,(-1,-1),X)\n",
    "    # ==================================================================================================\n",
    "    delta_time = time.time() - start_time\n",
    "    \n",
    "    # Add solution\n",
    "    bTabu_solutions_discret.add_one_run(pop,delta_time)"
   ]
  },
  {
   "cell_type": "code",
   "execution_count": 98,
   "metadata": {
    "slideshow": {
     "slide_type": "subslide"
    }
   },
   "outputs": [],
   "source": [
    "# Convergence et diversité\n",
    "(t,c,d,h) = bTabu_solutions_discret.returnMeanValues()\n",
    "\n",
    "dictionaireDiscretBTabuSearch.update({'Average time of execution (s)':str(t)})\n",
    "dictionaireDiscretBTabuSearch.update({'Average convergence':str(c), 'Average diversity':str(d),\n",
    "                          'Average hypervolume':str(h)})"
   ]
  },
  {
   "cell_type": "code",
   "execution_count": 99,
   "metadata": {},
   "outputs": [
    {
     "name": "stdout",
     "output_type": "stream",
     "text": [
      "Time of execution:  0.10279502073923746\n",
      "Convergence:  0.0010370385041511899\n",
      "Diversity:  0.34028771010221187\n",
      "hypervolume:  120.6592828441508\n"
     ]
    }
   ],
   "source": [
    "print(\"Time of execution: \",t)\n",
    "print(\"Convergence: \",c)\n",
    "print(\"Diversity: \",d)\n",
    "print(\"hypervolume: \",h)"
   ]
  },
  {
   "cell_type": "code",
   "execution_count": 100,
   "metadata": {},
   "outputs": [],
   "source": [
    "# Ajouter une solution à la liste de solutions\n",
    "list_of_solutions_discret.append(bTabu_solutions_discret)"
   ]
  },
  {
   "cell_type": "code",
   "execution_count": 101,
   "metadata": {},
   "outputs": [
    {
     "data": {
      "image/png": "[encoded data removed]",
      "text/plain": [
       "<Figure size 432x288 with 1 Axes>"
      ]
     },
     "metadata": {
      "needs_background": "light"
     },
     "output_type": "display_data"
    }
   ],
   "source": [
    "juphelpers.plotFrontgraphics(np.array([benchmarks.zdt1(ind) for ind in bTabu_solutions_discret.bestPop]),\n",
    "                             np.array(optimal_front),\n",
    "                  title = \"Binary Tabu Search\",xlabel=\"f1\",ylabel=\"f2\")"
   ]
  },
  {
   "cell_type": "code",
   "execution_count": 102,
   "metadata": {},
   "outputs": [],
   "source": [
    "# Sauvegarde des informations\n",
    "if saveEnabled:\n",
    "    juphelpers.GeneralCases.save_dict(dictionaireDiscretBTabuSearch, folderOfCSVs, CsvFileNameDiscret)"
   ]
  },
  {
   "cell_type": "markdown",
   "metadata": {},
   "source": [
    "#### 5.7.4 Conclusion\n",
    "\n",
    "Comme nous pouvons le constater, Binary Tabu Search donne de bons résultats, car le choix du critère de l'étape de Binary Tabu Search compare le nouveau point qui viendra avec ceux déjà présents dans l'ensemble non dominé, de même que Simple Cull. Le complexidate des deux algorithmes dépend donc du nombre de points d’entrée et de la dimension de la sortie."
   ]
  },
  {
   "cell_type": "markdown",
   "metadata": {},
   "source": [
    "#### 5.7.5 Bibliographie\n",
    "\n",
    "<a id='RandomParetoTabu'></a>\n",
    "1. https://www.researchgate.net/publication/221477675_Randomized_Algorithm_with_Tabu_Search_for_Multi-Objective_Optimization_of_Large_Containership_Stowage_Plans"
   ]
  },
  {
   "cell_type": "markdown",
   "metadata": {},
   "source": [
    "<a id='FullNSR'></a>\n",
    "### 5.8. Full Non-dominated Sorting and Ranking"
   ]
  },
  {
   "cell_type": "markdown",
   "metadata": {},
   "source": [
    "#### 5.8.1 Introduction\n",
    "\n",
    "Cet algorithme a été appliqué dans NSGAII et NSGAIII, mais nous l’appliquons ici dans l’ensemble des données et pas seulement avec une petite population. Certains changements ont été apportés par rapport au code, mais le but est le même: classer différents fronts non dominés.\n",
    "\n",
    "Pour améliorer le résultat, il est possible d'effectuer un retrait en utilisant la distance d'encombrement (crowding distance) afin de supprimer intelligemment les points du front de Pareto afin d'avoir moins de points, mais qui expriment très bien le front(La procédure peut être trouvée dans [[2]](#mogsacrowdingdistance))."
   ]
  },
  {
   "cell_type": "markdown",
   "metadata": {},
   "source": [
    "#### 5.8.2 Méthodologie\n",
    "\n",
    "Image prise à partir de [[1]](#fullnsrpseudo):\n",
    "![nondominatedpseudo](images/nondominatedpseudo.png)"
   ]
  },
  {
   "cell_type": "markdown",
   "metadata": {},
   "source": [
    "#### 5.8.3 Implémentation"
   ]
  },
  {
   "cell_type": "code",
   "execution_count": 103,
   "metadata": {},
   "outputs": [],
   "source": [
    "# Dictionnaires pour sauvegarder les statistiques\n",
    "dictionaireDiscretFnsr = {'Methods':'FullNonDominatedSortingAndRanking', 'Data':'ZDT1',\n",
    "                                 'Number of runs':number_of_runs,\n",
    "                      'Real points':L_good,\n",
    "                     'Fake points':(L_bad)}"
   ]
  },
  {
   "cell_type": "code",
   "execution_count": 104,
   "metadata": {},
   "outputs": [],
   "source": [
    "# Creating a solution handler\n",
    "fnsr_solutions_discret = juphelpers.bData.single_solution(methodName=\"Full Non-Dominated Sorting and Ranking\",\n",
    "                                                   function_name=name_of_function,\n",
    "                                                   good_points=L_good, bad_points=L_bad,\n",
    "                                                   number_of_runs=number_of_runs,\n",
    "                                                   numberOfPersons=number_of_instances,\n",
    "                                                   iters=max_numer_of_iterations,\n",
    "                                                   refpointToHyperV=[11,11],\n",
    "                                                   identif=\"FullNonDominatedSortingAndRanking-Discret-ZDT1\",\n",
    "                                                   pareto_front=optimal_front,\n",
    "                                                   obj=benchmarks.zdt1,\n",
    "                                                   lb=0, ub=1,\n",
    "                                                   dim=dim_of_labels)"
   ]
  },
  {
   "cell_type": "code",
   "execution_count": 105,
   "metadata": {
    "scrolled": true
   },
   "outputs": [],
   "source": [
    "for run in range(number_of_runs):\n",
    "    \n",
    "    # Obtenez une meilleure population et des statistiques\n",
    "    start_time = time.time()\n",
    "    # ==================================================================================================\n",
    "    dict_pop = juphelpers.fullnsr.fnon_dominated_sorting_and_ranking(X,benchmarks.zdt1,(-1,-1))\n",
    "    # ==================================================================================================\n",
    "    delta_time = time.time() - start_time\n",
    "    pop = [X[p] for p in dict_pop[1]]\n",
    "    \n",
    "    # Add solution\n",
    "    fnsr_solutions_discret.add_one_run(juphelpers.fullnsr.smart_removal(pop,100-run,benchmarks.zdt1,(-1,-1)),delta_time)"
   ]
  },
  {
   "cell_type": "code",
   "execution_count": 106,
   "metadata": {
    "slideshow": {
     "slide_type": "subslide"
    }
   },
   "outputs": [],
   "source": [
    "# Convergence et diversité\n",
    "(t,c,d,h) = fnsr_solutions_discret.returnMeanValues()\n",
    "\n",
    "dictionaireDiscretFnsr.update({'Average time of execution (s)':str(t)})\n",
    "dictionaireDiscretFnsr.update({'Average convergence':str(c), 'Average diversity':str(d),\n",
    "                          'Average hypervolume':str(h)})"
   ]
  },
  {
   "cell_type": "code",
   "execution_count": 107,
   "metadata": {},
   "outputs": [
    {
     "name": "stdout",
     "output_type": "stream",
     "text": [
      "Time of execution:  0.38057647546132406\n",
      "Convergence:  0.0010063314377735612\n",
      "Diversity:  0.2950789059634809\n",
      "hypervolume:  120.65875198366582\n"
     ]
    }
   ],
   "source": [
    "print(\"Time of execution: \",t)\n",
    "print(\"Convergence: \",c)\n",
    "print(\"Diversity: \",d)\n",
    "print(\"hypervolume: \",h)"
   ]
  },
  {
   "cell_type": "code",
   "execution_count": 108,
   "metadata": {},
   "outputs": [],
   "source": [
    "# Ajouter une solution à la liste de solutions\n",
    "list_of_solutions_discret.append(fnsr_solutions_discret)"
   ]
  },
  {
   "cell_type": "code",
   "execution_count": 109,
   "metadata": {
    "scrolled": true
   },
   "outputs": [
    {
     "data": {
      "image/png": "[encoded data removed]",
      "text/plain": [
       "<Figure size 432x288 with 1 Axes>"
      ]
     },
     "metadata": {
      "needs_background": "light"
     },
     "output_type": "display_data"
    }
   ],
   "source": [
    "juphelpers.plotFrontgraphics(np.array([benchmarks.zdt1(ind) for ind in fnsr_solutions_discret.bestPop]),\n",
    "                             np.array(optimal_front),\n",
    "                  title = \"Full Non-Dominated Sorting and Ranking\",xlabel=\"f1\",ylabel=\"f2\")"
   ]
  },
  {
   "cell_type": "code",
   "execution_count": 110,
   "metadata": {},
   "outputs": [],
   "source": [
    "# Sauvegarde des informations\n",
    "if saveEnabled:\n",
    "    juphelpers.GeneralCases.save_dict(dictionaireDiscretFnsr, folderOfCSVs, CsvFileNameDiscret)"
   ]
  },
  {
   "cell_type": "markdown",
   "metadata": {},
   "source": [
    "#### 5.8.4 Conclusion\n",
    "\n",
    "Premièrement, nous notons que le tri et le classement non dominés à première vue semblent être l’algorithme Simple Cull, mais avec un temps d’exécution plus long. Cependant, il est beaucoup plus avantageux que Simple Cull, car nous ne divulguerons aucune information. En d’autres termes, tous les points seront classés et ceux de rang 1 font partie du meilleur front qui, dans ce cas, est le front Pareto de la solution.\n",
    "\n",
    "Il est également à noter que l'utilisation de la distance d'encombrement nous permet de réduire le nombre de points frontaux de Pareto de manière intelligente. Même si le nombre de points est inférieur au nombre de points initial, nous aurons des points qui représentent très bien le front de Pareto.\n",
    "\n",
    "Donc, en raison de la grande complexité de l'algorithme, si nous avons peu de points, il peut être plus avantageux que les autres algorithmes stochastiques."
   ]
  },
  {
   "cell_type": "markdown",
   "metadata": {},
   "source": [
    "#### 5.8.5 Bibliographie\n",
    "\n",
    "<a id='fullnsrpseudo'></a>\n",
    "1. https://www.researchgate.net/figure/Pseudocode-of-the-fast-non-dominated-sort-algorithm_fig1_288975720\n",
    "<a id='mogsacrowdingdistance'></a>\n",
    "2. https://www.researchgate.net/publication/303184329_A_Multi_objective_gravitational_search_algorithm_based_on_non-dominated_sorting"
   ]
  },
  {
   "cell_type": "markdown",
   "metadata": {},
   "source": [
    "---\n",
    "<a id='ComparaisonDesResultats'></a>\n",
    "## 6. Comparaison des résultats"
   ]
  },
  {
   "cell_type": "markdown",
   "metadata": {},
   "source": [
    "### 6.1 Cas Continu"
   ]
  },
  {
   "cell_type": "code",
   "execution_count": 111,
   "metadata": {
    "scrolled": true
   },
   "outputs": [
    {
     "data": {
      "text/html": [
       "<div>\n",
       "<style scoped>\n",
       "    .dataframe tbody tr th:only-of-type {\n",
       "        vertical-align: middle;\n",
       "    }\n",
       "\n",
       "    .dataframe tbody tr th {\n",
       "        vertical-align: top;\n",
       "    }\n",
       "\n",
       "    .dataframe thead th {\n",
       "        text-align: right;\n",
       "    }\n",
       "</style>\n",
       "<table border=\"1\" class=\"dataframe\">\n",
       "  <thead>\n",
       "    <tr style=\"text-align: right;\">\n",
       "      <th></th>\n",
       "      <th>Methods</th>\n",
       "      <th>Data</th>\n",
       "      <th>Number of runs</th>\n",
       "      <th>Average time of execution (s)</th>\n",
       "      <th>Average convergence</th>\n",
       "      <th>Average diversity</th>\n",
       "      <th>Average hypervolume</th>\n",
       "    </tr>\n",
       "  </thead>\n",
       "  <tbody>\n",
       "    <tr>\n",
       "      <th>0</th>\n",
       "      <td>NSGAII</td>\n",
       "      <td>ZDT1</td>\n",
       "      <td>30</td>\n",
       "      <td>5.260204</td>\n",
       "      <td>0.005159</td>\n",
       "      <td>0.255612</td>\n",
       "      <td>120.550338</td>\n",
       "    </tr>\n",
       "    <tr>\n",
       "      <th>1</th>\n",
       "      <td>NSGAIII</td>\n",
       "      <td>ZDT1</td>\n",
       "      <td>30</td>\n",
       "      <td>2.381214</td>\n",
       "      <td>0.005568</td>\n",
       "      <td>0.825327</td>\n",
       "      <td>120.491865</td>\n",
       "    </tr>\n",
       "    <tr>\n",
       "      <th>2</th>\n",
       "      <td>SPEA2</td>\n",
       "      <td>ZDT1</td>\n",
       "      <td>30</td>\n",
       "      <td>9.442922</td>\n",
       "      <td>0.073927</td>\n",
       "      <td>0.996202</td>\n",
       "      <td>113.513297</td>\n",
       "    </tr>\n",
       "    <tr>\n",
       "      <th>3</th>\n",
       "      <td>MOGSA</td>\n",
       "      <td>ZDT1</td>\n",
       "      <td>30</td>\n",
       "      <td>137.723456</td>\n",
       "      <td>0.000762</td>\n",
       "      <td>0.419653</td>\n",
       "      <td>120.619759</td>\n",
       "    </tr>\n",
       "  </tbody>\n",
       "</table>\n",
       "</div>"
      ],
      "text/plain": [
       "   Methods  Data  Number of runs  Average time of execution (s)  Average convergence  Average diversity  Average hypervolume\n",
       "0  NSGAII   ZDT1  30              5.260204                       0.005159             0.255612           120.550338         \n",
       "1  NSGAIII  ZDT1  30              2.381214                       0.005568             0.825327           120.491865         \n",
       "2  SPEA2    ZDT1  30              9.442922                       0.073927             0.996202           113.513297         \n",
       "3  MOGSA    ZDT1  30              137.723456                     0.000762             0.419653           120.619759         "
      ]
     },
     "metadata": {},
     "output_type": "display_data"
    }
   ],
   "source": [
    "juphelpers.GeneralCases.open_csv(folderOfCSVs+\"/\"+CsvFileNameContinu)"
   ]
  },
  {
   "cell_type": "code",
   "execution_count": 112,
   "metadata": {},
   "outputs": [
    {
     "data": {
      "image/png": "[encoded data removed]",
      "text/plain": [
       "<Figure size 1440x1440 with 4 Axes>"
      ]
     },
     "metadata": {
      "needs_background": "light"
     },
     "output_type": "display_data"
    }
   ],
   "source": [
    "# Boîte à moustaches\n",
    "juphelpers.bData.box_plot_solutions(list_of_solutions_continu)"
   ]
  },
  {
   "cell_type": "markdown",
   "metadata": {},
   "source": [
    "### 6.2 Cas Discret"
   ]
  },
  {
   "cell_type": "code",
   "execution_count": 113,
   "metadata": {
    "scrolled": true
   },
   "outputs": [
    {
     "data": {
      "text/html": [
       "<div>\n",
       "<style scoped>\n",
       "    .dataframe tbody tr th:only-of-type {\n",
       "        vertical-align: middle;\n",
       "    }\n",
       "\n",
       "    .dataframe tbody tr th {\n",
       "        vertical-align: top;\n",
       "    }\n",
       "\n",
       "    .dataframe thead th {\n",
       "        text-align: right;\n",
       "    }\n",
       "</style>\n",
       "<table border=\"1\" class=\"dataframe\">\n",
       "  <thead>\n",
       "    <tr style=\"text-align: right;\">\n",
       "      <th></th>\n",
       "      <th>Methods</th>\n",
       "      <th>Data</th>\n",
       "      <th>Number of runs</th>\n",
       "      <th>Real points</th>\n",
       "      <th>Fake points</th>\n",
       "      <th>Average time of execution (s)</th>\n",
       "      <th>Average convergence</th>\n",
       "      <th>Average diversity</th>\n",
       "      <th>Average hypervolume</th>\n",
       "    </tr>\n",
       "  </thead>\n",
       "  <tbody>\n",
       "    <tr>\n",
       "      <th>0</th>\n",
       "      <td>NSGAII</td>\n",
       "      <td>ZDT1</td>\n",
       "      <td>30</td>\n",
       "      <td>100</td>\n",
       "      <td>100</td>\n",
       "      <td>1.952908</td>\n",
       "      <td>0.000742</td>\n",
       "      <td>0.314567</td>\n",
       "      <td>120.654461</td>\n",
       "    </tr>\n",
       "    <tr>\n",
       "      <th>1</th>\n",
       "      <td>NSGAIII</td>\n",
       "      <td>ZDT1</td>\n",
       "      <td>30</td>\n",
       "      <td>100</td>\n",
       "      <td>100</td>\n",
       "      <td>2.264813</td>\n",
       "      <td>0.000952</td>\n",
       "      <td>0.413922</td>\n",
       "      <td>120.602627</td>\n",
       "    </tr>\n",
       "    <tr>\n",
       "      <th>2</th>\n",
       "      <td>SPEA2</td>\n",
       "      <td>ZDT1</td>\n",
       "      <td>30</td>\n",
       "      <td>100</td>\n",
       "      <td>100</td>\n",
       "      <td>84.984751</td>\n",
       "      <td>0.001252</td>\n",
       "      <td>0.152315</td>\n",
       "      <td>120.652560</td>\n",
       "    </tr>\n",
       "    <tr>\n",
       "      <th>3</th>\n",
       "      <td>MOGSA</td>\n",
       "      <td>ZDT1</td>\n",
       "      <td>30</td>\n",
       "      <td>100</td>\n",
       "      <td>100</td>\n",
       "      <td>307.090500</td>\n",
       "      <td>0.001041</td>\n",
       "      <td>0.331467</td>\n",
       "      <td>120.659283</td>\n",
       "    </tr>\n",
       "    <tr>\n",
       "      <th>4</th>\n",
       "      <td>Simple Cull</td>\n",
       "      <td>ZDT1</td>\n",
       "      <td>30</td>\n",
       "      <td>100</td>\n",
       "      <td>100</td>\n",
       "      <td>0.039524</td>\n",
       "      <td>0.001041</td>\n",
       "      <td>0.331467</td>\n",
       "      <td>120.659283</td>\n",
       "    </tr>\n",
       "    <tr>\n",
       "      <th>5</th>\n",
       "      <td>PSA</td>\n",
       "      <td>ZDT1</td>\n",
       "      <td>30</td>\n",
       "      <td>100</td>\n",
       "      <td>100</td>\n",
       "      <td>5.370069</td>\n",
       "      <td>0.001039</td>\n",
       "      <td>0.377721</td>\n",
       "      <td>120.606463</td>\n",
       "    </tr>\n",
       "    <tr>\n",
       "      <th>6</th>\n",
       "      <td>BinaryTabuSearch</td>\n",
       "      <td>ZDT1</td>\n",
       "      <td>30</td>\n",
       "      <td>100</td>\n",
       "      <td>100</td>\n",
       "      <td>0.102795</td>\n",
       "      <td>0.001037</td>\n",
       "      <td>0.340288</td>\n",
       "      <td>120.659283</td>\n",
       "    </tr>\n",
       "    <tr>\n",
       "      <th>7</th>\n",
       "      <td>FullNonDominatedSortingAndRanking</td>\n",
       "      <td>ZDT1</td>\n",
       "      <td>30</td>\n",
       "      <td>100</td>\n",
       "      <td>100</td>\n",
       "      <td>0.380576</td>\n",
       "      <td>0.001006</td>\n",
       "      <td>0.295079</td>\n",
       "      <td>120.658752</td>\n",
       "    </tr>\n",
       "  </tbody>\n",
       "</table>\n",
       "</div>"
      ],
      "text/plain": [
       "                             Methods  Data  Number of runs  Real points  Fake points  Average time of execution (s)  Average convergence  Average diversity  Average hypervolume\n",
       "0  NSGAII                             ZDT1  30              100          100          1.952908                       0.000742             0.314567           120.654461         \n",
       "1  NSGAIII                            ZDT1  30              100          100          2.264813                       0.000952             0.413922           120.602627         \n",
       "2  SPEA2                              ZDT1  30              100          100          84.984751                      0.001252             0.152315           120.652560         \n",
       "3  MOGSA                              ZDT1  30              100          100          307.090500                     0.001041             0.331467           120.659283         \n",
       "4  Simple Cull                        ZDT1  30              100          100          0.039524                       0.001041             0.331467           120.659283         \n",
       "5  PSA                                ZDT1  30              100          100          5.370069                       0.001039             0.377721           120.606463         \n",
       "6  BinaryTabuSearch                   ZDT1  30              100          100          0.102795                       0.001037             0.340288           120.659283         \n",
       "7  FullNonDominatedSortingAndRanking  ZDT1  30              100          100          0.380576                       0.001006             0.295079           120.658752         "
      ]
     },
     "metadata": {},
     "output_type": "display_data"
    }
   ],
   "source": [
    "juphelpers.GeneralCases.open_csv(folderOfCSVs+\"/\"+CsvFileNameDiscret)"
   ]
  },
  {
   "cell_type": "code",
   "execution_count": 114,
   "metadata": {},
   "outputs": [
    {
     "data": {
      "image/png": "[encoded data removed]",
      "text/plain": [
       "<Figure size 1440x1440 with 4 Axes>"
      ]
     },
     "metadata": {
      "needs_background": "light"
     },
     "output_type": "display_data"
    }
   ],
   "source": [
    "# Boîte à moustaches\n",
    "juphelpers.bData.box_plot_solutions(list_of_solutions_discret)"
   ]
  },
  {
   "cell_type": "markdown",
   "metadata": {},
   "source": [
    "---\n",
    "<a id='Conclusion'></a>\n",
    "## 7. Conclusion"
   ]
  },
  {
   "cell_type": "markdown",
   "metadata": {},
   "source": [
    "Différents algorithmes d'optimisation multiobjectifs ont été testés et comparés à l'aide de différentes métaheuristiques. Certains algorithmes ont également été réalisés dans les deux versions (continue et binaire). Trois mesures ont été choisies pour comparer les algorithmes **(hypervolume, convergence et divergence)**.\n",
    "\n",
    "Les algorithmes génétiques binaires ont obtenu d’excellents résultats de hypervolume, de convergence et de divergence. Des algorithmes tels que Simple Cull, Full Non-Dominated Sorting and Ranking et Binary Tabu Search ont obtenu d’excellentes convergences, mais ce sont des algorithmes qui étudient l’espace de point entier pour chaque point, de sorte qu’ils ont des **complexités de $ O(N^2 \\cdot dim) $**, de sorte qu’ils auront un temps d’exécution long pour les grandes bases de données. Il convient également de noter que le PSA, même si c’est le processus qui utilise le moins d’informations sur tous les points, donne de bons résultats.\n",
    "\n",
    "La méthode MOGSA a en effet abouti à des résultats de convergence optimaux, comme le prévoyaient plusieurs articles. Même si la version binaire donne de bons résultats, c’est un algorithme dont **les opérateurs peuvent encore être exploités**. Comme indiqué précédemment, au moment de la création de ce code, il n'y a pas beaucoup d'informations sur une version version binaire de la méthode MOGSA, par conséquent, la version continue a été modifiée et un opérateur de mutation a été ajouté.\n",
    "\n",
    "Des algorithmes tels que Full Non-Dominated Sorting and Ranking, MOGSA, NSGSAII et NSGSAIII présentent un grand avantage: ils fournissent des fronts de Pareto secondaires, tertiaires, jusqu'au dernier point de la base de données ou population. Par conséquent, **NSGSAII et NSGAIII** étant une méthode cohérente et largement utilisée offrant de grands avantages (comme la vitesse), cet algorithme serait un excellent choix pour une utilisation dans des projets plus robustes (sans abandonner l'utilité de tester d'autres algorithmes et de réaliser une ingénierie de données pour sélectionner les meilleurs points des résultats NSGSAII et III pour améliorer la diversité).\n",
    "\n",
    "Donc, si le problème a peu des points, il est conseillé d’utiliser des algorithmes déterministes tels que **Simple Cull** et **Non-Dominated Sorting and Ranking**, en particulier ce dernier, car il fournit d’autres fronts secondaires, tiers, etc. Cependant, si il y a beaucoup de données, il est conseillé d’utiliser **SPEA2** (régler les paramètres pour optimiser la vitesse) pour avoir une bonne diversité ou d’utiliser **NSGAII** (peu de fonctions à optimiser) et **NSGAIII** (dans le cas de plusieurs fonctions à optimiser) pour obtenir, avec grande vitesse et presque constante, non seulement le front de Pareto, mais aussi d’autres fronts ainsi que Non-Dominated Sorting and Ranking algorithm. Quelle que soit la méthode utilisée, la distance d'encombrement (crowding distance) peut être utilisée pour réduire intelligemment le nombre de points dans le front de Pareto et continuer à avoir des points qui le décrivent bien (afin que la diversité soit améliorée)."
   ]
  },
  {
   "cell_type": "markdown",
   "metadata": {},
   "source": [
    "---\n",
    "<a id='AnnexeA'></a>\n",
    "## 8. Annexe A - Autres algorithmes"
   ]
  },
  {
   "cell_type": "markdown",
   "metadata": {},
   "source": [
    "<a id='ParetoAntColony'></a>\n",
    "### 8.1 Pareto Ant Colony"
   ]
  },
  {
   "cell_type": "markdown",
   "metadata": {},
   "source": [
    "#### 8.1.1 introduction"
   ]
  },
  {
   "cell_type": "markdown",
   "metadata": {},
   "source": [
    "L'idée est très simple. Ceci est un algorithme basé sur une colonie de fourmis et sur leur comportement. Les fourmis laissent des traces de phéromone à leur passage, faisant passer d'autres fourmis au même endroit. Une fourmi donnée suivrait le chemin avec plus de phéromones. Dans cet algorithme, les chemins qui ont les points les plus importants reçoivent plus de phéromone à chaque itération."
   ]
  },
  {
   "cell_type": "markdown",
   "metadata": {},
   "source": [
    "#### 8.1.2 Méthodologie"
   ]
  },
  {
   "cell_type": "markdown",
   "metadata": {},
   "source": [
    "Image prise à partir de [[1]](#PACO):\n",
    "![PseudocodePACO1](images/PACO1.png)\n",
    "![PseudocodePACO2](images/PACO2.png)"
   ]
  },
  {
   "cell_type": "markdown",
   "metadata": {},
   "source": [
    "#### 8.1.3 Discussion"
   ]
  },
  {
   "cell_type": "markdown",
   "metadata": {},
   "source": [
    "Tout d'abord à propos de P-ACO. C’est un algorithme très ouvert, c’est-à-dire qu’il est nécessaire de disposer d’informations initiales sur le problème et le jeu de données pour établir des règles différentes, pouvant même conduire à la recherche de bonnes solutions, mais n’appartenant pas à la courbe de Pareto en fonction de la critère de choix des 2 meilleures fourmis.\n",
    "\n",
    "Toujours en relation avec P-ACO, c’est un algorithme qu’il convient d’améliorer avec d’autres techniques (telle que l’approche de calcul des informations heuristiques dynamiques[[2]](#ModifiedPACO)) afin d’accroître sa robustesse. **Chaque technique peut augmenter de manière exponentielle la complexité de l'algorithme qui peut varier considérablement en fonction du nombre de fourmis et de points.**\n",
    "\n",
    "Enfin, il existe un algorithme appelé m-ACO selon lequel les fourmis pouvant trouver une courbe de Pareto seront récompensées. Cet algorithme se trouve dans la même situation que P-ACO en ce qui concerne les améliorations et, avec les améliorations, **le SPEA (version antérieure à SPEA2 qui, à son tour, donne des résultats pouvant être dépassés par la NSGAII) a des résultats proches ou meilleurs que le m-ACO**.[[3]](#m-ACO)"
   ]
  },
  {
   "cell_type": "markdown",
   "metadata": {},
   "source": [
    "##### 8.1.4 Bibliographie\n",
    "<a id='PACO'></a>\n",
    "1. https://link.springer.com/content/pdf/10.1023%2FB%3AANOR.0000039513.99038.c6.pdf\n",
    "<a id='ModifiedPACO'></a>\n",
    "2. https://www.hindawi.com/journals/ijae/2017/1746124/\n",
    "<a id='m-ACO'></a>\n",
    "3. https://www.researchgate.net/publication/4302134_Ant_Colony_Optimization_for_Multi-Objective_Optimization_Problems"
   ]
  },
  {
   "cell_type": "markdown",
   "metadata": {},
   "source": [
    "---\n",
    "<a id='MOPS'></a>\n",
    "### 8.2 Multi-Objective Particle Swarm"
   ]
  },
  {
   "cell_type": "markdown",
   "metadata": {},
   "source": [
    "#### 8.2.1 introduction"
   ]
  },
  {
   "cell_type": "markdown",
   "metadata": {},
   "source": [
    "C'est un algorithme qui tentera de manière itérative d'améliorer les résultats des candidats possibles (particules) par rapport aux différents objectifs tout en essayant d'établir une courbe de Pareto."
   ]
  },
  {
   "cell_type": "markdown",
   "metadata": {},
   "source": [
    "#### 8.2.2 Méthodologie\n",
    "Cet algorithme est très proche de [NSGSA](#NSGSA), où chaque particule va changer sa vitesse et sa position par rapport à une autre particule. Ce qui diffère, c'est que la mise à jour (qui concerne uniquement la position et la vitesse) est mise à jour par rapport à un point singulier (la \"particule principale\") et aux informations de la particule en cours de mise à jour (en tant que meilleure position)."
   ]
  },
  {
   "cell_type": "markdown",
   "metadata": {},
   "source": [
    "Image prise à partir de [[1]](#HumanInteractionMultiObjectivePSO):\n",
    "![MOPSO-PSEUDO](images/MOPSO-PSEUDO.png)\n",
    "![MOPSO-PSEUDO2](images/MOPSO-PSEUDO2.png)"
   ]
  },
  {
   "cell_type": "markdown",
   "metadata": {},
   "source": [
    "#### 8.2.3 Discussion\n",
    "\n",
    "Il convient de noter qu'il s'agit d'une méthode moins robuste que [NSGSA](#NSGSA), dans laquelle seules les informations en deux points seront prises en compte pour les mises à jour. En fait, selon les résultats illustrés dans [[1]](#HumanInteractionMultiObjectivePSO), dans un cas, l’algorithme privilégiait un objectif plus que l’autre dans la recherche de la courbe de Pareto, tandis que dans l’autre, il classait certains points non dominés en points dominés."
   ]
  },
  {
   "cell_type": "markdown",
   "metadata": {},
   "source": [
    "##### 8.2.4 Bibliographie\n",
    "<a id='HumanInteractionMultiObjectivePSO'></a>\n",
    "1. https://www.sciencedirect.com/science/article/pii/S0895717710000695#fd9"
   ]
  },
  {
   "cell_type": "markdown",
   "metadata": {
    "slideshow": {
     "slide_type": "slide"
    }
   },
   "source": [
    "## Bibliographie Générale\n",
    "<a id='BGNSGAII'></a>\n",
    "1. [Results avec NSGAII](https://www.researchgate.net/figure/Comparison-between-GA-NSGA-II-and-NSGA_fig1_235697487)\n",
    "<a id='BGNSGSA'></a>\n",
    "2. [Resultats avec NSGSA](http://icsi11.eisti.fr/papers/paper_12.pdf)\n",
    "<a id='BGComp'></a>\n",
    "3. [Comparaison entre différents algorithmes](https://www.google.com/url?sa=i&rct=j&q=&esrc=s&source=images&cd=&ved=2ahUKEwjY7aijlonjAhVr8-AKHVI4C_cQ5TV6BAgBEAs&url=http%3A%2F%2Fwww.itiis.org%2Fdigital-library%2Fmanuscript%2Ffile%2F1714%2FTIIS%2BVol%2B11%2C%2BNo%2B6-5.pdf&psig=AOvVaw3iiTXtf-9Qy0ZPYB8Zk8Cp&ust=1561708052099278)\n",
    "<a id='metriquesconvergenceetdiversity'></a>\n",
    "4. [Metrics: convergence and diversity](https://deap.readthedocs.io/en/master/api/benchmarks.html)\n",
    "<a id='metriqueshypervolume'></a>\n",
    "5. [Metrics: hypervolume](https://hal.inria.fr/inria-00638989/file/tcspaper.pdf)\n",
    "<a id='paretofrontexpl'></a>\n",
    "6. [Pareto front](https://en.wikipedia.org/wiki/Pareto_efficiency)"
   ]
  }
 ],
 "metadata": {
  "celltoolbar": "Slideshow",
  "kernelspec": {
   "display_name": "Python 3",
   "language": "python",
   "name": "python3"
  },
  "language_info": {
   "codemirror_mode": {
    "name": "ipython",
    "version": 3
   },
   "file_extension": ".py",
   "mimetype": "text/x-python",
   "name": "python",
   "nbconvert_exporter": "python",
   "pygments_lexer": "ipython3",
   "version": "3.6.8"
  },
  "varInspector": {
   "cols": {
    "lenName": 16,
    "lenType": 16,
    "lenVar": 40
   },
   "kernels_config": {
    "python": {
     "delete_cmd_postfix": "",
     "delete_cmd_prefix": "del ",
     "library": "var_list.py",
     "varRefreshCmd": "print(var_dic_list())"
    },
    "r": {
     "delete_cmd_postfix": ") ",
     "delete_cmd_prefix": "rm(",
     "library": "var_list.r",
     "varRefreshCmd": "cat(var_dic_list()) "
    }
   },
   "types_to_exclude": [
    "module",
    "function",
    "builtin_function_or_method",
    "instance",
    "_Feature"
   ],
   "window_display": false
  }
 },
 "nbformat": 4,
 "nbformat_minor": 2
}
